{
 "cells": [
  {
   "cell_type": "markdown",
   "metadata": {},
   "source": [
    "### 4개의 입력데이터 연산 (A1-A2+A3-A4) 예측하는 Linear Regression Batch 예제"
   ]
  },
  {
   "cell_type": "code",
   "execution_count": 1,
   "metadata": {
    "collapsed": false
   },
   "outputs": [
    {
     "name": "stdout",
     "output_type": "stream",
     "text": [
      "loaded_data.ndim =  2 , loaded_data.shape =  (50, 5)\n",
      "x_data.ndim =  2 , x_data.shape =  (50, 4)\n",
      "t_data.ndim =  2 , t_data.shape =  (50, 1)\n"
     ]
    }
   ],
   "source": [
    "import numpy as np\n",
    "from datetime import datetime\n",
    "\n",
    "loaded_data = np.loadtxt('./regression_testdata_03.csv', delimiter=',', dtype=np.float32)\n",
    "\n",
    "x_data = loaded_data[ :, 0:-1]\n",
    "t_data = loaded_data[ :, [-1]]\n",
    "\n",
    "# 데이터 차원 및 shape 확인\n",
    "print(\"loaded_data.ndim = \", loaded_data.ndim, \", loaded_data.shape = \", loaded_data.shape)\n",
    "print(\"x_data.ndim = \", x_data.ndim, \", x_data.shape = \", x_data.shape)\n",
    "print(\"t_data.ndim = \", t_data.ndim, \", t_data.shape = \", t_data.shape) "
   ]
  },
  {
   "cell_type": "code",
   "execution_count": 2,
   "metadata": {
    "collapsed": false
   },
   "outputs": [
    {
     "name": "stdout",
     "output_type": "stream",
     "text": [
      "W =  [[0.33681473]\n",
      " [0.20553942]\n",
      " [0.06073207]\n",
      " [0.27404722]] , W.shape =  (4, 1) , b =  [0.91106572] , b.shape =  (1,)\n"
     ]
    }
   ],
   "source": [
    "W = np.random.rand(4,1)  # 4X1 행렬\n",
    "b = np.random.rand(1)  \n",
    "print(\"W = \", W, \", W.shape = \", W.shape, \", b = \", b, \", b.shape = \", b.shape)"
   ]
  },
  {
   "cell_type": "code",
   "execution_count": 3,
   "metadata": {
    "collapsed": true
   },
   "outputs": [],
   "source": [
    "def loss_func(x, t):\n",
    "    y = np.dot(x,W) + b\n",
    "    \n",
    "    return ( np.sum( (t - y)**2 ) ) / ( len(x) )"
   ]
  },
  {
   "cell_type": "code",
   "execution_count": 4,
   "metadata": {
    "collapsed": true
   },
   "outputs": [],
   "source": [
    "def numerical_derivative(f, x):\n",
    "    delta_x = 1e-4 # 0.0001\n",
    "    grad = np.zeros_like(x)\n",
    "    \n",
    "    it = np.nditer(x, flags=['multi_index'], op_flags=['readwrite'])\n",
    "    \n",
    "    while not it.finished:\n",
    "        idx = it.multi_index        \n",
    "        tmp_val = x[idx]\n",
    "        x[idx] = float(tmp_val) + delta_x\n",
    "        fx1 = f(x) # f(x+delta_x)\n",
    "        \n",
    "        x[idx] = tmp_val - delta_x \n",
    "        fx2 = f(x) # f(x-delta_x)\n",
    "        grad[idx] = (fx1 - fx2) / (2*delta_x)\n",
    "        \n",
    "        x[idx] = tmp_val \n",
    "        it.iternext()   \n",
    "        \n",
    "    return grad"
   ]
  },
  {
   "cell_type": "code",
   "execution_count": 5,
   "metadata": {
    "collapsed": false
   },
   "outputs": [],
   "source": [
    "# 손실함수 값 계산 함수\n",
    "# 입력변수 x, t : numpy type\n",
    "def error_val(x, t):\n",
    "    y = np.dot(x,W) + b\n",
    "    \n",
    "    return ( np.sum( (t - y)**2 ) ) / ( len(x) )\n",
    "\n",
    "# 학습을 마친 후, 임의의 데이터에 대해 미래 값 예측 함수\n",
    "# 입력변수 x : numpy type\n",
    "def predict(x):\n",
    "    y = np.dot(x,W) + b\n",
    "    \n",
    "    return y"
   ]
  },
  {
   "cell_type": "code",
   "execution_count": 6,
   "metadata": {
    "collapsed": false
   },
   "outputs": [
    {
     "name": "stdout",
     "output_type": "stream",
     "text": [
      "Initial error value =  40.15018376386138 Initial W =  [[0.33681473]\n",
      " [0.20553942]\n",
      " [0.06073207]\n",
      " [0.27404722]] \n",
      " , b =  [0.91106572]\n",
      "step =  0 error value =  40.13538054864837\n",
      "step =  5000 error value =  7.278812993630228\n",
      "step =  10000 error value =  1.590461360944358\n",
      "step =  15000 error value =  0.5120066265691473\n",
      "step =  20000 error value =  0.28407236008378556\n",
      "step =  25000 error value =  0.22048992796764977\n",
      "step =  30000 error value =  0.19118946909826778\n",
      "step =  35000 error value =  0.17050318325925995\n",
      "step =  40000 error value =  0.15307666268965697\n",
      "step =  45000 error value =  0.13765081489222886\n",
      "step =  50000 error value =  0.12382711680134603\n",
      "step =  55000 error value =  0.11140212976226062\n",
      "step =  60000 error value =  0.10022619684628342\n",
      "step =  65000 error value =  0.0901719559242955\n",
      "step =  70000 error value =  0.08112642650551667\n",
      "step =  75000 error value =  0.07298831821705037\n",
      "step =  80000 error value =  0.0656665811532358\n",
      "step =  85000 error value =  0.05907931682922731\n",
      "step =  90000 error value =  0.05315284632540575\n",
      "step =  95000 error value =  0.04782088264059385\n",
      "step =  100000 error value =  0.04302378847948237\n",
      "step =  105000 error value =  0.03870790903687682\n",
      "step =  110000 error value =  0.034824971835411105\n",
      "step =  115000 error value =  0.03133154679558703\n",
      "step =  120000 error value =  0.028188560474556108\n",
      "step =  125000 error value =  0.025360859034914696\n",
      "step =  130000 error value =  0.022816815054096603\n",
      "step =  135000 error value =  0.020527973776292376\n",
      "step =  140000 error value =  0.01846873485020184\n",
      "step =  145000 error value =  0.016616065992884475\n",
      "step =  150000 error value =  0.014949245377080297\n",
      "step =  155000 error value =  0.013449629860633867\n",
      "step =  160000 error value =  0.012100446465705392\n",
      "step =  165000 error value =  0.010886604775494042\n",
      "step =  170000 error value =  0.009794528150156342\n",
      "step =  175000 error value =  0.00881200187409664\n",
      "step =  180000 error value =  0.007928036536180032\n",
      "step =  185000 error value =  0.00713274511479251\n",
      "step =  190000 error value =  0.0064172323929664885\n",
      "step =  195000 error value =  0.005773495466694049\n",
      "step =  200000 error value =  0.005194334233628708\n",
      "step =  205000 error value =  0.004673270861005266\n",
      "step =  210000 error value =  0.004204477332037861\n",
      "step =  215000 error value =  0.0037827102604144646\n",
      "step =  220000 error value =  0.003403252243795416\n",
      "step =  225000 error value =  0.0030618591003661825\n",
      "step =  230000 error value =  0.0027547123982910988\n",
      "step =  235000 error value =  0.0024783767471178247\n",
      "step =  240000 error value =  0.002229761373443189\n",
      "step =  245000 error value =  0.0020060855510692275\n",
      "step =  250000 error value =  0.0018048474989923774\n",
      "step =  255000 error value =  0.001623796399352397\n",
      "step =  260000 error value =  0.0014609072223674164\n",
      "step =  265000 error value =  0.0013143580766754436\n",
      "step =  270000 error value =  0.0011825098317485752\n",
      "step =  275000 error value =  0.0010638877844605056\n",
      "step =  280000 error value =  0.0009571651647501352\n",
      "step =  285000 error value =  0.0008611482958945497\n",
      "step =  290000 error value =  0.0007747632434112628\n",
      "step =  295000 error value =  0.0006970438032599128\n",
      "step =  300000 error value =  0.0006271206949929688\n",
      "step =  305000 error value =  0.0005642118389822172\n",
      "step =  310000 error value =  0.0005076136089740742\n",
      "step =  315000 error value =  0.000456692962133662\n",
      "step =  320000 error value =  0.0004108803585545091\n",
      "step =  325000 error value =  0.00036966339103876295\n",
      "step =  330000 error value =  0.0003325810538985886\n",
      "step =  335000 error value =  0.00029921858667552535\n",
      "step =  340000 error value =  0.0002692028351061728\n",
      "step =  345000 error value =  0.00024219807744692648\n",
      "step =  350000 error value =  0.00021790226947589759\n",
      "step =  355000 error value =  0.00019604366617301768\n",
      "step =  360000 error value =  0.0001763777822920454\n",
      "step =  365000 error value =  0.00015868465782924935\n",
      "step =  370000 error value =  0.00014276639780340776\n",
      "step =  375000 error value =  0.00012844495882954906\n",
      "step =  380000 error value =  0.00011556015773012911\n",
      "step =  385000 error value =  0.00010396787990984199\n",
      "step =  390000 error value =  9.353846745508298e-05\n",
      "step =  395000 error value =  8.415526892953909e-05\n",
      "step =  400000 error value =  7.571333464496736e-05\n",
      "step =  405000 error value =  6.811824281446607e-05\n",
      "step =  410000 error value =  6.128504345884699e-05\n",
      "step =  415000 error value =  5.513730825356593e-05\n",
      "step =  420000 error value =  4.960627568928092e-05\n",
      "step =  425000 error value =  4.463008198449613e-05\n",
      "step =  430000 error value =  4.015306914832901e-05\n",
      "step =  435000 error value =  3.6125162454117565e-05\n",
      "step =  440000 error value =  3.250131036099089e-05\n",
      "step =  445000 error value =  2.9240980619075987e-05\n",
      "step =  450000 error value =  2.630770692221886e-05\n",
      "step =  455000 error value =  2.3668681037796657e-05\n",
      "step =  460000 error value =  2.1294385851460354e-05\n",
      "step =  465000 error value =  1.9158265222583125e-05\n",
      "step =  470000 error value =  1.7236426957755164e-05\n",
      "step =  475000 error value =  1.5507375580107148e-05\n",
      "step =  480000 error value =  1.3951771905624893e-05\n",
      "step =  485000 error value =  1.2552216737196242e-05\n",
      "step =  490000 error value =  1.1293056257181251e-05\n",
      "step =  495000 error value =  1.0160206941768664e-05\n",
      "step =  500000 error value =  9.140998038856514e-06\n",
      "\n",
      "Elapsed Time =>  0:01:29.995000\n"
     ]
    }
   ],
   "source": [
    "learning_rate = 1e-5  # 1e-2, 1e-3 은 손실함수 값 발산\n",
    "\n",
    "f = lambda x : loss_func(x_data,t_data)\n",
    "\n",
    "print(\"Initial error value = \", error_val(x_data, t_data), \"Initial W = \", W, \"\\n\", \", b = \", b )\n",
    "\n",
    "start_time = datetime.now()\n",
    "\n",
    "for step in  range(500001):    # 50만번 반복수행\n",
    "    \n",
    "    W -= learning_rate * numerical_derivative(f, W)\n",
    "    \n",
    "    b -= learning_rate * numerical_derivative(f, b)\n",
    "    \n",
    "    if (step % 5000 == 0):\n",
    "        print(\"step = \", step, \"error value = \", error_val(x_data, t_data) )\n",
    "        \n",
    "end_time = datetime.now()\n",
    "        \n",
    "print(\"\")\n",
    "print(\"Elapsed Time => \", end_time - start_time)"
   ]
  },
  {
   "cell_type": "code",
   "execution_count": 7,
   "metadata": {
    "collapsed": false
   },
   "outputs": [
    {
     "name": "stdout",
     "output_type": "stream",
     "text": [
      "predicted value =  [-0.00043529]\n"
     ]
    }
   ],
   "source": [
    "ex_data_01 = np.array([4, 4, 4, 4])    #  4 - 4 + 4 - 4 = 0\n",
    "\n",
    "print(\"predicted value = \", predict(ex_data_01) ) "
   ]
  },
  {
   "cell_type": "code",
   "execution_count": 8,
   "metadata": {
    "collapsed": false
   },
   "outputs": [
    {
     "name": "stdout",
     "output_type": "stream",
     "text": [
      "predicted value =  [7.00527209]\n"
     ]
    }
   ],
   "source": [
    "ex_data_02 = np.array([-3, 0, 9, -1])    #  -3 -0 +9 -(-1) = 7\n",
    "\n",
    "print(\"predicted value = \", predict(ex_data_02) ) "
   ]
  },
  {
   "cell_type": "code",
   "execution_count": 9,
   "metadata": {
    "collapsed": false
   },
   "outputs": [
    {
     "name": "stdout",
     "output_type": "stream",
     "text": [
      "predicted value =  [-7.98967063]\n"
     ]
    }
   ],
   "source": [
    "ex_data_03 = np.array([-7, -9, -2, 8])   # -7 -(-9) + (-2) -8 = -8\n",
    "\n",
    "print(\"predicted value = \", predict(ex_data_03) ) "
   ]
  },
  {
   "cell_type": "code",
   "execution_count": 10,
   "metadata": {
    "collapsed": false
   },
   "outputs": [
    {
     "name": "stdout",
     "output_type": "stream",
     "text": [
      "predicted value =  [8.00459431]\n"
     ]
    }
   ],
   "source": [
    "ex_data_04 = np.array([1, -2, 3, -2])   # 1 -(-2) + 3 -(-2) = 8\n",
    "\n",
    "print(\"predicted value = \", predict(ex_data_04) ) "
   ]
  },
  {
   "cell_type": "code",
   "execution_count": 11,
   "metadata": {
    "collapsed": false
   },
   "outputs": [
    {
     "name": "stdout",
     "output_type": "stream",
     "text": [
      "predicted value =  [107.01129375]\n"
     ]
    }
   ],
   "source": [
    "ex_data_05 = np.array([19, -12, 0, -76])   # 19 -(-12) + 0 -(-76) = 107\n",
    "\n",
    "print(\"predicted value = \", predict(ex_data_05) ) "
   ]
  },
  {
   "cell_type": "code",
   "execution_count": 12,
   "metadata": {
    "collapsed": false
   },
   "outputs": [
    {
     "name": "stdout",
     "output_type": "stream",
     "text": [
      "predicted value =  [2078.98943234]\n"
     ]
    }
   ],
   "source": [
    "ex_data_06 = np.array([2001, -1, 109, 31])   # 2001 -(-1) + 109 -(31) = 2080\n",
    "\n",
    "print(\"predicted value = \", predict(ex_data_06) ) "
   ]
  },
  {
   "cell_type": "code",
   "execution_count": null,
   "metadata": {
    "collapsed": true
   },
   "outputs": [],
   "source": []
  }
 ],
 "metadata": {
  "anaconda-cloud": {},
  "kernelspec": {
   "display_name": "Python [default]",
   "language": "python",
   "name": "python3"
  },
  "language_info": {
   "codemirror_mode": {
    "name": "ipython",
    "version": 3
   },
   "file_extension": ".py",
   "mimetype": "text/x-python",
   "name": "python",
   "nbconvert_exporter": "python",
   "pygments_lexer": "ipython3",
   "version": "3.5.2"
  }
 },
 "nbformat": 4,
 "nbformat_minor": 1
}
