{
 "cells": [
  {
   "cell_type": "markdown",
   "metadata": {},
   "source": [
    "## Class 를 이용하여 data-01.csv 선형회귀 구현\n",
    "## 입력을 vector 받는 경우 테스트"
   ]
  },
  {
   "cell_type": "code",
   "execution_count": 1,
   "metadata": {
    "collapsed": true
   },
   "outputs": [],
   "source": [
    "import numpy as np\n",
    "from datetime import datetime\n",
    "\n",
    "class LinearRegressionTest:\n",
    "    \n",
    "    # constructor\n",
    "    def __init__(self, xdata, tdata, learning_rate, iteration_count):\n",
    "            \n",
    "        # 가중치 W 형상을 자동으로 구하기 위해 입력데이터가 vector 인지,\n",
    "        # 아니면 matrix 인지 체크 후, \n",
    "        # self.xdata 는 무조건 matrix 로 만들어 주면 코드 일관성이 있음\n",
    "        \n",
    "        if xdata.ndim == 1:    # vector\n",
    "            self.xdata = xdata.reshape(len(xdata), 1)\n",
    "            self.tdata = xdata.reshape(len(tdata), 1)\n",
    "            \n",
    "        elif xdata.ndim == 2:  # matrix\n",
    "            self.xdata = xdata\n",
    "            self.tdata = tdata\n",
    "        \n",
    "        self.learning_rate = learning_rate\n",
    "        self.iteration_count = iteration_count\n",
    "        \n",
    "        self.W = np.random.rand(self.xdata.shape[1], 1) \n",
    "        self.b = np.random.rand(1)\n",
    "        \n",
    "        print(\"LinearRegressionTest Object is created\")\n",
    "        \n",
    "    \n",
    "    # obtain current W and current b\n",
    "    def getW_b(self):\n",
    "        \n",
    "        return self.W, self.b\n",
    "    \n",
    "    \n",
    "    # loss function\n",
    "    def loss_func(self):\n",
    "        \n",
    "        y = np.dot(self.xdata, self.W) + self.b\n",
    "    \n",
    "        return ( np.sum( (self.tdata - y)**2 ) ) / ( len(self.xdata) )\n",
    "        \n",
    "    \n",
    "    # display current error value\n",
    "    def error_val(self):\n",
    "        \n",
    "        y = np.dot(self.xdata, self.W) + self.b\n",
    "    \n",
    "        return ( np.sum( (self.tdata - y)**2 ) ) / ( len(self.xdata) )\n",
    "    \n",
    "    \n",
    "    # predict method\n",
    "    def predict(self, test_data):\n",
    "        \n",
    "        y = np.dot(test_data, self.W) + self.b\n",
    "        \n",
    "        return y\n",
    "    \n",
    "    \n",
    "    # train method\n",
    "    def train(self):\n",
    "    \n",
    "        f = lambda x : self.loss_func()\n",
    "\n",
    "        print(\"Initial error value = \", self.error_val(), \"Initial W = \", self.W, \"\\n\", \", b = \", self.b )\n",
    "\n",
    "        start_time = datetime.now()\n",
    "        \n",
    "        for step in  range(self.iteration_count):  \n",
    "    \n",
    "            self.W -= self.learning_rate * numerical_derivative(f, self.W)\n",
    "    \n",
    "            self.b -= self.learning_rate * numerical_derivative(f, self.b)\n",
    "    \n",
    "            if (step % 400 == 0):\n",
    "                print(\"step = \", step, \"error value = \", self.error_val(), \"W = \", self.W, \", b = \", self.b )\n",
    "                \n",
    "        end_time = datetime.now()\n",
    "        \n",
    "        print(\"\")\n",
    "        print(\"Elapsed Time => \", end_time - start_time)"
   ]
  },
  {
   "cell_type": "code",
   "execution_count": 2,
   "metadata": {
    "collapsed": true
   },
   "outputs": [],
   "source": [
    "def numerical_derivative(f, x):\n",
    "    delta_x = 1e-4 # 0.0001\n",
    "    grad = np.zeros_like(x)\n",
    "    \n",
    "    it = np.nditer(x, flags=['multi_index'], op_flags=['readwrite'])\n",
    "    \n",
    "    while not it.finished:\n",
    "        idx = it.multi_index        \n",
    "        tmp_val = x[idx]\n",
    "        x[idx] = float(tmp_val) + delta_x\n",
    "        fx1 = f(x) # f(x+delta_x)\n",
    "        \n",
    "        x[idx] = tmp_val - delta_x \n",
    "        fx2 = f(x) # f(x-delta_x)\n",
    "        grad[idx] = (fx1 - fx2) / (2*delta_x)\n",
    "        \n",
    "        x[idx] = tmp_val \n",
    "        it.iternext()   \n",
    "        \n",
    "    return grad"
   ]
  },
  {
   "cell_type": "code",
   "execution_count": 3,
   "metadata": {},
   "outputs": [
    {
     "name": "stdout",
     "output_type": "stream",
     "text": [
      "x_data.ndim =  2 , x_data.shape =  (25, 3)\n",
      "t_data.ndim =  2 , t_data.shape =  (25, 1)\n"
     ]
    }
   ],
   "source": [
    "loaded_data = np.loadtxt('./data-01.csv', delimiter=',', dtype=np.float32)\n",
    "\n",
    "x_data = loaded_data[ :, 0:-1]\n",
    "t_data = loaded_data[ :, [-1]]\n",
    "\n",
    "# 데이터 차원 및 shape 확인\n",
    "print(\"x_data.ndim = \", x_data.ndim, \", x_data.shape = \", x_data.shape)\n",
    "print(\"t_data.ndim = \", t_data.ndim, \", t_data.shape = \", t_data.shape) "
   ]
  },
  {
   "cell_type": "markdown",
   "metadata": {},
   "source": [
    "### learning_rate = 1e-5,  반복횟수 10,000번 수행하는 obj1\n",
    "### 입력 xdata 는 (25, 3) 행렬 데이터 타입"
   ]
  },
  {
   "cell_type": "code",
   "execution_count": 4,
   "metadata": {},
   "outputs": [
    {
     "name": "stdout",
     "output_type": "stream",
     "text": [
      "LinearRegressionTest Object is created\n",
      "Initial error value =  7121.208477466941 Initial W =  [[0.1921415 ]\n",
      " [0.44467335]\n",
      " [0.33849799]] \n",
      " , b =  [0.49370806]\n",
      "step =  0 error value =  2640.642006564821 W =  [[0.32682412]\n",
      " [0.5800138 ]\n",
      " [0.47730795]] , b =  [0.49472253]\n",
      "step =  400 error value =  10.434354388226932 W =  [[0.51733279]\n",
      " [0.74190752]\n",
      " [0.75756236]] , b =  [0.49602261]\n",
      "step =  800 error value =  9.20887353150514 W =  [[0.50080785]\n",
      " [0.7020375 ]\n",
      " [0.81258776]] , b =  [0.49567713]\n",
      "step =  1200 error value =  8.341914330560787 W =  [[0.48604672]\n",
      " [0.66915604]\n",
      " [0.85907042]] , b =  [0.49527187]\n",
      "step =  1600 error value =  7.7276593371171804 W =  [[0.47285033]\n",
      " [0.64207768]\n",
      " [0.89836213]] , b =  [0.49481607]\n",
      "step =  2000 error value =  7.291693205161807 W =  [[0.46104369]\n",
      " [0.61981456]\n",
      " [0.93159824]] , b =  [0.49431754]\n",
      "step =  2400 error value =  6.981652624440568 W =  [[0.45047267]\n",
      " [0.60154379]\n",
      " [0.95973256]] , b =  [0.49378283]\n",
      "step =  2800 error value =  6.760665976460043 W =  [[0.4410014 ]\n",
      " [0.58658023]\n",
      " [0.98356663]] , b =  [0.4932175]\n",
      "step =  3200 error value =  6.60274931984814 W =  [[0.43250992]\n",
      " [0.57435362]\n",
      " [1.00377421]] , b =  [0.4926262]\n",
      "step =  3600 error value =  6.489574466392827 W =  [[0.42489217]\n",
      " [0.56438965]\n",
      " [1.02092186]] , b =  [0.49201288]\n",
      "step =  4000 error value =  6.408199541001617 W =  [[0.41805429]\n",
      " [0.55629395]\n",
      " [1.03548611]] , b =  [0.49138087]\n",
      "step =  4400 error value =  6.349474824279533 W =  [[0.41191309]\n",
      " [0.54973887]\n",
      " [1.04786797]] , b =  [0.49073299]\n",
      "step =  4800 error value =  6.306922479663806 W =  [[0.40639477]\n",
      " [0.54445236]\n",
      " [1.05840499]] , b =  [0.4900716]\n",
      "step =  5200 error value =  6.275948917201914 W =  [[0.40143376]\n",
      " [0.54020868]\n",
      " [1.06738146]] , b =  [0.48939873]\n",
      "step =  5600 error value =  6.2532907161944165 W =  [[0.39697177]\n",
      " [0.53682069]\n",
      " [1.07503687]] , b =  [0.48871608]\n",
      "step =  6000 error value =  6.236624596396508 W =  [[0.39295692]\n",
      " [0.53413338]\n",
      " [1.08157312]] , b =  [0.48802508]\n",
      "step =  6400 error value =  6.224292660916868 W =  [[0.38934297]\n",
      " [0.53201849]\n",
      " [1.08716048]] , b =  [0.48732698]\n",
      "step =  6800 error value =  6.215108674628502 W =  [[0.38608869]\n",
      " [0.53036997]\n",
      " [1.0919426 ]] , b =  [0.4866228]\n",
      "step =  7200 error value =  6.208221341030253 W =  [[0.38315727]\n",
      " [0.5291003 ]\n",
      " [1.09604081]] , b =  [0.48591343]\n",
      "step =  7600 error value =  6.203017695626003 W =  [[0.38051584]\n",
      " [0.52813728]\n",
      " [1.09955757]] , b =  [0.48519962]\n",
      "step =  8000 error value =  6.199054754541345 W =  [[0.37813499]\n",
      " [0.52742151]\n",
      " [1.10257953]] , b =  [0.48448201]\n",
      "step =  8400 error value =  6.196011080863847 W =  [[0.37598841]\n",
      " [0.52690412]\n",
      " [1.10517996]] , b =  [0.48376115]\n",
      "step =  8800 error value =  6.19365240504212 W =  [[0.37405256]\n",
      " [0.52654507]\n",
      " [1.10742093]] , b =  [0.4830375]\n",
      "step =  9200 error value =  6.1918071730009 W =  [[0.37230632]\n",
      " [0.52631153]\n",
      " [1.10935499]] , b =  [0.48231146]\n",
      "step =  9600 error value =  6.190349116164148 W =  [[0.37073075]\n",
      " [0.52617672]\n",
      " [1.11102672]] , b =  [0.48158337]\n",
      "step =  10000 error value =  6.189184795423012 W =  [[0.36930889]\n",
      " [0.52611881]\n",
      " [1.11247395]] , b =  [0.48085352]\n",
      "\n",
      "Elapsed Time =>  0:00:01.558000\n"
     ]
    }
   ],
   "source": [
    "# 입력 xdata 는 (25, 3) 행렬 데이터 타입\n",
    "\n",
    "obj1 = LinearRegressionTest(x_data, t_data, 1e-5, 10001)\n",
    "\n",
    "obj1.train()"
   ]
  },
  {
   "cell_type": "code",
   "execution_count": 5,
   "metadata": {},
   "outputs": [
    {
     "data": {
      "text/plain": [
       "array([179.08177577])"
      ]
     },
     "execution_count": 5,
     "metadata": {},
     "output_type": "execute_result"
    }
   ],
   "source": [
    "test_data = np.array([100, 98, 81])\n",
    "\n",
    "obj1.predict(test_data) "
   ]
  },
  {
   "cell_type": "markdown",
   "metadata": {},
   "source": [
    "### learning_rate = 1e-5,  반복횟수 10,000번 수행하는 obj2\n",
    "### 입력 xdata 는 (10, 1) 벡터 데이터 타입"
   ]
  },
  {
   "cell_type": "code",
   "execution_count": 6,
   "metadata": {},
   "outputs": [
    {
     "name": "stdout",
     "output_type": "stream",
     "text": [
      "x_data.shape =  (60,) , t_data.shape =  (60,)\n"
     ]
    }
   ],
   "source": [
    "x_data = np.array([ data  for  data  in range(-10, 50) ])\n",
    "t_data = np.array([ 2*data-1  for  data  in range(-10, 50) ])\n",
    "\n",
    "print('x_data.shape = ', x_data.shape, ', t_data.shape = ', t_data.shape)"
   ]
  },
  {
   "cell_type": "code",
   "execution_count": 7,
   "metadata": {},
   "outputs": [
    {
     "name": "stdout",
     "output_type": "stream",
     "text": [
      "LinearRegressionTest Object is created\n",
      "Initial error value =  556.2746886759973 Initial W =  [[0.09520812]] \n",
      " , b =  [0.01538423]\n",
      "step =  0 error value =  541.2311566642445 W =  [[0.10751031]] , b =  [0.01573199]\n",
      "step =  400 error value =  0.010083573993067946 W =  [[0.99512477]] , b =  [0.04070529]\n",
      "step =  800 error value =  0.0007293836391232514 W =  [[0.99881796]] , b =  [0.04066609]\n",
      "step =  1200 error value =  0.00072409939796308 W =  [[0.9988374]] , b =  [0.04052344]\n",
      "step =  1600 error value =  0.0007190128447764968 W =  [[0.99884155]] , b =  [0.04038086]\n",
      "step =  2000 error value =  0.0007139620265275561 W =  [[0.99884563]] , b =  [0.04023878]\n",
      "step =  2400 error value =  0.000708946688545523 W =  [[0.99884969]] , b =  [0.0400972]\n",
      "step =  2800 error value =  0.0007039665815899815 W =  [[0.99885374]] , b =  [0.03995612]\n",
      "step =  3200 error value =  0.0006990214581750865 W =  [[0.99885777]] , b =  [0.03981553]\n",
      "step =  3600 error value =  0.0006941110725534556 W =  [[0.99886179]] , b =  [0.03967544]\n",
      "step =  4000 error value =  0.0006892351807040622 W =  [[0.99886579]] , b =  [0.03953584]\n",
      "step =  4400 error value =  0.0006843935403199709 W =  [[0.99886979]] , b =  [0.03939673]\n",
      "step =  4800 error value =  0.0006795859107964125 W =  [[0.99887376]] , b =  [0.03925811]\n",
      "step =  5200 error value =  0.0006748120532187988 W =  [[0.99887772]] , b =  [0.03911998]\n",
      "step =  5600 error value =  0.0006700717303507975 W =  [[0.99888167]] , b =  [0.03898234]\n",
      "step =  6000 error value =  0.0006653647066225554 W =  [[0.99888561]] , b =  [0.03884518]\n",
      "step =  6400 error value =  0.0006606907481191092 W =  [[0.99888953]] , b =  [0.0387085]\n",
      "step =  6800 error value =  0.0006560496225685696 W =  [[0.99889344]] , b =  [0.03857231]\n",
      "step =  7200 error value =  0.0006514410993307561 W =  [[0.99889733]] , b =  [0.03843659]\n",
      "step =  7600 error value =  0.0006468649493855875 W =  [[0.99890121]] , b =  [0.03830135]\n",
      "step =  8000 error value =  0.000642320945321851 W =  [[0.99890508]] , b =  [0.03816658]\n",
      "step =  8400 error value =  0.000637808861325759 W =  [[0.99890893]] , b =  [0.03803229]\n",
      "step =  8800 error value =  0.0006333284731697422 W =  [[0.99891277]] , b =  [0.03789848]\n",
      "step =  9200 error value =  0.000628879558201471 W =  [[0.99891659]] , b =  [0.03776513]\n",
      "step =  9600 error value =  0.0006244618953326016 W =  [[0.9989204]] , b =  [0.03763225]\n",
      "step =  10000 error value =  0.0006200752650278758 W =  [[0.9989242]] , b =  [0.03749984]\n",
      "step =  10400 error value =  0.0006157194492941541 W =  [[0.99892799]] , b =  [0.0373679]\n",
      "step =  10800 error value =  0.0006113942316697227 W =  [[0.99893176]] , b =  [0.03723642]\n",
      "step =  11200 error value =  0.0006070993972133247 W =  [[0.99893552]] , b =  [0.0371054]\n",
      "step =  11600 error value =  0.0006028347324936443 W =  [[0.99893926]] , b =  [0.03697485]\n",
      "step =  12000 error value =  0.0005986000255786669 W =  [[0.998943]] , b =  [0.03684475]\n",
      "step =  12400 error value =  0.0005943950660250905 W =  [[0.99894672]] , b =  [0.03671511]\n",
      "step =  12800 error value =  0.0005902196448679599 W =  [[0.99895042]] , b =  [0.03658593]\n",
      "step =  13200 error value =  0.0005860735546101001 W =  [[0.99895411]] , b =  [0.0364572]\n",
      "step =  13600 error value =  0.0005819565892121149 W =  [[0.99895779]] , b =  [0.03632893]\n",
      "step =  14000 error value =  0.0005778685440818006 W =  [[0.99896146]] , b =  [0.0362011]\n",
      "step =  14400 error value =  0.0005738092160642475 W =  [[0.99896512]] , b =  [0.03607373]\n",
      "step =  14800 error value =  0.0005697784034315748 W =  [[0.99896876]] , b =  [0.0359468]\n",
      "step =  15200 error value =  0.0005657759058730192 W =  [[0.99897239]] , b =  [0.03582032]\n",
      "step =  15600 error value =  0.0005618015244849249 W =  [[0.998976]] , b =  [0.03569429]\n",
      "step =  16000 error value =  0.0005578550617608123 W =  [[0.9989796]] , b =  [0.0355687]\n",
      "step =  16400 error value =  0.0005539363215816766 W =  [[0.99898319]] , b =  [0.03544355]\n",
      "step =  16800 error value =  0.000550045109206189 W =  [[0.99898677]] , b =  [0.03531884]\n",
      "step =  17200 error value =  0.0005461812312609664 W =  [[0.99899034]] , b =  [0.03519457]\n",
      "step =  17600 error value =  0.0005423444957310124 W =  [[0.99899389]] , b =  [0.03507074]\n",
      "step =  18000 error value =  0.0005385347119501844 W =  [[0.99899743]] , b =  [0.03494734]\n",
      "step =  18400 error value =  0.0005347516905917073 W =  [[0.99900096]] , b =  [0.03482438]\n",
      "step =  18800 error value =  0.000530995243658772 W =  [[0.99900447]] , b =  [0.03470185]\n",
      "step =  19200 error value =  0.0005272651844751582 W =  [[0.99900798]] , b =  [0.03457975]\n",
      "step =  19600 error value =  0.0005235613276759886 W =  [[0.99901147]] , b =  [0.03445808]\n",
      "step =  20000 error value =  0.0005198834891985001 W =  [[0.99901494]] , b =  [0.03433684]\n",
      "step =  20400 error value =  0.0005162314862729654 W =  [[0.99901841]] , b =  [0.03421602]\n",
      "step =  20800 error value =  0.0005126051374134569 W =  [[0.99902186]] , b =  [0.03409563]\n",
      "step =  21200 error value =  0.0005090042624089736 W =  [[0.99902531]] , b =  [0.03397566]\n",
      "step =  21600 error value =  0.0005054286823144769 W =  [[0.99902873]] , b =  [0.03385612]\n",
      "step =  22000 error value =  0.0005018782194418971 W =  [[0.99903215]] , b =  [0.033737]\n",
      "step =  22400 error value =  0.0004983526973513767 W =  [[0.99903556]] , b =  [0.03361829]\n",
      "step =  22800 error value =  0.000494851940842492 W =  [[0.99903895]] , b =  [0.03350001]\n",
      "step =  23200 error value =  0.0004913757759454956 W =  [[0.99904233]] , b =  [0.03338214]\n",
      "step =  23600 error value =  0.0004879240299128001 W =  [[0.9990457]] , b =  [0.03326468]\n",
      "step =  24000 error value =  0.00048449653121031397 W =  [[0.99904906]] , b =  [0.03314764]\n",
      "step =  24400 error value =  0.0004810931095087815 W =  [[0.99905241]] , b =  [0.03303101]\n",
      "step =  24800 error value =  0.00047771359567559495 W =  [[0.99905574]] , b =  [0.03291479]\n",
      "step =  25200 error value =  0.0004743578217661877 W =  [[0.99905906]] , b =  [0.03279898]\n",
      "step =  25600 error value =  0.0004710256210157605 W =  [[0.99906237]] , b =  [0.03268357]\n",
      "step =  26000 error value =  0.0004677168278309143 W =  [[0.99906567]] , b =  [0.03256857]\n",
      "step =  26400 error value =  0.00046443127778161446 W =  [[0.99906896]] , b =  [0.03245398]\n",
      "step =  26800 error value =  0.00046116880759280147 W =  [[0.99907224]] , b =  [0.03233979]\n",
      "step =  27200 error value =  0.000457929255136337 W =  [[0.9990755]] , b =  [0.032226]\n",
      "step =  27600 error value =  0.00045471245942307404 W =  [[0.99907875]] , b =  [0.03211262]\n",
      "step =  28000 error value =  0.0004515182605946928 W =  [[0.99908199]] , b =  [0.03199963]\n",
      "step =  28400 error value =  0.00044834649991580387 W =  [[0.99908522]] , b =  [0.03188704]\n",
      "step =  28800 error value =  0.00044519701976618515 W =  [[0.99908844]] , b =  [0.03177484]\n",
      "step =  29200 error value =  0.00044206966363272214 W =  [[0.99909165]] , b =  [0.03166304]\n",
      "step =  29600 error value =  0.00043896427610180637 W =  [[0.99909485]] , b =  [0.03155163]\n",
      "step =  30000 error value =  0.0004358807028515748 W =  [[0.99909803]] , b =  [0.03144062]\n",
      "step =  30400 error value =  0.00043281879064416105 W =  [[0.9991012]] , b =  [0.03132999]\n",
      "step =  30800 error value =  0.00042977838731821896 W =  [[0.99910437]] , b =  [0.03121976]\n",
      "step =  31200 error value =  0.0004267593417811946 W =  [[0.99910752]] , b =  [0.03110991]\n",
      "step =  31600 error value =  0.00042376150400202754 W =  [[0.99911066]] , b =  [0.03100045]\n",
      "step =  32000 error value =  0.0004207847250034421 W =  [[0.99911379]] , b =  [0.03089137]\n",
      "step =  32400 error value =  0.00041782885685479737 W =  [[0.99911691]] , b =  [0.03078268]\n",
      "step =  32800 error value =  0.00041489375266447594 W =  [[0.99912001]] , b =  [0.03067437]\n",
      "step =  33200 error value =  0.00041197926657289975 W =  [[0.99912311]] , b =  [0.03056645]\n",
      "step =  33600 error value =  0.0004090852537449095 W =  [[0.99912619]] , b =  [0.0304589]\n",
      "step =  34000 error value =  0.0004062115703629401 W =  [[0.99912927]] , b =  [0.03035173]\n",
      "step =  34400 error value =  0.0004033580736195671 W =  [[0.99913233]] , b =  [0.03024493]\n",
      "step =  34800 error value =  0.0004005246217106188 W =  [[0.99913539]] , b =  [0.03013852]\n",
      "step =  35200 error value =  0.000397711073827979 W =  [[0.99913843]] , b =  [0.03003247]\n",
      "step =  35600 error value =  0.0003949172901527708 W =  [[0.99914146]] , b =  [0.0299268]\n",
      "step =  36000 error value =  0.00039214313184816933 W =  [[0.99914448]] , b =  [0.02982151]\n",
      "step =  36400 error value =  0.00038938846105268806 W =  [[0.99914749]] , b =  [0.02971658]\n",
      "step =  36800 error value =  0.00038665314087330086 W =  [[0.99915049]] , b =  [0.02961202]\n",
      "step =  37200 error value =  0.00038393703537853587 W =  [[0.99915348]] , b =  [0.02950783]\n",
      "step =  37600 error value =  0.0003812400095918791 W =  [[0.99915646]] , b =  [0.02940401]\n",
      "step =  38000 error value =  0.0003785619294849106 W =  [[0.99915943]] , b =  [0.02930055]\n",
      "step =  38400 error value =  0.00037590266197071 W =  [[0.99916238]] , b =  [0.02919745]\n",
      "step =  38800 error value =  0.0003732620748973376 W =  [[0.99916533]] , b =  [0.02909472]\n",
      "step =  39200 error value =  0.00037064003704107457 W =  [[0.99916827]] , b =  [0.02899235]\n",
      "step =  39600 error value =  0.0003680364181000544 W =  [[0.99917119]] , b =  [0.02889034]\n",
      "step =  40000 error value =  0.00036545108868773926 W =  [[0.99917411]] , b =  [0.02878869]\n",
      "step =  40400 error value =  0.00036288392032642763 W =  [[0.99917702]] , b =  [0.0286874]\n",
      "step =  40800 error value =  0.0003603347854410138 W =  [[0.99917991]] , b =  [0.02858646]\n",
      "step =  41200 error value =  0.0003578035573525233 W =  [[0.9991828]] , b =  [0.02848588]\n",
      "step =  41600 error value =  0.00035529011027183774 W =  [[0.99918567]] , b =  [0.02838565]\n",
      "step =  42000 error value =  0.00035279431929348176 W =  [[0.99918854]] , b =  [0.02828577]\n",
      "step =  42400 error value =  0.00035031606038942337 W =  [[0.99919139]] , b =  [0.02818625]\n",
      "step =  42800 error value =  0.00034785521040287746 W =  [[0.99919424]] , b =  [0.02808707]\n",
      "step =  43200 error value =  0.00034541164704212886 W =  [[0.99919707]] , b =  [0.02798825]\n",
      "step =  43600 error value =  0.0003429852488745984 W =  [[0.9991999]] , b =  [0.02788977]\n",
      "step =  44000 error value =  0.0003405758953207079 W =  [[0.99920271]] , b =  [0.02779164]\n",
      "step =  44400 error value =  0.00033818346664787755 W =  [[0.99920552]] , b =  [0.02769386]\n",
      "step =  44800 error value =  0.00033580784396465666 W =  [[0.99920831]] , b =  [0.02759642]\n",
      "step =  45200 error value =  0.000333448909214744 W =  [[0.9992111]] , b =  [0.02749932]\n",
      "step =  45600 error value =  0.00033110654517112955 W =  [[0.99921387]] , b =  [0.02740256]\n",
      "step =  46000 error value =  0.0003287806354302753 W =  [[0.99921664]] , b =  [0.02730614]\n",
      "step =  46400 error value =  0.00032647106440635915 W =  [[0.9992194]] , b =  [0.02721007]\n",
      "step =  46800 error value =  0.00032417771732554064 W =  [[0.99922214]] , b =  [0.02711433]\n",
      "step =  47200 error value =  0.0003219004802201785 W =  [[0.99922488]] , b =  [0.02701893]\n",
      "step =  47600 error value =  0.00031963923992321653 W =  [[0.99922761]] , b =  [0.02692386]\n",
      "step =  48000 error value =  0.0003173938840625822 W =  [[0.99923033]] , b =  [0.02682913]\n",
      "step =  48400 error value =  0.00031516430105556903 W =  [[0.99923303]] , b =  [0.02673473]\n",
      "step =  48800 error value =  0.00031295038010327827 W =  [[0.99923573]] , b =  [0.02664066]\n",
      "step =  49200 error value =  0.00031075201118518485 W =  [[0.99923842]] , b =  [0.02654693]\n",
      "step =  49600 error value =  0.00030856908505354577 W =  [[0.9992411]] , b =  [0.02645352]\n",
      "step =  50000 error value =  0.00030640149322813556 W =  [[0.99924377]] , b =  [0.02636044]\n",
      "step =  50400 error value =  0.0003042491279907236 W =  [[0.99924643]] , b =  [0.02626769]\n",
      "step =  50800 error value =  0.00030211188237972005 W =  [[0.99924908]] , b =  [0.02617527]\n",
      "step =  51200 error value =  0.00029998965018497944 W =  [[0.99925173]] , b =  [0.02608317]\n",
      "step =  51600 error value =  0.0002978823259423901 W =  [[0.99925436]] , b =  [0.0259914]\n",
      "step =  52000 error value =  0.0002957898049287101 W =  [[0.99925698]] , b =  [0.02589995]\n",
      "step =  52400 error value =  0.00029371198315634377 W =  [[0.9992596]] , b =  [0.02580882]\n",
      "step =  52800 error value =  0.00029164875736818974 W =  [[0.9992622]] , b =  [0.02571801]\n",
      "step =  53200 error value =  0.0002896000250324426 W =  [[0.9992648]] , b =  [0.02562752]\n",
      "step =  53600 error value =  0.00028756568433757894 W =  [[0.99926738]] , b =  [0.02553735]\n",
      "step =  54000 error value =  0.00028554563418728223 W =  [[0.99926996]] , b =  [0.02544749]\n",
      "step =  54400 error value =  0.00028353977419539006 W =  [[0.99927253]] , b =  [0.02535796]\n",
      "step =  54800 error value =  0.0002815480046808915 W =  [[0.99927509]] , b =  [0.02526873]\n",
      "step =  55200 error value =  0.0002795702266630483 W =  [[0.99927764]] , b =  [0.02517983]\n",
      "step =  55600 error value =  0.0002776063418563957 W =  [[0.99928018]] , b =  [0.02509123]\n",
      "step =  56000 error value =  0.0002756562526658918 W =  [[0.99928271]] , b =  [0.02500295]\n",
      "step =  56400 error value =  0.0002737198621820639 W =  [[0.99928524]] , b =  [0.02491497]\n",
      "step =  56800 error value =  0.00027179707417621324 W =  [[0.99928775]] , b =  [0.02482731]\n",
      "step =  57200 error value =  0.00026988779309560656 W =  [[0.99929026]] , b =  [0.02473995]\n",
      "step =  57600 error value =  0.0002679919240587334 W =  [[0.99929276]] , b =  [0.02465291]\n",
      "step =  58000 error value =  0.00026610937285057056 W =  [[0.99929525]] , b =  [0.02456616]\n",
      "step =  58400 error value =  0.0002642400459179856 W =  [[0.99929772]] , b =  [0.02447973]\n",
      "step =  58800 error value =  0.00026238385036497135 W =  [[0.9993002]] , b =  [0.02439359]\n",
      "step =  59200 error value =  0.000260540693948066 W =  [[0.99930266]] , b =  [0.02430777]\n",
      "step =  59600 error value =  0.00025871048507188635 W =  [[0.99930511]] , b =  [0.02422224]\n",
      "step =  60000 error value =  0.00025689313278433513 W =  [[0.99930756]] , b =  [0.02413701]\n",
      "step =  60400 error value =  0.0002550885467723052 W =  [[0.99930999]] , b =  [0.02405209]\n",
      "step =  60800 error value =  0.00025329663735714923 W =  [[0.99931242]] , b =  [0.02396746]\n",
      "step =  61200 error value =  0.000251517315490092 W =  [[0.99931484]] , b =  [0.02388313]\n",
      "step =  61600 error value =  0.0002497504927479015 W =  [[0.99931725]] , b =  [0.02379909]\n",
      "step =  62000 error value =  0.00024799608132857354 W =  [[0.99931965]] , b =  [0.02371536]\n",
      "step =  62400 error value =  0.0002462539940467875 W =  [[0.99932205]] , b =  [0.02363191]\n",
      "step =  62800 error value =  0.00024452414432974843 W =  [[0.99932443]] , b =  [0.02354876]\n",
      "step =  63200 error value =  0.0002428064462127483 W =  [[0.99932681]] , b =  [0.02346591]\n",
      "step =  63600 error value =  0.00024110081433495372 W =  [[0.99932918]] , b =  [0.02338334]\n",
      "step =  64000 error value =  0.0002394071639352053 W =  [[0.99933154]] , b =  [0.02330107]\n",
      "step =  64400 error value =  0.00023772541084771915 W =  [[0.99933389]] , b =  [0.02321908]\n",
      "step =  64800 error value =  0.00023605547149797263 W =  [[0.99933623]] , b =  [0.02313739]\n",
      "step =  65200 error value =  0.00023439726289852488 W =  [[0.99933857]] , b =  [0.02305598]\n",
      "step =  65600 error value =  0.00023275070264485925 W =  [[0.9993409]] , b =  [0.02297485]\n",
      "step =  66000 error value =  0.00023111570891138402 W =  [[0.99934322]] , b =  [0.02289402]\n",
      "step =  66400 error value =  0.0002294922004472307 W =  [[0.99934553]] , b =  [0.02281346]\n",
      "step =  66800 error value =  0.0002278800965723412 W =  [[0.99934783]] , b =  [0.02273319]\n",
      "step =  67200 error value =  0.0002262793171734144 W =  [[0.99935012]] , b =  [0.02265321]\n",
      "step =  67600 error value =  0.00022468978269986418 W =  [[0.99935241]] , b =  [0.0225735]\n",
      "step =  68000 error value =  0.00022311141415996325 W =  [[0.99935469]] , b =  [0.02249408]\n",
      "step =  68400 error value =  0.00022154413311687964 W =  [[0.99935696]] , b =  [0.02241493]\n",
      "step =  68800 error value =  0.00021998786168474132 W =  [[0.99935922]] , b =  [0.02233606]\n",
      "step =  69200 error value =  0.00021844252252479742 W =  [[0.99936148]] , b =  [0.02225747]\n",
      "step =  69600 error value =  0.0002169080388416412 W =  [[0.99936372]] , b =  [0.02217916]\n",
      "step =  70000 error value =  0.00021538433437923545 W =  [[0.99936596]] , b =  [0.02210112]\n",
      "step =  70400 error value =  0.00021387133341725387 W =  [[0.99936819]] , b =  [0.02202336]\n",
      "step =  70800 error value =  0.00021236896076730482 W =  [[0.99937042]] , b =  [0.02194587]\n",
      "step =  71200 error value =  0.00021087714176914313 W =  [[0.99937263]] , b =  [0.02186865]\n",
      "step =  71600 error value =  0.00020939580228697974 W =  [[0.99937484]] , b =  [0.02179171]\n",
      "step =  72000 error value =  0.00020792486870582452 W =  [[0.99937704]] , b =  [0.02171503]\n",
      "step =  72400 error value =  0.00020646426792780126 W =  [[0.99937923]] , b =  [0.02163863]\n",
      "step =  72800 error value =  0.00020501392736848854 W =  [[0.99938141]] , b =  [0.02156249]\n",
      "step =  73200 error value =  0.00020357377495342887 W =  [[0.99938359]] , b =  [0.02148662]\n",
      "step =  73600 error value =  0.00020214373911436369 W =  [[0.99938576]] , b =  [0.02141102]\n",
      "step =  74000 error value =  0.00020072374878581342 W =  [[0.99938792]] , b =  [0.02133569]\n",
      "step =  74400 error value =  0.0001993137334015463 W =  [[0.99939007]] , b =  [0.02126062]\n",
      "step =  74800 error value =  0.00019791362289100608 W =  [[0.99939222]] , b =  [0.02118581]\n",
      "step =  75200 error value =  0.00019652334767583527 W =  [[0.99939436]] , b =  [0.02111127]\n",
      "step =  75600 error value =  0.0001951428386664945 W =  [[0.99939649]] , b =  [0.02103699]\n",
      "step =  76000 error value =  0.00019377202725871635 W =  [[0.99939861]] , b =  [0.02096297]\n",
      "step =  76400 error value =  0.00019241084533018414 W =  [[0.99940073]] , b =  [0.02088921]\n",
      "step =  76800 error value =  0.00019105922523712947 W =  [[0.99940284]] , b =  [0.02081571]\n",
      "step =  77200 error value =  0.00018971709981091084 W =  [[0.99940494]] , b =  [0.02074247]\n",
      "step =  77600 error value =  0.00018838440235478983 W =  [[0.99940703]] , b =  [0.02066949]\n",
      "step =  78000 error value =  0.00018706106664049407 W =  [[0.99940912]] , b =  [0.02059676]\n",
      "step =  78400 error value =  0.00018574702690500545 W =  [[0.9994112]] , b =  [0.02052429]\n",
      "step =  78800 error value =  0.000184442217847276 W =  [[0.99941327]] , b =  [0.02045208]\n",
      "step =  79200 error value =  0.0001831465746249742 W =  [[0.99941533]] , b =  [0.02038012]\n",
      "step =  79600 error value =  0.00018186003285121266 W =  [[0.99941739]] , b =  [0.02030841]\n",
      "step =  80000 error value =  0.00018058252859148353 W =  [[0.99941944]] , b =  [0.02023695]\n",
      "\n",
      "Elapsed Time =>  0:00:07.817000\n"
     ]
    }
   ],
   "source": [
    "obj2 = LinearRegressionTest(x_data, t_data, 1e-5, 80001)\n",
    "\n",
    "obj2.train()"
   ]
  },
  {
   "cell_type": "code",
   "execution_count": 8,
   "metadata": {},
   "outputs": [
    {
     "data": {
      "text/plain": [
       "array([99.96218113])"
      ]
     },
     "execution_count": 8,
     "metadata": {},
     "output_type": "execute_result"
    }
   ],
   "source": [
    "test_data = np.array([100])\n",
    "\n",
    "obj2.predict(test_data) "
   ]
  },
  {
   "cell_type": "code",
   "execution_count": 10,
   "metadata": {},
   "outputs": [
    {
     "data": {
      "text/plain": [
       "array([776.56914319])"
      ]
     },
     "execution_count": 10,
     "metadata": {},
     "output_type": "execute_result"
    }
   ],
   "source": [
    "test_data = np.array([777])\n",
    "\n",
    "obj2.predict(test_data) "
   ]
  },
  {
   "cell_type": "code",
   "execution_count": 11,
   "metadata": {},
   "outputs": [
    {
     "data": {
      "text/plain": [
       "array([-44.95363793])"
      ]
     },
     "execution_count": 11,
     "metadata": {},
     "output_type": "execute_result"
    }
   ],
   "source": [
    "test_data = np.array([-45])\n",
    "\n",
    "obj2.predict(test_data) "
   ]
  },
  {
   "cell_type": "code",
   "execution_count": null,
   "metadata": {
    "collapsed": true
   },
   "outputs": [],
   "source": []
  }
 ],
 "metadata": {
  "anaconda-cloud": {},
  "kernelspec": {
   "display_name": "Python 3",
   "language": "python",
   "name": "python3"
  },
  "language_info": {
   "codemirror_mode": {
    "name": "ipython",
    "version": 3
   },
   "file_extension": ".py",
   "mimetype": "text/x-python",
   "name": "python",
   "nbconvert_exporter": "python",
   "pygments_lexer": "ipython3",
   "version": "3.6.5"
  }
 },
 "nbformat": 4,
 "nbformat_minor": 1
}
