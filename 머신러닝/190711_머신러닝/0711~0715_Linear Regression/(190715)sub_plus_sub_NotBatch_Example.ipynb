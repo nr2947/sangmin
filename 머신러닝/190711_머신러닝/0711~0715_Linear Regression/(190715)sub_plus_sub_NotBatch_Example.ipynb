{
 "cells": [
  {
   "cell_type": "markdown",
   "metadata": {},
   "source": [
    "### 4개의 입력데이터 연산 (A1-A2+A3-A4) 예측하는 Linear Regression NotBatch 예제"
   ]
  },
  {
   "cell_type": "code",
   "execution_count": 1,
   "metadata": {},
   "outputs": [
    {
     "name": "stdout",
     "output_type": "stream",
     "text": [
      "loaded_data.ndim =  2 , loaded_data.shape =  (50, 5)\n",
      "x_data.ndim =  2 , x_data.shape =  (50, 4)\n",
      "t_data.ndim =  2 , t_data.shape =  (50, 1)\n"
     ]
    }
   ],
   "source": [
    "import numpy as np\n",
    "from datetime import datetime\n",
    "\n",
    "loaded_data = np.loadtxt('./regression_testdata_03.csv', delimiter=',', dtype=np.float32)\n",
    "\n",
    "x_data = loaded_data[ :, 0:-1]\n",
    "t_data = loaded_data[ :, [-1]]\n",
    "\n",
    "# 데이터 차원 및 shape 확인\n",
    "print(\"loaded_data.ndim = \", loaded_data.ndim, \", loaded_data.shape = \", loaded_data.shape)\n",
    "print(\"x_data.ndim = \", x_data.ndim, \", x_data.shape = \", x_data.shape)\n",
    "print(\"t_data.ndim = \", t_data.ndim, \", t_data.shape = \", t_data.shape) "
   ]
  },
  {
   "cell_type": "code",
   "execution_count": 2,
   "metadata": {},
   "outputs": [
    {
     "name": "stdout",
     "output_type": "stream",
     "text": [
      "W =  [[0.89564719]\n",
      " [0.59086211]\n",
      " [0.60927158]\n",
      " [0.33140979]] , W.shape =  (4, 1) , b =  [0.6007804] , b.shape =  (1,)\n"
     ]
    }
   ],
   "source": [
    "W = np.random.rand(4,1)  # 4X1 행렬\n",
    "b = np.random.rand(1)  \n",
    "print(\"W = \", W, \", W.shape = \", W.shape, \", b = \", b, \", b.shape = \", b.shape)"
   ]
  },
  {
   "cell_type": "code",
   "execution_count": 3,
   "metadata": {
    "collapsed": true
   },
   "outputs": [],
   "source": [
    "def loss_func(x, t):\n",
    "    y = np.dot(x,W) + b\n",
    "    \n",
    "    return ( np.sum( (t - y)**2 ) ) / ( len(x) )"
   ]
  },
  {
   "cell_type": "code",
   "execution_count": 4,
   "metadata": {
    "collapsed": true
   },
   "outputs": [],
   "source": [
    "def numerical_derivative(f, x):\n",
    "    delta_x = 1e-4 # 0.0001\n",
    "    grad = np.zeros_like(x)\n",
    "    \n",
    "    it = np.nditer(x, flags=['multi_index'], op_flags=['readwrite'])\n",
    "    \n",
    "    while not it.finished:\n",
    "        idx = it.multi_index        \n",
    "        tmp_val = x[idx]\n",
    "        x[idx] = float(tmp_val) + delta_x\n",
    "        fx1 = f(x) # f(x+delta_x)\n",
    "        \n",
    "        x[idx] = tmp_val - delta_x \n",
    "        fx2 = f(x) # f(x-delta_x)\n",
    "        grad[idx] = (fx1 - fx2) / (2*delta_x)\n",
    "        \n",
    "        x[idx] = tmp_val \n",
    "        it.iternext()   \n",
    "        \n",
    "    return grad"
   ]
  },
  {
   "cell_type": "code",
   "execution_count": 5,
   "metadata": {},
   "outputs": [],
   "source": [
    "# 손실함수 값 계산 함수\n",
    "# 입력변수 x, t : numpy type\n",
    "def error_val(x, t):\n",
    "    y = np.dot(x,W) + b\n",
    "    \n",
    "    return ( np.sum( (t - y)**2 ) ) / ( len(x) )\n",
    "\n",
    "# 학습을 마친 후, 임의의 데이터에 대해 미래 값 예측 함수\n",
    "# 입력변수 x : numpy type\n",
    "def predict(x):\n",
    "    y = np.dot(x,W) + b\n",
    "    \n",
    "    return y"
   ]
  },
  {
   "cell_type": "code",
   "execution_count": 6,
   "metadata": {},
   "outputs": [
    {
     "name": "stdout",
     "output_type": "stream",
     "text": [
      "Initial error value =  57.09647936062477\n",
      "step =  0 error value =  56.62057249257126\n",
      "step =  5000 error value =  0.022425245983121348\n",
      "step =  10000 error value =  0.0059829644181757366\n",
      "step =  15000 error value =  0.0015962352987351053\n",
      "step =  20000 error value =  0.0004258703463581642\n",
      "step =  25000 error value =  0.00011362081270280787\n",
      "step =  30000 error value =  3.0313660459433928e-05\n",
      "step =  35000 error value =  8.087585263551053e-06\n",
      "step =  40000 error value =  2.157741242861319e-06\n",
      "step =  45000 error value =  5.756782920259588e-07\n",
      "step =  50000 error value =  1.5358908164010792e-07\n",
      "step =  55000 error value =  4.0977063622078546e-08\n",
      "step =  60000 error value =  1.0932546279190778e-08\n",
      "step =  65000 error value =  2.916767517816738e-09\n",
      "step =  70000 error value =  7.781840149751002e-10\n",
      "step =  75000 error value =  2.0761694482110548e-10\n",
      "step =  80000 error value =  5.539152045436917e-11\n",
      "step =  85000 error value =  1.4778276096952472e-11\n",
      "step =  90000 error value =  3.9427956375906e-12\n",
      "step =  95000 error value =  1.0519249550932819e-12\n",
      "step =  100000 error value =  2.8065013155249107e-13\n",
      "\n",
      "Elapsed Time =>  0:11:40.583000\n"
     ]
    }
   ],
   "source": [
    "learning_rate = 1e-5  \n",
    "\n",
    "# 여기서 xdata, tdata 는 이미 행렬이므로 reshape 해줄 필요없다\n",
    "print(\"Initial error value = \", error_val(x_data, t_data) )\n",
    "\n",
    "start_time = datetime.now()\n",
    "\n",
    "for step in  range(100001):    \n",
    "    \n",
    "    for index in range(len(x_data)):\n",
    "        \n",
    "        #input_x_data = x_data[index]\n",
    "        #input_t_data = t_data[index]\n",
    "        \n",
    "        # x_data[index] 는 이미 행렬이기 때문에 np.array() 는 필요치 않음\n",
    "        f = lambda x : loss_func(x_data[index], t_data[index])  \n",
    "    \n",
    "        W -= learning_rate * numerical_derivative(f, W)\n",
    "    \n",
    "        b -= learning_rate * numerical_derivative(f, b)\n",
    "    \n",
    "    if (step % 5000 == 0):\n",
    "        print(\"step = \", step, \"error value = \", error_val(x_data, t_data))\n",
    "        \n",
    "end_time = datetime.now()\n",
    "        \n",
    "print(\"\")\n",
    "print(\"Elapsed Time => \", end_time - start_time)"
   ]
  },
  {
   "cell_type": "code",
   "execution_count": 7,
   "metadata": {},
   "outputs": [
    {
     "name": "stdout",
     "output_type": "stream",
     "text": [
      "predicted value =  [-7.59977104e-08]\n"
     ]
    }
   ],
   "source": [
    "ex_data_01 = np.array([4, 4, 4, 4])    #  4 - 4 + 4 - 4 = 0\n",
    "\n",
    "print(\"predicted value = \", predict(ex_data_01) ) "
   ]
  },
  {
   "cell_type": "code",
   "execution_count": 8,
   "metadata": {},
   "outputs": [
    {
     "name": "stdout",
     "output_type": "stream",
     "text": [
      "predicted value =  [7.00000092]\n"
     ]
    }
   ],
   "source": [
    "ex_data_02 = np.array([-3, 0, 9, -1])    #  -3 -0 +9 -(-1) = 7\n",
    "\n",
    "print(\"predicted value = \", predict(ex_data_02) ) "
   ]
  },
  {
   "cell_type": "code",
   "execution_count": 9,
   "metadata": {},
   "outputs": [
    {
     "name": "stdout",
     "output_type": "stream",
     "text": [
      "predicted value =  [-7.99999819]\n"
     ]
    }
   ],
   "source": [
    "ex_data_03 = np.array([-7, -9, -2, 8])   # -7 -(-9) + (-2) -8 = -8\n",
    "\n",
    "print(\"predicted value = \", predict(ex_data_03) ) "
   ]
  },
  {
   "cell_type": "code",
   "execution_count": 10,
   "metadata": {},
   "outputs": [
    {
     "name": "stdout",
     "output_type": "stream",
     "text": [
      "predicted value =  [8.00000081]\n"
     ]
    }
   ],
   "source": [
    "ex_data_04 = np.array([1, -2, 3, -2])   # 1 -(-2) + 3 -(-2) = 8\n",
    "\n",
    "print(\"predicted value = \", predict(ex_data_04) ) "
   ]
  },
  {
   "cell_type": "code",
   "execution_count": 11,
   "metadata": {},
   "outputs": [
    {
     "name": "stdout",
     "output_type": "stream",
     "text": [
      "predicted value =  [107.00000198]\n"
     ]
    }
   ],
   "source": [
    "ex_data_05 = np.array([19, -12, 0, -76])   # 19 -(-12) + 0 -(-76) = 107\n",
    "\n",
    "print(\"predicted value = \", predict(ex_data_05) ) "
   ]
  },
  {
   "cell_type": "code",
   "execution_count": 12,
   "metadata": {},
   "outputs": [
    {
     "name": "stdout",
     "output_type": "stream",
     "text": [
      "predicted value =  [2079.99982294]\n"
     ]
    }
   ],
   "source": [
    "ex_data_06 = np.array([2001, -1, 109, 31])   # 2001 -(-1) + 109 -(31) = 2080\n",
    "\n",
    "print(\"predicted value = \", predict(ex_data_06) ) "
   ]
  },
  {
   "cell_type": "code",
   "execution_count": null,
   "metadata": {
    "collapsed": true
   },
   "outputs": [],
   "source": []
  }
 ],
 "metadata": {
  "anaconda-cloud": {},
  "kernelspec": {
   "display_name": "Python 3",
   "language": "python",
   "name": "python3"
  },
  "language_info": {
   "codemirror_mode": {
    "name": "ipython",
    "version": 3
   },
   "file_extension": ".py",
   "mimetype": "text/x-python",
   "name": "python",
   "nbconvert_exporter": "python",
   "pygments_lexer": "ipython3",
   "version": "3.6.5"
  }
 },
 "nbformat": 4,
 "nbformat_minor": 1
}
