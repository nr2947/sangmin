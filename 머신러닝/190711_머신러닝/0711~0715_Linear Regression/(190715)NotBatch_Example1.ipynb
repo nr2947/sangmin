{
 "cells": [
  {
   "cell_type": "markdown",
   "metadata": {},
   "source": [
    "### batch 사용하지 않고 입력데이터 하나씩 대입하는 예제"
   ]
  },
  {
   "cell_type": "code",
   "execution_count": 1,
   "metadata": {},
   "outputs": [
    {
     "name": "stdout",
     "output_type": "stream",
     "text": [
      "x_data.shape =  (5,) , t_data.shape =  (5,)\n"
     ]
    }
   ],
   "source": [
    "import numpy as np\n",
    "\n",
    "x_data = np.array([1, 2, 3, 4, 5])\n",
    "t_data = np.array([2, 3, 4, 5, 6])\n",
    "\n",
    "print(\"x_data.shape = \", x_data.shape, \", t_data.shape = \", t_data.shape)"
   ]
  },
  {
   "cell_type": "code",
   "execution_count": 2,
   "metadata": {},
   "outputs": [
    {
     "name": "stdout",
     "output_type": "stream",
     "text": [
      "W =  [[0.87347455]] , W.shape =  (1, 1) , b =  [0.41133563] , b.shape =  (1,)\n"
     ]
    }
   ],
   "source": [
    "W = np.random.rand(1,1)  \n",
    "b = np.random.rand(1)  \n",
    "print(\"W = \", W, \", W.shape = \", W.shape, \", b = \", b, \", b.shape = \", b.shape)"
   ]
  },
  {
   "cell_type": "code",
   "execution_count": 3,
   "metadata": {},
   "outputs": [],
   "source": [
    "def loss_func(x, t):\n",
    "    y = np.dot(x,W) + b\n",
    "    \n",
    "    return ( np.sum( (t - y)**2 ) ) / ( len(x) )"
   ]
  },
  {
   "cell_type": "code",
   "execution_count": 4,
   "metadata": {},
   "outputs": [],
   "source": [
    "def numerical_derivative(f, x):\n",
    "    delta_x = 1e-4 # 0.0001\n",
    "    grad = np.zeros_like(x)\n",
    "    \n",
    "    it = np.nditer(x, flags=['multi_index'], op_flags=['readwrite'])\n",
    "    \n",
    "    while not it.finished:\n",
    "        idx = it.multi_index        \n",
    "        tmp_val = x[idx]\n",
    "        x[idx] = float(tmp_val) + delta_x\n",
    "        fx1 = f(x) # f(x+delta_x)\n",
    "        \n",
    "        x[idx] = tmp_val - delta_x \n",
    "        fx2 = f(x) # f(x-delta_x)\n",
    "        grad[idx] = (fx1 - fx2) / (2*delta_x)\n",
    "        \n",
    "        x[idx] = tmp_val \n",
    "        it.iternext()   \n",
    "        \n",
    "    return grad"
   ]
  },
  {
   "cell_type": "code",
   "execution_count": 5,
   "metadata": {},
   "outputs": [],
   "source": [
    "# 손실함수 값 계산 함수\n",
    "# 입력변수 x, t : numpy type\n",
    "def error_val(x, t):\n",
    "    y = np.dot(x,W) + b\n",
    "    \n",
    "    return ( np.sum( (t - y)**2 ) ) / ( len(x) )\n",
    "\n",
    "# 학습을 마친 후, 임의의 데이터에 대해 미래 값 예측 함수\n",
    "# 입력변수 x : numpy type\n",
    "def predict(x):\n",
    "    y = np.dot(x,W) + b\n",
    "    \n",
    "    return y"
   ]
  },
  {
   "cell_type": "code",
   "execution_count": 6,
   "metadata": {},
   "outputs": [
    {
     "name": "stdout",
     "output_type": "stream",
     "text": [
      "Initial error value =  0.9695075011464919 Initial W =  [[0.87347455]] \n",
      " , b =  [0.41133563]\n",
      "step =  0 error value =  0.1234874104607649\n",
      "step =  400 error value =  2.878606145336312e-09\n",
      "step =  800 error value =  1.5650755844209117e-16\n",
      "step =  1200 error value =  8.508339520415283e-24\n",
      "step =  1600 error value =  2.3665827156630354e-30\n",
      "step =  2000 error value =  2.3665827156630354e-30\n",
      "step =  2400 error value =  2.3665827156630354e-30\n",
      "step =  2800 error value =  2.3665827156630354e-30\n",
      "step =  3200 error value =  2.3665827156630354e-30\n",
      "step =  3600 error value =  2.3665827156630354e-30\n",
      "step =  4000 error value =  2.3665827156630354e-30\n",
      "step =  4400 error value =  2.3665827156630354e-30\n",
      "step =  4800 error value =  2.3665827156630354e-30\n",
      "step =  5200 error value =  2.3665827156630354e-30\n",
      "step =  5600 error value =  2.3665827156630354e-30\n",
      "step =  6000 error value =  2.3665827156630354e-30\n",
      "step =  6400 error value =  2.3665827156630354e-30\n",
      "step =  6800 error value =  2.3665827156630354e-30\n",
      "step =  7200 error value =  2.3665827156630354e-30\n",
      "step =  7600 error value =  2.3665827156630354e-30\n",
      "step =  8000 error value =  2.3665827156630354e-30\n",
      "final W =  [[1.]] , and b =  [1.]\n"
     ]
    }
   ],
   "source": [
    "learning_rate = 1e-2  \n",
    "\n",
    "print(\"Initial error value = \", error_val(x_data.reshape(5,1), t_data.reshape(5,1)), \"Initial W = \", W, \"\\n\", \", b = \", b )\n",
    "\n",
    "for step in  range(8001):  \n",
    "    \n",
    "    for index in range(len(x_data)):\n",
    "        \n",
    "        input_x_data = x_data[index]\n",
    "        input_t_data = t_data[index]\n",
    "        \n",
    "        # np.array() 해주지 않으면 error => len() 함수를 쓰기위해서는 numpy 객체여야 하는데\n",
    "        # np.array() 해주지 않으면 scala 값이기 때문에 에러 발생\n",
    "        f = lambda x : loss_func(np.array([input_x_data]), np.array([input_t_data]))  \n",
    "    \n",
    "        W -= learning_rate * numerical_derivative(f, W)\n",
    "    \n",
    "        b -= learning_rate * numerical_derivative(f, b)\n",
    "    \n",
    "    if (step % 400 == 0):\n",
    "        print(\"step = \", step, \"error value = \", error_val(x_data.reshape(5,1), t_data.reshape(5,1)))\n",
    "        \n",
    "print(\"final W = \", W, \", and b = \", b)"
   ]
  },
  {
   "cell_type": "code",
   "execution_count": 7,
   "metadata": {},
   "outputs": [
    {
     "name": "stdout",
     "output_type": "stream",
     "text": [
      "predicted value =  [[44.]]\n"
     ]
    }
   ],
   "source": [
    "print(\"predicted value = \", predict(43)) "
   ]
  },
  {
   "cell_type": "code",
   "execution_count": null,
   "metadata": {
    "collapsed": true
   },
   "outputs": [],
   "source": []
  }
 ],
 "metadata": {
  "anaconda-cloud": {},
  "kernelspec": {
   "display_name": "Python 3",
   "language": "python",
   "name": "python3"
  },
  "language_info": {
   "codemirror_mode": {
    "name": "ipython",
    "version": 3
   },
   "file_extension": ".py",
   "mimetype": "text/x-python",
   "name": "python",
   "nbconvert_exporter": "python",
   "pygments_lexer": "ipython3",
   "version": "3.6.5"
  }
 },
 "nbformat": 4,
 "nbformat_minor": 1
}
