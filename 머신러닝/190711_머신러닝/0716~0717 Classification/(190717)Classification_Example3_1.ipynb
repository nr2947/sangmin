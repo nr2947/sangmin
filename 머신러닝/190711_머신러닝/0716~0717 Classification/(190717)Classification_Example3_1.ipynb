{
 "cells": [
  {
   "cell_type": "code",
   "execution_count": 1,
   "metadata": {},
   "outputs": [],
   "source": [
    "import numpy as np\n",
    "\n",
    "# and\n",
    "xdata = np.array([ [0,0], [0,1], [1,0], [1,1] ])   \n",
    "tdata = np.array([0, 0, 0, 1]).reshape(4,1)\n",
    "\n",
    "# test data\n",
    "test_data = np.array([ [0,0], [0,1], [1,0], [1,1] ])"
   ]
  },
  {
   "cell_type": "code",
   "execution_count": 2,
   "metadata": {},
   "outputs": [
    {
     "name": "stdout",
     "output_type": "stream",
     "text": [
      "W =  [[0.50114487]\n",
      " [0.57847155]] , W.shape =  (2, 1) , b =  [0.5722483] , b.shape =  (1,)\n"
     ]
    }
   ],
   "source": [
    "W = np.random.rand(2,1)  \n",
    "b = np.random.rand(1)  \n",
    "print(\"W = \", W, \", W.shape = \", W.shape, \", b = \", b, \", b.shape = \", b.shape)"
   ]
  },
  {
   "cell_type": "code",
   "execution_count": 3,
   "metadata": {
    "collapsed": true
   },
   "outputs": [],
   "source": [
    "# 최종출력은 y = sigmoid(Wx+b) 이며, 손실함수는 cross-entropy 로 나타냄\n",
    "\n",
    "def sigmoid(x):\n",
    "    return 1 / (1+np.exp(-x))\n",
    "\n",
    "def loss_func(x, t):\n",
    "    \n",
    "    delta = 1e-7\n",
    "    \n",
    "    z = np.dot(x,W) + b\n",
    "    y = sigmoid(z)\n",
    "    \n",
    "    # cross-entropy \n",
    "    return  -np.sum( t*np.log(y + delta) + (1-t)*np.log((1 - y)+delta ) ) "
   ]
  },
  {
   "cell_type": "code",
   "execution_count": 4,
   "metadata": {
    "collapsed": true
   },
   "outputs": [],
   "source": [
    "def numerical_derivative(f, x):\n",
    "    delta_x = 1e-4 # 0.0001\n",
    "    grad = np.zeros_like(x)\n",
    "    \n",
    "    it = np.nditer(x, flags=['multi_index'], op_flags=['readwrite'])\n",
    "    \n",
    "    while not it.finished:\n",
    "        idx = it.multi_index        \n",
    "        tmp_val = x[idx]\n",
    "        x[idx] = float(tmp_val) + delta_x\n",
    "        fx1 = f(x) # f(x+delta_x)\n",
    "        \n",
    "        x[idx] = tmp_val - delta_x \n",
    "        fx2 = f(x) # f(x-delta_x)\n",
    "        grad[idx] = (fx1 - fx2) / (2*delta_x)\n",
    "        \n",
    "        x[idx] = tmp_val \n",
    "        it.iternext()   \n",
    "        \n",
    "    return grad"
   ]
  },
  {
   "cell_type": "code",
   "execution_count": 5,
   "metadata": {
    "collapsed": true
   },
   "outputs": [],
   "source": [
    "# 손실함수 값 계산 함수\n",
    "# 입력변수 x, t : numpy type\n",
    "def error_val(x, t):\n",
    "    delta = 1e-7    \n",
    "    \n",
    "    z = np.dot(x,W) + b\n",
    "    y = sigmoid(z)\n",
    "    \n",
    "    # cross-entropy \n",
    "    return  -np.sum( t*np.log(y + delta) + (1-t)*np.log((1 - y)+delta ) ) \n",
    "\n",
    "# 학습을 마친 후, 임의의 데이터에 대해 미래 값 예측 함수\n",
    "# 입력변수 x : numpy type\n",
    "def predict(x):\n",
    "    \n",
    "    z = np.dot(x,W) + b\n",
    "    y = sigmoid(z)\n",
    "    \n",
    "    if y >= 0.5:\n",
    "        result = 1  # True\n",
    "    else:\n",
    "        result = 0  # False\n",
    "    \n",
    "    return y, result"
   ]
  },
  {
   "cell_type": "code",
   "execution_count": 7,
   "metadata": {},
   "outputs": [
    {
     "name": "stdout",
     "output_type": "stream",
     "text": [
      "Initial error value =  3.9880985371682383\n",
      "step =  0 error value =  3.9420753748812736\n",
      "step =  400 error value =  1.5367473372016254\n",
      "step =  800 error value =  1.14263277881639\n",
      "step =  1200 error value =  0.9187788037466815\n",
      "step =  1600 error value =  0.7709659229950583\n",
      "step =  2000 error value =  0.6647160185497059\n",
      "step =  2400 error value =  0.584157559718622\n",
      "step =  2800 error value =  0.5207939238456385\n",
      "step =  3200 error value =  0.4695879957886897\n",
      "step =  3600 error value =  0.4273304890042834\n",
      "step =  4000 error value =  0.3918651321603658\n",
      "step =  4400 error value =  0.3616829861635371\n",
      "step =  4800 error value =  0.3356935271182315\n",
      "step =  5200 error value =  0.3130876728516987\n",
      "step =  5600 error value =  0.29325188509128236\n",
      "step =  6000 error value =  0.27571219645769807\n",
      "step =  6400 error value =  0.26009655522206115\n",
      "step =  6800 error value =  0.2461088007042321\n",
      "step =  7200 error value =  0.23351025592204158\n",
      "step =  7600 error value =  0.22210644353969755\n",
      "step =  8000 error value =  0.21173732827800884\n",
      "step =  8400 error value =  0.20227003640397956\n",
      "step =  8800 error value =  0.19359334674856124\n",
      "step =  9200 error value =  0.18561346917856028\n",
      "step =  9600 error value =  0.17825077234721615\n",
      "step =  10000 error value =  0.1714372206035516\n"
     ]
    }
   ],
   "source": [
    "# and gate 검증\n",
    "learning_rate = 1e-2  \n",
    "\n",
    "f = lambda x : loss_func(xdata, tdata)  \n",
    "\n",
    "print(\"Initial error value = \", error_val(xdata, tdata))\n",
    "\n",
    "for step in  range(10001):  \n",
    "    \n",
    "    W -= learning_rate * numerical_derivative(f, W)\n",
    "    \n",
    "    b -= learning_rate * numerical_derivative(f, b)\n",
    "    \n",
    "    if (step % 400 == 0):\n",
    "        print(\"step = \", step, \"error value = \", error_val(xdata, tdata))"
   ]
  },
  {
   "cell_type": "code",
   "execution_count": 8,
   "metadata": {},
   "outputs": [
    {
     "name": "stdout",
     "output_type": "stream",
     "text": [
      "AND Gate verification\n",
      "real_val [0.00019432] , logical_val =  0\n",
      "real_val [0.04887268] , logical_val =  0\n",
      "real_val [0.0488725] , logical_val =  0\n",
      "real_val [0.93143506] , logical_val =  1\n"
     ]
    }
   ],
   "source": [
    "# and 검증\n",
    "print(\"AND Gate verification\")\n",
    "\n",
    "for input_data in test_data:\n",
    "    (real_val, logical_val) = predict(input_data)\n",
    "    print(\"real_val\", real_val, \", logical_val = \", logical_val)"
   ]
  },
  {
   "cell_type": "code",
   "execution_count": null,
   "metadata": {
    "collapsed": true
   },
   "outputs": [],
   "source": []
  }
 ],
 "metadata": {
  "anaconda-cloud": {},
  "kernelspec": {
   "display_name": "Python 3",
   "language": "python",
   "name": "python3"
  },
  "language_info": {
   "codemirror_mode": {
    "name": "ipython",
    "version": 3
   },
   "file_extension": ".py",
   "mimetype": "text/x-python",
   "name": "python",
   "nbconvert_exporter": "python",
   "pygments_lexer": "ipython3",
   "version": "3.6.5"
  }
 },
 "nbformat": 4,
 "nbformat_minor": 1
}
