{
 "cells": [
  {
   "cell_type": "code",
   "execution_count": 1,
   "metadata": {
    "collapsed": false
   },
   "outputs": [],
   "source": [
    "import numpy as np\n",
    "\n",
    "xdata = np.array([ [0,0], [0,1], [1,0], [1,1] ])   \n",
    "\n",
    "tdata = np.array([0, 1, 1, 0]).reshape(4,1)\n",
    "\n",
    "# test data\n",
    "test_data = np.array([ [0,0], [0,1], [1,0], [1,1] ])"
   ]
  },
  {
   "cell_type": "code",
   "execution_count": 2,
   "metadata": {
    "collapsed": false
   },
   "outputs": [
    {
     "name": "stdout",
     "output_type": "stream",
     "text": [
      "W =  [[0.2988091 ]\n",
      " [0.16550169]] , W.shape =  (2, 1) , b =  [0.0490075] , b.shape =  (1,)\n"
     ]
    }
   ],
   "source": [
    "W = np.random.rand(2,1)  \n",
    "b = np.random.rand(1)  \n",
    "print(\"W = \", W, \", W.shape = \", W.shape, \", b = \", b, \", b.shape = \", b.shape)"
   ]
  },
  {
   "cell_type": "code",
   "execution_count": 3,
   "metadata": {
    "collapsed": true
   },
   "outputs": [],
   "source": [
    "# 최종출력은 y = sigmoid(Wx+b) 이며, 손실함수는 cross-entropy 로 나타냄\n",
    "\n",
    "def sigmoid(x):\n",
    "    return 1 / (1+np.exp(-x))\n",
    "\n",
    "def loss_func(x, t):\n",
    "    \n",
    "    delta = 1e-7\n",
    "    \n",
    "    z = np.dot(x,W) + b\n",
    "    y = sigmoid(z)\n",
    "    \n",
    "    # cross-entropy \n",
    "    return  -np.sum( t*np.log(y + delta) + (1-t)*np.log((1 - y)+delta ) ) "
   ]
  },
  {
   "cell_type": "code",
   "execution_count": 4,
   "metadata": {
    "collapsed": true
   },
   "outputs": [],
   "source": [
    "def numerical_derivative(f, x):\n",
    "    delta_x = 1e-4 # 0.0001\n",
    "    grad = np.zeros_like(x)\n",
    "    \n",
    "    it = np.nditer(x, flags=['multi_index'], op_flags=['readwrite'])\n",
    "    \n",
    "    while not it.finished:\n",
    "        idx = it.multi_index        \n",
    "        tmp_val = x[idx]\n",
    "        x[idx] = float(tmp_val) + delta_x\n",
    "        fx1 = f(x) # f(x+delta_x)\n",
    "        \n",
    "        x[idx] = tmp_val - delta_x \n",
    "        fx2 = f(x) # f(x-delta_x)\n",
    "        grad[idx] = (fx1 - fx2) / (2*delta_x)\n",
    "        \n",
    "        x[idx] = tmp_val \n",
    "        it.iternext()   \n",
    "        \n",
    "    return grad"
   ]
  },
  {
   "cell_type": "code",
   "execution_count": 5,
   "metadata": {
    "collapsed": true
   },
   "outputs": [],
   "source": [
    "# 손실함수 값 계산 함수\n",
    "# 입력변수 x, t : numpy type\n",
    "def error_val(x, t):\n",
    "    delta = 1e-7    \n",
    "    \n",
    "    z = np.dot(x,W) + b\n",
    "    y = sigmoid(z)\n",
    "    \n",
    "    # cross-entropy \n",
    "    return  -np.sum( t*np.log(y + delta) + (1-t)*np.log((1 - y)+delta ) ) \n",
    "\n",
    "# 학습을 마친 후, 임의의 데이터에 대해 미래 값 예측 함수\n",
    "# 입력변수 x : numpy type\n",
    "def predict(x):\n",
    "    \n",
    "    z = np.dot(x,W) + b\n",
    "    y = sigmoid(z)\n",
    "    \n",
    "    if y >= 0.5:\n",
    "        result = 1  # True\n",
    "    else:\n",
    "        result = 0  # False\n",
    "    \n",
    "    return y, result"
   ]
  },
  {
   "cell_type": "code",
   "execution_count": 6,
   "metadata": {
    "collapsed": false
   },
   "outputs": [
    {
     "name": "stdout",
     "output_type": "stream",
     "text": [
      "Initial error value =  2.826256870467624\n",
      "step =  0 error value =  2.826103270859076\n",
      "step =  400 error value =  2.7906731248802794\n",
      "step =  800 error value =  2.780184167734281\n",
      "step =  1200 error value =  2.7769011716279985\n",
      "step =  1600 error value =  2.7756969720902056\n",
      "step =  2000 error value =  2.775114565016745\n",
      "step =  2400 error value =  2.774739102547815\n",
      "step =  2800 error value =  2.774449727103079\n",
      "step =  3200 error value =  2.774208708675001\n",
      "step =  3600 error value =  2.774002166054569\n",
      "step =  4000 error value =  2.7738233702002377\n",
      "step =  4400 error value =  2.7736679972969465\n",
      "step =  4800 error value =  2.773532739957302\n",
      "step =  5200 error value =  2.7734148679472055\n",
      "step =  5600 error value =  2.7733120625019865\n",
      "step =  6000 error value =  2.773222333757797\n",
      "step =  6400 error value =  2.7731439669370026\n",
      "step =  6800 error value =  2.773075481200367\n",
      "step =  7200 error value =  2.773015595936127\n",
      "step =  7600 error value =  2.772963202414668\n",
      "step =  8000 error value =  2.7729173397206823\n",
      "step =  8400 error value =  2.7728771742320517\n",
      "step =  8800 error value =  2.7728419820830537\n",
      "step =  9200 error value =  2.7728111341534354\n",
      "step =  9600 error value =  2.7727840832015405\n",
      "step =  10000 error value =  2.772760352820776\n",
      "step =  10400 error value =  2.7727395279490366\n",
      "step =  10800 error value =  2.772721246702673\n",
      "step =  11200 error value =  2.7727051933417246\n",
      "step =  11600 error value =  2.7726910922026167\n",
      "step =  12000 error value =  2.772678702459335\n",
      "step =  12400 error value =  2.7726678135949774\n",
      "step =  12800 error value =  2.7726582414831835\n",
      "step =  13200 error value =  2.7726498249938287\n",
      "step =  13600 error value =  2.772642423049926\n",
      "step =  14000 error value =  2.7726359120733397\n",
      "step =  14400 error value =  2.7726301837658944\n",
      "step =  14800 error value =  2.7726251431801905\n",
      "step =  15200 error value =  2.7726207070408675\n",
      "step =  15600 error value =  2.7726168022826565\n",
      "step =  16000 error value =  2.772613364776249\n",
      "step =  16400 error value =  2.7726103382170564\n",
      "step =  16800 error value =  2.772607673155367\n",
      "step =  17200 error value =  2.7726053261493537\n",
      "step =  17600 error value =  2.772603259024927\n",
      "step =  18000 error value =  2.7726014382285595\n",
      "step =  18400 error value =  2.7725998342611153\n",
      "step =  18800 error value =  2.7725984211822614\n",
      "step =  19200 error value =  2.7725971761764647\n",
      "step =  19600 error value =  2.772596079172751\n",
      "step =  20000 error value =  2.772595112511403\n",
      "step =  20400 error value =  2.772594260651699\n",
      "step =  20800 error value =  2.7725935099155357\n",
      "step =  21200 error value =  2.7725928482624465\n",
      "step =  21600 error value =  2.7725922650921024\n",
      "step =  22000 error value =  2.772591751070891\n",
      "step =  22400 error value =  2.7725912979795893\n",
      "step =  22800 error value =  2.7725908985795162\n",
      "step =  23200 error value =  2.7725905464949143\n",
      "step =  23600 error value =  2.77259023610955\n",
      "step =  24000 error value =  2.7725899624757986\n",
      "step =  24400 error value =  2.7725897212346915\n",
      "step =  24800 error value =  2.772589508545587\n",
      "step =  25200 error value =  2.7725893210242982\n",
      "step =  25600 error value =  2.7725891556886433\n",
      "step =  26000 error value =  2.772589009910538\n",
      "step =  26400 error value =  2.7725888813738138\n",
      "step =  26800 error value =  2.772588768037091\n",
      "step =  27200 error value =  2.7725886681010916\n",
      "step =  27600 error value =  2.7725885799798515\n",
      "step =  28000 error value =  2.7725885022753745\n",
      "step =  28400 error value =  2.772588433755304\n",
      "step =  28800 error value =  2.7725883733332566\n",
      "step =  29200 error value =  2.7725883200515025\n",
      "step =  29600 error value =  2.7725882730656997\n",
      "step =  30000 error value =  2.772588231631447\n"
     ]
    }
   ],
   "source": [
    "# xor gate 검증\n",
    "learning_rate = 1e-3  \n",
    "\n",
    "f = lambda x : loss_func(xdata, tdata)  \n",
    "\n",
    "print(\"Initial error value = \", error_val(xdata, tdata))\n",
    "\n",
    "for step in  range(30001):  \n",
    "    \n",
    "    W -= learning_rate * numerical_derivative(f, W)\n",
    "    \n",
    "    b -= learning_rate * numerical_derivative(f, b)\n",
    "    \n",
    "    if (step % 400 == 0):\n",
    "        print(\"step = \", step, \"error value = \", error_val(xdata, tdata))"
   ]
  },
  {
   "cell_type": "code",
   "execution_count": 7,
   "metadata": {
    "collapsed": false
   },
   "outputs": [
    {
     "name": "stdout",
     "output_type": "stream",
     "text": [
      "XOR Gate verification\n",
      "real_val [0.49968118] , logical_val =  0\n",
      "real_val [0.49994077] , logical_val =  0\n",
      "real_val [0.49995921] , logical_val =  0\n",
      "real_val [0.50021881] , logical_val =  1\n"
     ]
    }
   ],
   "source": [
    "# xor 검증\n",
    "print(\"XOR Gate verification\")\n",
    "\n",
    "for input_data in test_data:\n",
    "    (real_val, logical_val) = predict(input_data)\n",
    "    print(\"real_val\", real_val, \", logical_val = \", logical_val)"
   ]
  },
  {
   "cell_type": "code",
   "execution_count": null,
   "metadata": {
    "collapsed": true
   },
   "outputs": [],
   "source": []
  }
 ],
 "metadata": {
  "anaconda-cloud": {},
  "kernelspec": {
   "display_name": "Python [default]",
   "language": "python",
   "name": "python3"
  },
  "language_info": {
   "codemirror_mode": {
    "name": "ipython",
    "version": 3
   },
   "file_extension": ".py",
   "mimetype": "text/x-python",
   "name": "python",
   "nbconvert_exporter": "python",
   "pygments_lexer": "ipython3",
   "version": "3.5.2"
  }
 },
 "nbformat": 4,
 "nbformat_minor": 1
}
