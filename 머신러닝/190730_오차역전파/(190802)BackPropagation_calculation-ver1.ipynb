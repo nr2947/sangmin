{
 "cells": [
  {
   "cell_type": "markdown",
   "metadata": {},
   "source": [
    "#### 초기 값 세팅"
   ]
  },
  {
   "cell_type": "code",
   "execution_count": 1,
   "metadata": {},
   "outputs": [
    {
     "name": "stdout",
     "output_type": "stream",
     "text": [
      "W2.shape =  (2, 2) , W3.shape =  (2, 2)\n",
      "T.shape =  (1, 2) , b2.shape =  (1, 2) , b3.shape =  (1, 2)\n"
     ]
    }
   ],
   "source": [
    "import numpy as np\n",
    "\n",
    "X = np.array([1, 2], ndmin=2)\n",
    "\n",
    "W2 = np.array([ [1,1],[2,1] ])\n",
    "W3 = np.array([ [2,1],[1,1] ])\n",
    "\n",
    "T = np.array([2, 1], ndmin=2)\n",
    "\n",
    "b2 = np.array([1,1], ndmin=2)\n",
    "b3 = np.array([0,2], ndmin=2)\n",
    "\n",
    "lr = 0.1\n",
    "\n",
    "print('W2.shape = ', W2.shape, \", W3.shape = \", W3.shape)\n",
    "print('T.shape = ', T.shape, \", b2.shape = \", b2.shape, \", b3.shape = \", b3.shape)"
   ]
  },
  {
   "cell_type": "code",
   "execution_count": 2,
   "metadata": {},
   "outputs": [],
   "source": [
    "# A 는 1X2 matrix\n",
    "def sigmoid(A):\n",
    "    \n",
    "    dic = { 0:-3, \n",
    "            1:-2,\n",
    "            2:-1,\n",
    "            3:0,\n",
    "            4:1,\n",
    "            5:2,\n",
    "            6:3,\n",
    "            7:4 }\n",
    "    \n",
    "    a1 = dic[A[0,0]]\n",
    "    a2 = dic[A[0,1]]\n",
    "    \n",
    "    return np.array([a1, a2], ndmin=2)"
   ]
  },
  {
   "cell_type": "markdown",
   "metadata": {},
   "source": [
    "#### 입력층 출력 값 A1 계산"
   ]
  },
  {
   "cell_type": "code",
   "execution_count": 3,
   "metadata": {},
   "outputs": [
    {
     "name": "stdout",
     "output_type": "stream",
     "text": [
      "X =  [[1 2]] , X.shape =  (1, 2)\n"
     ]
    }
   ],
   "source": [
    "A1 = X\n",
    "\n",
    "print('X = ', X, \", X.shape = \", X.shape)"
   ]
  },
  {
   "cell_type": "markdown",
   "metadata": {},
   "source": [
    "#### 은닉층 선형회귀 Z2 및 출력값 A2 계산"
   ]
  },
  {
   "cell_type": "code",
   "execution_count": 4,
   "metadata": {},
   "outputs": [
    {
     "name": "stdout",
     "output_type": "stream",
     "text": [
      "Z2 =  [[6 4]] , Z2.shape =  (1, 2)\n"
     ]
    }
   ],
   "source": [
    "Z2 = np.dot(A1, W2) + b2\n",
    "\n",
    "print(\"Z2 = \", Z2, \", Z2.shape = \",Z2.shape)"
   ]
  },
  {
   "cell_type": "code",
   "execution_count": 5,
   "metadata": {},
   "outputs": [
    {
     "name": "stdout",
     "output_type": "stream",
     "text": [
      "A2 =  [[3 1]] , A2.shape =  (1, 2)\n"
     ]
    }
   ],
   "source": [
    "A2 = sigmoid(Z2)\n",
    "\n",
    "print(\"A2 = \", A2, \", A2.shape = \",A2.shape)"
   ]
  },
  {
   "cell_type": "markdown",
   "metadata": {},
   "source": [
    "#### 출력층 선형회귀 Z3 및 출력값 A3 계산"
   ]
  },
  {
   "cell_type": "code",
   "execution_count": 6,
   "metadata": {},
   "outputs": [
    {
     "name": "stdout",
     "output_type": "stream",
     "text": [
      "Z3 =  [[7 6]] , Z3.shape =  (1, 2)\n"
     ]
    }
   ],
   "source": [
    "Z3 = np.dot(A2, W3) + b3\n",
    "\n",
    "print(\"Z3 = \", Z3, \", Z3.shape = \",Z3.shape)"
   ]
  },
  {
   "cell_type": "code",
   "execution_count": 7,
   "metadata": {},
   "outputs": [
    {
     "name": "stdout",
     "output_type": "stream",
     "text": [
      "A3 =  [[4 3]] , A3.shape =  (1, 2)\n"
     ]
    }
   ],
   "source": [
    "A3 = sigmoid(Z3)\n",
    "\n",
    "print(\"A3 = \", A3, \", A3.shape = \",A3.shape)"
   ]
  },
  {
   "cell_type": "markdown",
   "metadata": {},
   "source": [
    "#### back propagation 계산\n",
    "#### W3, b3 계산"
   ]
  },
  {
   "cell_type": "code",
   "execution_count": 8,
   "metadata": {},
   "outputs": [
    {
     "name": "stdout",
     "output_type": "stream",
     "text": [
      "loss_3 =  [[-24 -12]] , loss_3.shape =  (1, 2)\n",
      "loss_2 =  [[360   0]] , loss_2.shape =  (1, 2)\n"
     ]
    }
   ],
   "source": [
    "# loss_3 = A3*(1-A3)\n",
    "loss_3 = (A3-T) * A3* (1-A3)\n",
    "loss_2 = np.dot(loss_3, W3.T) * A2 * (1-A2)\n",
    "\n",
    "print(\"loss_3 = \", loss_3, \", loss_3.shape = \", loss_3.shape)\n",
    "print(\"loss_2 = \", loss_2, \", loss_2.shape = \", loss_2.shape)\n",
    "#loss_3 = np.array([ -6, 0 ])"
   ]
  },
  {
   "cell_type": "code",
   "execution_count": 9,
   "metadata": {},
   "outputs": [
    {
     "name": "stdout",
     "output_type": "stream",
     "text": [
      "W3 =  [[9.2 4.6]\n",
      " [3.4 2.2]] , W3.shape =  (2, 2)\n",
      "b3 =  [[2.4 3.2]] , b3.shape =  (1, 2)\n"
     ]
    }
   ],
   "source": [
    "W3 = W3 - lr*(np.dot(A2.T, loss_3))\n",
    "b3 = b3 - lr*loss_3\n",
    "\n",
    "print(\"W3 = \", W3, \", W3.shape = \", W3.shape)\n",
    "print(\"b3 = \", b3, \", b3.shape = \", b3.shape)"
   ]
  },
  {
   "cell_type": "markdown",
   "metadata": {},
   "source": [
    "#### W2, b2 계산"
   ]
  },
  {
   "cell_type": "code",
   "execution_count": 10,
   "metadata": {},
   "outputs": [],
   "source": [
    "#loss_2 = np.dot(loss_3, W3.T) * A2 * (1-A2)\n",
    "\n",
    "#print(\"loss_2 = \", loss_2, \", loss_2.shape = \", loss_2.shape)"
   ]
  },
  {
   "cell_type": "code",
   "execution_count": 11,
   "metadata": {},
   "outputs": [
    {
     "name": "stdout",
     "output_type": "stream",
     "text": [
      "W2 =  [[-35.   1.]\n",
      " [-70.   1.]] , W2.shape =  (2, 2)\n",
      "b2 =  [[-35.   1.]] , b2.shape =  (1, 2)\n"
     ]
    }
   ],
   "source": [
    "W2 = W2 - lr*(np.dot(A1.T, loss_2))\n",
    "b2 = b2 - lr*loss_2\n",
    "\n",
    "print(\"W2 = \", W2, \", W2.shape = \", W2.shape)\n",
    "print(\"b2 = \", b2, \", b2.shape = \", b2.shape)"
   ]
  },
  {
   "cell_type": "code",
   "execution_count": null,
   "metadata": {
    "collapsed": true
   },
   "outputs": [],
   "source": []
  }
 ],
 "metadata": {
  "anaconda-cloud": {},
  "kernelspec": {
   "display_name": "Python 3",
   "language": "python",
   "name": "python3"
  },
  "language_info": {
   "codemirror_mode": {
    "name": "ipython",
    "version": 3
   },
   "file_extension": ".py",
   "mimetype": "text/x-python",
   "name": "python",
   "nbconvert_exporter": "python",
   "pygments_lexer": "ipython3",
   "version": "3.6.5"
  }
 },
 "nbformat": 4,
 "nbformat_minor": 1
}
