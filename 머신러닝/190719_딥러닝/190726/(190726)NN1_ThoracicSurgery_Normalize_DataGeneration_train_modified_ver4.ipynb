{
 "cells": [
  {
   "cell_type": "markdown",
   "metadata": {},
   "source": [
    "## 전치행렬과 max 값을 이용하여 데이터 Normalize 한 후,\n",
    "## training data 와 test data 분리"
   ]
  },
  {
   "cell_type": "code",
   "execution_count": 1,
   "metadata": {},
   "outputs": [],
   "source": [
    "import numpy as np\n",
    "from datetime import datetime\n",
    "\n",
    "# 수치미분 함수\n",
    "\n",
    "def numerical_derivative(f, x):\n",
    "    delta_x = 1e-4 # 0.0001\n",
    "    grad = np.zeros_like(x)\n",
    "    \n",
    "    it = np.nditer(x, flags=['multi_index'], op_flags=['readwrite'])\n",
    "    \n",
    "    while not it.finished:\n",
    "        idx = it.multi_index        \n",
    "        tmp_val = x[idx]\n",
    "        x[idx] = float(tmp_val) + delta_x\n",
    "        fx1 = f(x) # f(x+delta_x)\n",
    "        \n",
    "        x[idx] = tmp_val - delta_x \n",
    "        fx2 = f(x) # f(x-delta_x)\n",
    "        grad[idx] = (fx1 - fx2) / (2*delta_x)\n",
    "        \n",
    "        x[idx] = tmp_val \n",
    "        it.iternext()   \n",
    "        \n",
    "    return grad\n",
    "\n",
    "# sigmoid 함수\n",
    "\n",
    "def sigmoid(x):\n",
    "    return 1 / (1+np.exp(-x))"
   ]
  },
  {
   "cell_type": "code",
   "execution_count": 2,
   "metadata": {
    "collapsed": true
   },
   "outputs": [],
   "source": [
    "# ThoracicSurgery Class\n",
    "\n",
    "class ThoracicSurgery:\n",
    "    \n",
    "    # 생성자\n",
    "    # xdata, tdata => numpy.array(...)\n",
    "    def __init__(self, xdata, tdata, input_nodes, hidden_nodes, output_nodes, learning_rate, epochs):\n",
    "        \n",
    "        # xdata = training_data[ :, :-1]\n",
    "        # tdata = training_data[ :, -1] \n",
    "        self.xdata = xdata\n",
    "        self.tdata = tdata\n",
    "        \n",
    "        # 2층 hidden layer unit \n",
    "        # 가중치 W, 바이어스 b 초기화\n",
    "        self.W2 = np.random.rand(input_nodes, hidden_nodes)  \n",
    "        self.b2 = np.random.rand(hidden_nodes)\n",
    "        \n",
    "        # 3층 output layer unit : 1 개 \n",
    "        self.W3 = np.random.rand(hidden_nodes,output_nodes)\n",
    "        self.b3 = np.random.rand(output_nodes)\n",
    "                        \n",
    "        # 학습률 learning rate 초기화\n",
    "        self.learning_rate = learning_rate\n",
    "        \n",
    "        self.epochs = epochs\n",
    "        \n",
    "        print(\"ThoracicSurgery object is created !!!\")\n",
    "        \n",
    "    # 손실함수\n",
    "    def feed_forward(self):\n",
    "        \n",
    "        delta = 1e-7    # log 무한대 발산 방지\n",
    "    \n",
    "        z2 = np.dot(self.input_data, self.W2) + self.b2\n",
    "        a2 = sigmoid(z2)\n",
    "        \n",
    "        z3 = np.dot(a2, self.W3) + self.b3\n",
    "        y = a3 = sigmoid(z3)\n",
    "    \n",
    "        # cross-entropy \n",
    "        return  -np.sum( self.target_data*np.log(y + delta) + (1-self.target_data)*np.log((1 - y)+delta ) )\n",
    "    \n",
    "    # obtain W and b\n",
    "    def get_W_b(self):\n",
    "        \n",
    "        return self.W2,  self.b2, self.W3, self.b3\n",
    "    \n",
    "    # 손실 값 계산\n",
    "    def loss_val(self):\n",
    "        \n",
    "        delta = 1e-7    # log 무한대 발산 방지\n",
    "    \n",
    "        z2 = np.dot(self.input_data, self.W2) + self.b2\n",
    "        a2 = sigmoid(z2)\n",
    "        \n",
    "        z3 = np.dot(a2, self.W3) + self.b3\n",
    "        y = a3 = sigmoid(z3)\n",
    "    \n",
    "        # cross-entropy \n",
    "        return  -np.sum( self.target_data*np.log(y + delta) + (1-self.target_data)*np.log((1 - y)+delta ) )\n",
    "    \n",
    "    # query, 즉 미래 값 예측 함수\n",
    "    def predict(self, input_data):    \n",
    "        \n",
    "        z2 = np.dot(input_data, self.W2) + self.b2\n",
    "        a2 = sigmoid(z2)\n",
    "        \n",
    "        z3 = np.dot(a2, self.W3) + self.b3\n",
    "        y = a3 = sigmoid(z3)\n",
    "    \n",
    "        if y >= 0.5:\n",
    "            result = 1  # True\n",
    "        else:\n",
    "            result = 0  # False\n",
    "    \n",
    "        return y, result\n",
    "\n",
    "    \n",
    "    def accuracy(self, input_data, target_data):\n",
    "        \n",
    "        matched_list = []\n",
    "        not_matched_list = []\n",
    "        \n",
    "        # list which contains (index, label, prediction) value\n",
    "        index_label_prediction_list = []\n",
    "        \n",
    "        # temp list which contains label and prediction in sequence\n",
    "        temp_list = []\n",
    "        \n",
    "        for index in range(len(input_data)):\n",
    "            \n",
    "            (real_val, logical_val) = self.predict(input_data[index])\n",
    "            \n",
    "            if logical_val == target_data[index]:\n",
    "                matched_list.append(index)\n",
    "            else:\n",
    "                not_matched_list.append(index)\n",
    "                \n",
    "                temp_list.append(index)\n",
    "                temp_list.append(target_data[index])\n",
    "                temp_list.append(logical_val)\n",
    "                \n",
    "                index_label_prediction_list.append(temp_list)\n",
    "                \n",
    "                temp_list = []\n",
    "                \n",
    "                \n",
    "        accuracy_result = len(matched_list) / len(input_data)\n",
    "        \n",
    "        print(\"Accuracy => \", accuracy_result)\n",
    "        \n",
    "        return matched_list, not_matched_list, index_label_prediction_list\n",
    "    \n",
    "        \n",
    "    # 수치미분을 이용하여 손실함수가 최소가 될때 까지 학습하는 함수\n",
    "    def train(self):\n",
    "                \n",
    "        start_time = datetime.now()\n",
    "\n",
    "        for step in range(self.epochs):\n",
    "    \n",
    "            for index in range(len(self.xdata)):\n",
    "        \n",
    "                self.input_data = self.xdata[index]\n",
    "                self.target_data = self.tdata[index] \n",
    "        \n",
    "                f = lambda x : self.feed_forward()\n",
    "        \n",
    "                self.W2 -= self.learning_rate * numerical_derivative(f, self.W2)\n",
    "    \n",
    "                self.b2 -= self.learning_rate * numerical_derivative(f, self.b2)\n",
    "        \n",
    "                self.W3 -= self.learning_rate * numerical_derivative(f, self.W3)\n",
    "    \n",
    "                self.b3 -= self.learning_rate * numerical_derivative(f, self.b3)\n",
    "        \n",
    "            if (step % 2 == 0):\n",
    "                print(\"epochs = \", step, \"loss value = \", self.loss_val())\n",
    "\n",
    "        end_time = datetime.now()\n",
    "        \n",
    "        print(\"\")\n",
    "        print(\"Elapsed Time => \", end_time - start_time)"
   ]
  },
  {
   "cell_type": "markdown",
   "metadata": {},
   "source": [
    "## ThoracicSurgery.csv 를 읽어 온 후에,\n",
    "## 각 열의 최대값을 구하기 위해 원본 행렬을 전치행렬로 변환함"
   ]
  },
  {
   "cell_type": "code",
   "execution_count": 3,
   "metadata": {},
   "outputs": [
    {
     "name": "stdout",
     "output_type": "stream",
     "text": [
      "loaded_data.shape =  (470, 18)\n",
      "transpose_loaded_data.shape =  (18, 470)\n"
     ]
    }
   ],
   "source": [
    "# Normalize 않되어 있는 ThoracicSurgery.csv 읽어옴\n",
    "loaded_data = np.loadtxt('./ThoracicSurgery.csv', delimiter=',', dtype=np.float32)\n",
    "\n",
    "print(\"loaded_data.shape = \", loaded_data.shape)\n",
    "\n",
    "# 각 열의 최대값을 찾기 위해 행과 열을 바꾸어 줌. 즉 전치향렬을 만들어줌\n",
    "transpose_loaded_data = loaded_data.T\n",
    "\n",
    "print(\"transpose_loaded_data.shape = \", transpose_loaded_data.shape)"
   ]
  },
  {
   "cell_type": "markdown",
   "metadata": {},
   "source": [
    "## 전치된 행렬에서 각 행의 최대 값을 찾아 나누어 주면서 Normalize 시킨 후에,\n",
    "## 다시 전치행렬을 만들어서 csv 파일로 저장함"
   ]
  },
  {
   "cell_type": "code",
   "execution_count": 4,
   "metadata": {},
   "outputs": [
    {
     "name": "stdout",
     "output_type": "stream",
     "text": [
      "(18, 470)\n",
      "(470, 18)\n"
     ]
    }
   ],
   "source": [
    "# 전치행렬을 위한 리스트\n",
    "transpose_normalize_data_list = []\n",
    "\n",
    "for index in range(len(transpose_loaded_data)):\n",
    "    \n",
    "    max_value = np.max(transpose_loaded_data[index, :])   # 각 행의 최대값을 찾음\n",
    "    \n",
    "    # 최대값이 1 이상이면 최대값으로 나누어서 \n",
    "    # 모든 데이터가 0 ~ 1 사이에 오도록 함\n",
    "    if max_value > 1.0:  \n",
    "        \n",
    "        transpose_normalize_data_list.append(transpose_loaded_data[index, :] / max_value)\n",
    "       \n",
    "    # 최대값이 1 보다 작으면 해당 값을 그대로 사용함. \n",
    "    ## 왜냐하면 1보다 작은 값이면 굳이 바꿀 필요가 없음\n",
    "    else:      \n",
    "        \n",
    "        transpose_normalize_data_list.append(transpose_loaded_data[index, :])\n",
    "        \n",
    "\n",
    "# 리스트를 numpy type 으로 변환\n",
    "transpose_normalize_data = np.array(transpose_normalize_data_list)\n",
    "\n",
    "print(transpose_normalize_data.shape)\n",
    "\n",
    "# 데이터 저장을 위해 다시 전치행렬을 통해 행과 열을 바꿈\n",
    "normalize_data = transpose_normalize_data.T\n",
    "\n",
    "print(normalize_data.shape)\n",
    "\n",
    "# normalize 파일저장\n",
    "np.savetxt('./Normalize_ThoracicSurgery_data.csv', normalize_data, delimiter=',')"
   ]
  },
  {
   "cell_type": "code",
   "execution_count": 5,
   "metadata": {},
   "outputs": [
    {
     "name": "stdout",
     "output_type": "stream",
     "text": [
      "loaded_data.shape =  (470, 18)\n",
      "training_data.shape =  (313, 18)\n",
      "test_data.shape =  (157, 18)\n"
     ]
    }
   ],
   "source": [
    "# 데이터 불러오기\n",
    "\n",
    "loaded_data = np.loadtxt('./Normalize_ThoracicSurgery_data.csv', delimiter=',', dtype=np.float32)\n",
    "\n",
    "print(\"loaded_data.shape = \", loaded_data.shape)\n",
    "\n",
    "# 임시 저장 리스트\n",
    "training_data_list = []\n",
    "test_data_list = []\n",
    "\n",
    "# 전체 30 % 라는것은 전체 길이에 대해 3 으로 나누어주면 됨\n",
    "seperation_rate = 3\n",
    "\n",
    "for index in range(len(loaded_data)):\n",
    "    \n",
    "    if (index % seperation_rate) == 0:\n",
    "        \n",
    "        test_data_list.append(loaded_data[index])\n",
    "        \n",
    "    else:\n",
    "        \n",
    "        training_data_list.append(loaded_data[index])\n",
    "        \n",
    "# generate training data from training_data_list using np.arrya(...)\n",
    "training_data = np.array(training_data_list)\n",
    "\n",
    "# generate test data from test_data_list using np.arrya(...)\n",
    "test_data = np.array(test_data_list)\n",
    "\n",
    "# verification shape\n",
    "print(\"training_data.shape = \", training_data.shape)\n",
    "print(\"test_data.shape = \", test_data.shape)\n",
    "\n",
    "# save training & test data (.csv)\n",
    "np.savetxt('./ThoracicSurgery_generated_training_data.csv', training_data, delimiter=',')\n",
    "np.savetxt('./ThoracicSurgery_generated_test_data.csv', test_data, delimiter=',')"
   ]
  },
  {
   "cell_type": "code",
   "execution_count": 6,
   "metadata": {},
   "outputs": [
    {
     "name": "stdout",
     "output_type": "stream",
     "text": [
      "ThoracicSurgery object is created !!!\n",
      "Neural Network Learning using Numerical Derivative...\n",
      "epochs =  0 loss value =  4.138733593756896\n",
      "epochs =  2 loss value =  0.30237069908111613\n",
      "epochs =  4 loss value =  0.18820180593938407\n",
      "epochs =  6 loss value =  0.17139566171392598\n",
      "epochs =  8 loss value =  0.16767105533559398\n",
      "epochs =  10 loss value =  0.1666857786382111\n",
      "epochs =  12 loss value =  0.16632953931402217\n",
      "epochs =  14 loss value =  0.1661211698703329\n",
      "epochs =  16 loss value =  0.16594808052126567\n",
      "epochs =  18 loss value =  0.16578375841624762\n",
      "epochs =  20 loss value =  0.1656219435373756\n",
      "epochs =  22 loss value =  0.16546114936816403\n",
      "epochs =  24 loss value =  0.1653010149726762\n",
      "epochs =  26 loss value =  0.16514144491775895\n",
      "epochs =  28 loss value =  0.16498240647641566\n",
      "\n",
      "Elapsed Time =>  0:03:49.784000\n"
     ]
    }
   ],
   "source": [
    "#hyper-parameter\n",
    "i_nodes = training_data.shape[1] - 1    # input nodes 개수\n",
    "h1_nodes = 20  # hidden nodes 개수. \n",
    "o_nodes = 1    # output nodes 개수\n",
    "lr = 1e-3      # learning rate. hi_node = 30, \n",
    "epochs = 30\n",
    "\n",
    "# separate input data and target data\n",
    "xdata = training_data[ :, :-1 ]\n",
    "tdata = training_data[ :, -1 ] \n",
    "\n",
    "# ThoraricSurgery 객체 생성\n",
    "obj = ThoracicSurgery(xdata, tdata, i_nodes, h1_nodes, o_nodes, lr, epochs)\n",
    "\n",
    "print(\"Neural Network Learning using Numerical Derivative...\")\n",
    "\n",
    "obj.train()"
   ]
  },
  {
   "cell_type": "code",
   "execution_count": 7,
   "metadata": {},
   "outputs": [
    {
     "name": "stdout",
     "output_type": "stream",
     "text": [
      "test_data.shape =  (157, 18)\n",
      "Accuracy =>  0.8280254777070064\n"
     ]
    }
   ],
   "source": [
    "test_data = np.loadtxt('./ThoracicSurgery_generated_test_data.csv', delimiter=',', dtype=np.float32)\n",
    "print(\"test_data.shape = \", test_data.shape)\n",
    "\n",
    "test_input_data = test_data[ :, 0:-1 ]\n",
    "test_target_data = test_data[ :, -1 ]\n",
    "\n",
    "(true_list_1, false_list_1, index_label_prediction_list) = obj.accuracy(test_input_data, test_target_data) "
   ]
  },
  {
   "cell_type": "code",
   "execution_count": 8,
   "metadata": {},
   "outputs": [
    {
     "name": "stdout",
     "output_type": "stream",
     "text": [
      "[[1, 1.0, 0], [10, 1.0, 0], [12, 1.0, 0], [13, 1.0, 0], [15, 1.0, 0], [16, 1.0, 0], [24, 1.0, 0], [32, 1.0, 0], [36, 1.0, 0], [41, 1.0, 0], [49, 1.0, 0], [60, 1.0, 0], [65, 1.0, 0], [66, 1.0, 0], [70, 1.0, 0], [77, 1.0, 0], [80, 1.0, 0], [83, 1.0, 0], [86, 1.0, 0], [97, 1.0, 0], [103, 1.0, 0], [107, 1.0, 0], [115, 1.0, 0], [137, 1.0, 0], [152, 1.0, 0], [154, 1.0, 0], [156, 1.0, 0]]\n"
     ]
    }
   ],
   "source": [
    "print(index_label_prediction_list)"
   ]
  },
  {
   "cell_type": "code",
   "execution_count": null,
   "metadata": {
    "collapsed": true
   },
   "outputs": [],
   "source": []
  }
 ],
 "metadata": {
  "anaconda-cloud": {},
  "kernelspec": {
   "display_name": "Python 3",
   "language": "python",
   "name": "python3"
  },
  "language_info": {
   "codemirror_mode": {
    "name": "ipython",
    "version": 3
   },
   "file_extension": ".py",
   "mimetype": "text/x-python",
   "name": "python",
   "nbconvert_exporter": "python",
   "pygments_lexer": "ipython3",
   "version": "3.6.5"
  }
 },
 "nbformat": 4,
 "nbformat_minor": 1
}
