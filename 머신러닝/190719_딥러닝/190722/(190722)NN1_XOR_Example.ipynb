{
 "cells": [
  {
   "cell_type": "code",
   "execution_count": 1,
   "metadata": {},
   "outputs": [],
   "source": [
    "import numpy as np\n",
    "from datetime import datetime\n",
    "\n",
    "# 수치미분 함수\n",
    "\n",
    "def numerical_derivative(f, x):\n",
    "    delta_x = 1e-4 # 0.0001\n",
    "    grad = np.zeros_like(x)\n",
    "    \n",
    "    it = np.nditer(x, flags=['multi_index'], op_flags=['readwrite'])\n",
    "    \n",
    "    while not it.finished:\n",
    "        idx = it.multi_index        \n",
    "        tmp_val = x[idx]\n",
    "        x[idx] = float(tmp_val) + delta_x\n",
    "        fx1 = f(x) # f(x+delta_x)\n",
    "        \n",
    "        x[idx] = tmp_val - delta_x \n",
    "        fx2 = f(x) # f(x-delta_x)\n",
    "        grad[idx] = (fx1 - fx2) / (2*delta_x)\n",
    "        \n",
    "        x[idx] = tmp_val \n",
    "        it.iternext()   \n",
    "        \n",
    "    return grad\n",
    "\n",
    "# sigmoid 함수\n",
    "\n",
    "def sigmoid(x):\n",
    "    return 1 / (1+np.exp(-x))"
   ]
  },
  {
   "cell_type": "code",
   "execution_count": 2,
   "metadata": {},
   "outputs": [],
   "source": [
    "# feed forward\n",
    "def feed_forward(xdata, tdata):        # feed forward 를 통하여 손실함수(cross-entropy) 값 계산\n",
    "        \n",
    "    delta = 1e-7    # log 무한대 발산 방지\n",
    "    \n",
    "    z2 = np.dot(xdata, W2) + b2  # 은닉층의 선형회귀 값\n",
    "    a2 = sigmoid(z2)                                  # 은닉층의 출력\n",
    "        \n",
    "    z3 = np.dot(a2, W3) + b3            # 출력층의 선형회귀 값\n",
    "    y = a3 = sigmoid(z3)                              # 출력층의 출력\n",
    "    \n",
    "    # cross-entropy \n",
    "    return  -np.sum( tdata*np.log(y + delta) + (1-tdata)*np.log((1 - y)+delta ) )    \n",
    "\n",
    "\n",
    "\n",
    "# loss val\n",
    "def loss_val(xdata, tdata):        # feed forward 를 통하여 손실함수(cross-entropy) 값 계산\n",
    "        \n",
    "    delta = 1e-7    # log 무한대 발산 방지\n",
    "    \n",
    "    z2 = np.dot(xdata, W2) + b2  # 은닉층의 선형회귀 값\n",
    "    a2 = sigmoid(z2)                                  # 은닉층의 출력\n",
    "        \n",
    "    z3 = np.dot(a2, W3) + b3            # 출력층의 선형회귀 값\n",
    "    y = a3 = sigmoid(z3)                              # 출력층의 출력\n",
    "    \n",
    "    # cross-entropy \n",
    "    return  -np.sum( tdata*np.log(y + delta) + (1-tdata)*np.log((1 - y)+delta ) )    "
   ]
  },
  {
   "cell_type": "code",
   "execution_count": 3,
   "metadata": {},
   "outputs": [],
   "source": [
    "# query, 즉 미래 값 예측 함수\n",
    "def predict(xdata):\n",
    "        \n",
    "    z2 = np.dot(xdata, W2) + b2         # 은닉층의 선형회귀 값\n",
    "    a2 = sigmoid(z2)                                  # 은닉층의 출력\n",
    "        \n",
    "    z3 = np.dot(a2, W3) + b3            # 출력층의 선형회귀 값\n",
    "    y = a3 = sigmoid(z3)                              # 출력층의 출력\n",
    "    \n",
    "    if y >= 0.5:\n",
    "        result = 1  # True\n",
    "    else:\n",
    "        result = 0  # False\n",
    "    \n",
    "    return y, result"
   ]
  },
  {
   "cell_type": "code",
   "execution_count": 4,
   "metadata": {},
   "outputs": [],
   "source": [
    "# and, or, nand, xor data\n",
    "xdata = np.array([ [0,0], [0,1], [1,0], [1,1] ])   \n",
    "\n",
    "and_tdata = np.array([0, 0, 0, 1]).reshape(4,1)\n",
    "or_tdata = np.array([0, 1, 1, 1]).reshape(4,1)\n",
    "nand_tdata = np.array([1, 1, 1, 0]).reshape(4,1)\n",
    "xor_tdata = np.array([0, 1, 1, 0]).reshape(4,1)\n",
    "\n",
    "# test data\n",
    "test_data = np.array([ [0,0], [0,1], [1,0], [1,1] ])"
   ]
  },
  {
   "cell_type": "code",
   "execution_count": 5,
   "metadata": {},
   "outputs": [
    {
     "name": "stdout",
     "output_type": "stream",
     "text": [
      "Initial loss value =  9.289299555055772\n",
      "step =  0   , loss value =  6.953077032317731\n",
      "step =  400   , loss value =  2.438666817866771\n",
      "step =  800   , loss value =  0.9713423758356354\n",
      "step =  1200   , loss value =  0.21316559864141044\n",
      "step =  1600   , loss value =  0.09147321679536785\n",
      "step =  2000   , loss value =  0.054297371146152254\n",
      "step =  2400   , loss value =  0.037523891989765586\n",
      "step =  2800   , loss value =  0.02824857802626775\n",
      "step =  3200   , loss value =  0.022451958707714242\n",
      "step =  3600   , loss value =  0.01852280274111505\n",
      "step =  4000   , loss value =  0.01570129789143936\n",
      "step =  4400   , loss value =  0.013586117951152533\n",
      "step =  4800   , loss value =  0.011946784755192548\n",
      "step =  5200   , loss value =  0.010642143465222687\n",
      "step =  5600   , loss value =  0.00958122204886118\n",
      "step =  6000   , loss value =  0.008702910802747044\n",
      "step =  6400   , loss value =  0.007964726591470368\n",
      "step =  6800   , loss value =  0.007336269508931419\n",
      "step =  7200   , loss value =  0.006795242921030812\n",
      "step =  7600   , loss value =  0.006324941473601353\n",
      "step =  8000   , loss value =  0.005912614315275479\n",
      "step =  8400   , loss value =  0.005548368621504865\n",
      "step =  8800   , loss value =  0.005224416962350674\n",
      "step =  9200   , loss value =  0.00493454943012303\n",
      "step =  9600   , loss value =  0.004673756220684092\n",
      "step =  10000   , loss value =  0.004437953091265841\n",
      "\n",
      "Elapsed Time =>  0:00:22.296337\n"
     ]
    }
   ],
   "source": [
    "# define neural network architecture\n",
    "input_nodes = 2   # 입력노드 2개\n",
    "hidden_nodes = 10  # 은닉노드 10개\n",
    "output_nodes= 1   # 출력노드 1개\n",
    "\n",
    "W2 = np.random.rand(input_nodes,hidden_nodes)  # 입력층-은닉층 가중치\n",
    "b2 = np.random.rand(hidden_nodes)    # 은닉층 바이어스\n",
    "\n",
    "W3 = np.random.rand(hidden_nodes,output_nodes)  # 은닉층-출력층 가중치\n",
    "b3 = np.random.rand(output_nodes)    # 출력층 바이어스\n",
    "\n",
    "learning_rate = 1e-1\n",
    "\n",
    "# xor verification\n",
    "f = lambda x : feed_forward(xdata, xor_tdata)\n",
    "        \n",
    "print(\"Initial loss value = \", loss_val(xdata, xor_tdata))\n",
    "     \n",
    "start_time = datetime.now()\n",
    "\n",
    "for step in  range(10001):\n",
    "            \n",
    "    W2 -= learning_rate * numerical_derivative(f, W2)\n",
    "    \n",
    "    b2 -= learning_rate * numerical_derivative(f, b2)\n",
    "        \n",
    "    W3 -= learning_rate * numerical_derivative(f, W3)\n",
    "    \n",
    "    b3 -= learning_rate * numerical_derivative(f, b3)\n",
    "    \n",
    "    if (step % 400 == 0):\n",
    "        print(\"step = \", step, \"  , loss value = \", loss_val(xdata, xor_tdata))\n",
    "        \n",
    "end_time = datetime.now()\n",
    "\n",
    "print(\"\")\n",
    "print(\"Elapsed Time => \", end_time - start_time)"
   ]
  },
  {
   "cell_type": "code",
   "execution_count": 6,
   "metadata": {},
   "outputs": [
    {
     "name": "stdout",
     "output_type": "stream",
     "text": [
      "real_val [0.00096639] , logical_val =  0\n",
      "real_val [0.99889288] , logical_val =  1\n",
      "real_val [0.99887524] , logical_val =  1\n",
      "real_val [0.0012376] , logical_val =  0\n"
     ]
    }
   ],
   "source": [
    "# xor prediction\n",
    "\n",
    "for data in test_data:\n",
    "    (real_val, logical_val) = predict(data)\n",
    "    print(\"real_val\", real_val, \", logical_val = \", logical_val)"
   ]
  },
  {
   "cell_type": "code",
   "execution_count": null,
   "metadata": {
    "collapsed": true
   },
   "outputs": [],
   "source": []
  }
 ],
 "metadata": {
  "anaconda-cloud": {},
  "kernelspec": {
   "display_name": "Python 3",
   "language": "python",
   "name": "python3"
  },
  "language_info": {
   "codemirror_mode": {
    "name": "ipython",
    "version": 3
   },
   "file_extension": ".py",
   "mimetype": "text/x-python",
   "name": "python",
   "nbconvert_exporter": "python",
   "pygments_lexer": "ipython3",
   "version": "3.7.1"
  }
 },
 "nbformat": 4,
 "nbformat_minor": 1
}
