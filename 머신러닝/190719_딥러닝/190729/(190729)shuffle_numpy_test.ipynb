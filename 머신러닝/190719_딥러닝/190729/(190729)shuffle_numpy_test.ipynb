{
 "cells": [
  {
   "cell_type": "code",
   "execution_count": 1,
   "metadata": {
    "collapsed": true
   },
   "outputs": [],
   "source": [
    "import numpy as np\n",
    "import random"
   ]
  },
  {
   "cell_type": "code",
   "execution_count": 2,
   "metadata": {},
   "outputs": [
    {
     "name": "stdout",
     "output_type": "stream",
     "text": [
      "Before shuffle...\n",
      "\n",
      "loaded_data.shape =  (4, 4) , loaded_data length =  4\n",
      "\n",
      "loaded_data =  [[1. 2. 3. 1.]\n",
      " [6. 7. 8. 2.]\n",
      " [3. 4. 5. 6.]\n",
      " [0. 0. 1. 0.]]\n"
     ]
    }
   ],
   "source": [
    "# 데이터불러오기\n",
    "loaded_data = np.loadtxt('./shuffle_test.csv', delimiter=',', dtype=np.float32)\n",
    "\n",
    "print(\"Before shuffle...\")\n",
    "\n",
    "print(\"\\nloaded_data.shape = \", loaded_data.shape , \", loaded_data length = \", len(loaded_data)) \n",
    "print(\"\\nloaded_data = \", loaded_data)"
   ]
  },
  {
   "cell_type": "code",
   "execution_count": 3,
   "metadata": {},
   "outputs": [
    {
     "name": "stdout",
     "output_type": "stream",
     "text": [
      "After shuffle...\n",
      "\n",
      "loaded_data.shape =  (4, 4) , loaded_data length =  4\n",
      "\n",
      "loaded_data =  [[1. 2. 3. 1.]\n",
      " [1. 2. 3. 1.]\n",
      " [3. 4. 5. 6.]\n",
      " [3. 4. 5. 6.]]\n"
     ]
    }
   ],
   "source": [
    "# 데이터를 임의로 shuffle \n",
    "random.shuffle(loaded_data)\n",
    "\n",
    "print(\"After shuffle...\")\n",
    "\n",
    "print(\"\\nloaded_data.shape = \", loaded_data.shape , \", loaded_data length = \", len(loaded_data)) \n",
    "print(\"\\nloaded_data = \", loaded_data)"
   ]
  },
  {
   "cell_type": "code",
   "execution_count": 4,
   "metadata": {},
   "outputs": [
    {
     "name": "stdout",
     "output_type": "stream",
     "text": [
      "loaded_data =  [18, 20, 15, 21, 17, 24, 19, 23, 16, 22] , loaded_data length =  10\n",
      "\n",
      "random_data_count =  4\n"
     ]
    }
   ],
   "source": [
    "# 분리 비율 40 %\n",
    "seperation_rate = 0.4\n",
    "\n",
    "random_data_count = int(len(loaded_data)*seperation_rate)\n",
    "\n",
    "print(\"loaded_data = \", loaded_data, \", loaded_data length = \", len(loaded_data)) \n",
    "\n",
    "print(\"\\nrandom_data_count = \", random_data_count)"
   ]
  },
  {
   "cell_type": "code",
   "execution_count": 7,
   "metadata": {},
   "outputs": [
    {
     "name": "stdout",
     "output_type": "stream",
     "text": [
      "test data list =  [18, 20, 15, 21]\n",
      "\n",
      "training data list=  [17, 24, 19, 23, 16, 22]\n",
      "\n",
      "loaded_data  =  [18, 20, 15, 21, 17, 24, 19, 23, 16, 22]\n"
     ]
    }
   ],
   "source": [
    "# slicing 을 이용하여 loaded_data 로 부터 training data 와 test data 분리\n",
    "\n",
    "# test data 분리\n",
    "test_data_list = loaded_data[ :random_data_count ]\n",
    "\n",
    "print(\"test data list = \", test_data_list)\n",
    "\n",
    "# training data 분리\n",
    "training_data_list = loaded_data[ random_data_count: ]\n",
    "\n",
    "print(\"\\ntraining data list= \", training_data_list)\n",
    "\n",
    "# loaded data 출력\n",
    "\n",
    "print(\"\\nloaded_data  = \", loaded_data)"
   ]
  },
  {
   "cell_type": "code",
   "execution_count": 8,
   "metadata": {},
   "outputs": [
    {
     "name": "stdout",
     "output_type": "stream",
     "text": [
      "training_data.shape =  (6,) , test_data.shape =  (4,)\n"
     ]
    }
   ],
   "source": [
    "# 행렬계산을 위해 list 타입인 training data 와 test data 를 numpy 로 변환\n",
    "\n",
    "training_data = np.array(training_data_list)\n",
    "\n",
    "test_data = np.array(test_data_list)\n",
    "\n",
    "print(\"training_data.shape = \", training_data.shape, \", test_data.shape = \", test_data.shape)"
   ]
  },
  {
   "cell_type": "code",
   "execution_count": null,
   "metadata": {
    "collapsed": true
   },
   "outputs": [],
   "source": []
  }
 ],
 "metadata": {
  "anaconda-cloud": {},
  "kernelspec": {
   "display_name": "Python 3",
   "language": "python",
   "name": "python3"
  },
  "language_info": {
   "codemirror_mode": {
    "name": "ipython",
    "version": 3
   },
   "file_extension": ".py",
   "mimetype": "text/x-python",
   "name": "python",
   "nbconvert_exporter": "python",
   "pygments_lexer": "ipython3",
   "version": "3.6.5"
  }
 },
 "nbformat": 4,
 "nbformat_minor": 1
}
