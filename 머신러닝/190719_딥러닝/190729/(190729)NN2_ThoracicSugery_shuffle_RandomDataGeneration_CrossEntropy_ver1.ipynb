{
 "cells": [
  {
   "cell_type": "markdown",
   "metadata": {},
   "source": [
    "## random.shuffle 기능을 이용하여 \n",
    "## training data 와 test data 분리 하는 DataGeneration class 구현"
   ]
  },
  {
   "cell_type": "markdown",
   "metadata": {},
   "source": [
    "#### 수치미분 함수 / 시그모이드 함수 선언"
   ]
  },
  {
   "cell_type": "code",
   "execution_count": 1,
   "metadata": {
    "collapsed": false
   },
   "outputs": [],
   "source": [
    "import numpy as np\n",
    "import random\n",
    "from datetime import datetime\n",
    "\n",
    "# 수치미분 함수\n",
    "\n",
    "def numerical_derivative(f, x):\n",
    "    delta_x = 1e-4 # 0.0001\n",
    "    grad = np.zeros_like(x)\n",
    "    \n",
    "    it = np.nditer(x, flags=['multi_index'], op_flags=['readwrite'])\n",
    "    \n",
    "    while not it.finished:\n",
    "        idx = it.multi_index        \n",
    "        tmp_val = x[idx]\n",
    "        x[idx] = float(tmp_val) + delta_x\n",
    "        fx1 = f(x) # f(x+delta_x)\n",
    "        \n",
    "        x[idx] = tmp_val - delta_x \n",
    "        fx2 = f(x) # f(x-delta_x)\n",
    "        grad[idx] = (fx1 - fx2) / (2*delta_x)\n",
    "        \n",
    "        x[idx] = tmp_val \n",
    "        it.iternext()   \n",
    "        \n",
    "    return grad\n",
    "\n",
    "# sigmoid 함수\n",
    "\n",
    "def sigmoid(x):\n",
    "    return 1 / (1+np.exp(-x))"
   ]
  },
  {
   "cell_type": "markdown",
   "metadata": {},
   "source": [
    "#### ThoracicSugery class 구현"
   ]
  },
  {
   "cell_type": "code",
   "execution_count": 2,
   "metadata": {
    "collapsed": true
   },
   "outputs": [],
   "source": [
    "# ThoracicSugery Class\n",
    "\n",
    "class ThoracicSugery:\n",
    "    \n",
    "    # 생성자\n",
    "    # xdata, tdata => numpy.array(...)\n",
    "    def __init__(self, name, input_nodes, hidden1_nodes, hidden2_nodes, output_nodes, learning_rate):\n",
    "        \n",
    "        self.name = name\n",
    "        \n",
    "        # 2층 hidden layer unit \n",
    "        # 가중치 W, 바이어스 b 초기화\n",
    "        self.W2 = np.random.rand(input_nodes, hidden1_nodes)  \n",
    "        self.b2 = np.random.rand(hidden1_nodes)\n",
    "        \n",
    "        # 3층 hidden layer unit  \n",
    "        self.W3 = np.random.rand(hidden1_nodes, hidden2_nodes)\n",
    "        self.b3 = np.random.rand(hidden2_nodes)\n",
    "        \n",
    "        # 4층 output layer unit  \n",
    "        self.W4 = np.random.rand(hidden2_nodes, output_nodes)\n",
    "        self.b4 = np.random.rand(output_nodes)\n",
    "                        \n",
    "        # 학습률 learning rate 초기화\n",
    "        self.learning_rate = learning_rate\n",
    "        \n",
    "        print(self.name, \" is created !!!\")\n",
    "        \n",
    "    # 손실함수\n",
    "    def feed_forward(self):\n",
    "        \n",
    "        delta = 1e-7    # log 무한대 발산 방지\n",
    "    \n",
    "        z2 = np.dot(self.input_data, self.W2) + self.b2\n",
    "        a2 = sigmoid(z2)\n",
    "        \n",
    "        z3 = np.dot(a2, self.W3) + self.b3\n",
    "        a3 = sigmoid(z3)\n",
    "        \n",
    "        z4 = np.dot(a3, self.W4) + self.b4\n",
    "        y = a4 = sigmoid(z4)\n",
    "    \n",
    "        # cross-entropy \n",
    "        return  -np.sum( self.target_data*np.log(y + delta) + (1-self.target_data)*np.log((1 - y)+delta ) )\n",
    "    \n",
    "    # 손실 값 계산\n",
    "    def loss_val(self):\n",
    "        \n",
    "        delta = 1e-7    # log 무한대 발산 방지\n",
    "    \n",
    "        z2 = np.dot(self.input_data, self.W2) + self.b2\n",
    "        a2 = sigmoid(z2)\n",
    "        \n",
    "        z3 = np.dot(a2, self.W3) + self.b3\n",
    "        a3 = sigmoid(z3)\n",
    "        \n",
    "        z4 = np.dot(a3, self.W4) + self.b4\n",
    "        y = a4 = sigmoid(z4)\n",
    "    \n",
    "        # cross-entropy \n",
    "        return  -np.sum( self.target_data*np.log(y + delta) + (1-self.target_data)*np.log((1 - y)+delta ) )\n",
    "    \n",
    "    # query, 즉 미래 값 예측 함수\n",
    "    def predict(self, input_data):    \n",
    "        \n",
    "        z2 = np.dot(input_data, self.W2) + self.b2\n",
    "        a2 = sigmoid(z2)\n",
    "        \n",
    "        z3 = np.dot(a2, self.W3) + self.b3\n",
    "        a3 = sigmoid(z3)\n",
    "        \n",
    "        z4 = np.dot(a3, self.W4) + self.b4\n",
    "        y = a4 = sigmoid(z4)\n",
    "    \n",
    "        if y >= 0.5:\n",
    "            result = 1  # True\n",
    "        else:\n",
    "            result = 0  # False\n",
    "    \n",
    "        return y, result\n",
    "    \n",
    "    def accuracy(self, input_data, target_data):\n",
    "        \n",
    "        matched_list = []\n",
    "        not_matched_list = []\n",
    "        \n",
    "        # list which contains (index, label, prediction) value\n",
    "        index_label_prediction_list = []\n",
    "        \n",
    "        # temp list which contains label and prediction in sequence\n",
    "        temp_list = []\n",
    "        \n",
    "        for index in range(len(input_data)):\n",
    "            \n",
    "            (real_val, logical_val) = self.predict(input_data[index])\n",
    "            \n",
    "            if logical_val == target_data[index]:\n",
    "                matched_list.append(index)\n",
    "            else:\n",
    "                not_matched_list.append(index)\n",
    "                \n",
    "                temp_list.append(index)\n",
    "                temp_list.append(target_data[index])\n",
    "                temp_list.append(logical_val)\n",
    "                \n",
    "                index_label_prediction_list.append(temp_list)\n",
    "                \n",
    "                temp_list = []\n",
    "                \n",
    "                \n",
    "        accuracy_result = len(matched_list) / len(input_data)\n",
    "        \n",
    "        print(\"Accuracy => \", accuracy_result)\n",
    "        \n",
    "        return matched_list, not_matched_list, index_label_prediction_list\n",
    "    \n",
    "        \n",
    "    # 수치미분을 이용하여 손실함수가 최소가 될때 까지 학습하는 함수\n",
    "    def train(self, input_data, target_data):\n",
    "        \n",
    "        self.input_data = input_data\n",
    "        self.target_data = target_data\n",
    "        \n",
    "        f = lambda x : self.feed_forward()\n",
    "        \n",
    "        self.W2 -= self.learning_rate * numerical_derivative(f, self.W2)\n",
    "    \n",
    "        self.b2 -= self.learning_rate * numerical_derivative(f, self.b2)\n",
    "        \n",
    "        self.W3 -= self.learning_rate * numerical_derivative(f, self.W3)\n",
    "    \n",
    "        self.b3 -= self.learning_rate * numerical_derivative(f, self.b3)\n",
    "        \n",
    "        self.W4 -= self.learning_rate * numerical_derivative(f, self.W4)\n",
    "    \n",
    "        self.b4 -= self.learning_rate * numerical_derivative(f, self.b4)"
   ]
  },
  {
   "cell_type": "markdown",
   "metadata": {},
   "source": [
    "#### DataGeneration class 구현"
   ]
  },
  {
   "cell_type": "code",
   "execution_count": 3,
   "metadata": {
    "collapsed": true
   },
   "outputs": [],
   "source": [
    "class DataGeneration:\n",
    "    \n",
    "    def __init__(self, file_path, seperation_rate, is_normalized=False):\n",
    "        \n",
    "        self.file_path = file_path\n",
    "        \n",
    "        self.seperation_rate = seperation_rate\n",
    "        \n",
    "        self.is_normalized = is_normalized\n",
    "        \n",
    "        print(\"DataGeneration object is created !!\")\n",
    "    \n",
    "    # np.max() 를 이용한 데이터 정규화\n",
    "    def data_normalize_using_max(self, loaded_data):\n",
    "        \n",
    "        # 각 열의 최대값을 찾기 위해 행과 열을 바꾸어 줌. 즉 전치향렬을 만들어줌\n",
    "        transpose_loaded_data = loaded_data.T        \n",
    "\n",
    "        print(\"transpose_loaded_data.shape = \", transpose_loaded_data.shape)\n",
    "        \n",
    "        # 전치행렬을 위한 리스트\n",
    "        transpose_normalize_data_list = []\n",
    "\n",
    "        for index in range(len(transpose_loaded_data)):\n",
    "    \n",
    "            max_value = np.max(transpose_loaded_data[index, :])   # 각 행의 최대값을 찾음\n",
    "    \n",
    "            # 최대값이 1 이상이면 최대값으로 나누어서 \n",
    "            # 모든 데이터가 0 ~ 1 사이에 오도록 함\n",
    "            if max_value > 1.0:  \n",
    "        \n",
    "                transpose_normalize_data_list.append(transpose_loaded_data[index, :] / max_value)\n",
    "       \n",
    "            # 최대값이 1 보다 작으면 해당 값을 그대로 사용함. \n",
    "            ## 왜냐하면 1보다 작은 값이면 굳이 바꿀 필요가 없음\n",
    "            else:      \n",
    "        \n",
    "                transpose_normalize_data_list.append(transpose_loaded_data[index, :])\n",
    "        \n",
    "\n",
    "        # 리스트를 numpy type 으로 변환\n",
    "        transpose_normalize_data = np.array(transpose_normalize_data_list)\n",
    "\n",
    "        print(transpose_normalize_data.shape)\n",
    "\n",
    "        # 데이터 저장을 위해 다시 전치행렬을 통해 행과 열을 바꿈\n",
    "        normalize_data = transpose_normalize_data.T\n",
    "\n",
    "        print(normalize_data.shape)\n",
    "\n",
    "        # normalize 파일저장\n",
    "        np.savetxt('./Normalize_Diabetes_data.csv', normalize_data, delimiter=',')\n",
    "        \n",
    "        return normalize_data\n",
    "\n",
    "    # shuffle 기능을 이용하여 training_data / test_data 생성\n",
    "    def generate(self):\n",
    "    \n",
    "        # 데이터 불러오기\n",
    "\n",
    "        loaded_data = np.loadtxt(self.file_path, delimiter=',', dtype=np.float32)\n",
    "        \n",
    "        print(\"[debug. before data normalization] loaded_data[0] = \", loaded_data[0])\n",
    "\n",
    "        print(\"loaded_data.shape = \", loaded_data.shape)\n",
    "        \n",
    "        if (self.is_normalized == True):\n",
    "            \n",
    "            loaded_data = self.data_normalize_using_max(loaded_data)\n",
    "            \n",
    "            print(\"[debug. after data normalization] loaded_data[0] = \", loaded_data[0])\n",
    "\n",
    "        # 임시 저장 리스트\n",
    "        training_data_list = []\n",
    "        test_data_list = []\n",
    "\n",
    "        # 분리비율에 맞게 테스트데이터로 분리\n",
    "        total_data_num = len(loaded_data)\n",
    "        test_data_num = int(len(loaded_data) * self.seperation_rate)\n",
    "\n",
    "        print(\"total_data_num = \", total_data_num, \", test_data_num = \", test_data_num)\n",
    "\n",
    "        # 전체 데이터 인덱스를 가지고 있는 리스트 생성\n",
    "        total_data_index_list = [ index for index in range(total_data_num) ]\n",
    "\n",
    "        # random.shuffle 을 이용하여 인덱스 리스트 생성\n",
    "        random.shuffle(total_data_index_list)  # 전체 인덱스가 랜덤하게 섞여진 리스트로 변형된다\n",
    "\n",
    "        # test data 를 위한 인덱스는 total_data_index_list 로뷰터 앞에서 40 % 의 데이터 인덱스\n",
    "        test_data_index_list = total_data_index_list[ 0:test_data_num ]\n",
    "\n",
    "        print(\"length of test_data_index_list = \", len(test_data_index_list))\n",
    "\n",
    "        # training data 를 위한 인덱스는 total_data_index_list 에서 test data 인덱스를 제외한 나머지 부분\n",
    "        training_data_index_list = total_data_index_list[ test_data_num: ]\n",
    "\n",
    "        print(\"length of training_data_index_list = \", len(training_data_index_list))\n",
    "\n",
    "        # training data 구성\n",
    "        for training_data_index in training_data_index_list:\n",
    "    \n",
    "            training_data_list.append(loaded_data[training_data_index])\n",
    "\n",
    "        # test data 구성\n",
    "        for test_data_index in test_data_index_list:\n",
    "    \n",
    "            test_data_list.append(loaded_data[test_data_index])\n",
    "\n",
    "        # generate training data from training_data_list using np.arrya(...)\n",
    "        training_data = np.array(training_data_list)\n",
    "\n",
    "        # generate test data from test_data_list using np.arrya(...)\n",
    "        test_data = np.array(test_data_list)\n",
    "\n",
    "        # verification shape\n",
    "        print(\"training_data.shape = \", training_data.shape)\n",
    "        print(\"test_data.shape = \", test_data.shape)\n",
    "\n",
    "        # save training & test data (.csv)\n",
    "        np.savetxt('./random_ThoracicSugery_training_data.csv', training_data, delimiter=',')\n",
    "        np.savetxt('./random_ThoracicSugery_test_data.csv', test_data, delimiter=',')\n",
    "        \n",
    "        return training_data, test_data"
   ]
  },
  {
   "cell_type": "markdown",
   "metadata": {},
   "source": [
    "#### 정규화하지 않은 DataGeneration 객체 / ThoracicSugery 객체 생성 및 학습"
   ]
  },
  {
   "cell_type": "code",
   "execution_count": 10,
   "metadata": {
    "collapsed": false
   },
   "outputs": [
    {
     "name": "stdout",
     "output_type": "stream",
     "text": [
      "DataGeneration object is created !!\n",
      "[debug. before data normalization] loaded_data[0] =  [293.    1.    3.8   2.8   0.    0.    0.    0.    0.    0.   12.    0.\n",
      "   0.    0.    1.    0.   62.    0. ]\n",
      "loaded_data.shape =  (470, 18)\n",
      "total_data_num =  470 , test_data_num =  141\n",
      "length of test_data_index_list =  141\n",
      "length of training_data_index_list =  329\n",
      "training_data.shape =  (329, 18)\n",
      "test_data.shape =  (141, 18)\n",
      "ThoracicSurgery  is created !!!\n",
      "Neural Network Learning using Numerical Derivative...\n",
      "epochs =  0 loss value =  0.3193476719592501\n",
      "epochs =  1 loss value =  0.19869056971404522\n",
      "epochs =  2 loss value =  0.17262912823416812\n",
      "epochs =  3 loss value =  0.16477731318844077\n",
      "epochs =  4 loss value =  0.16216486153994847\n",
      "epochs =  5 loss value =  0.1612665414379369\n",
      "epochs =  6 loss value =  0.16095409521422957\n",
      "epochs =  7 loss value =  0.16084496436527526\n",
      "epochs =  8 loss value =  0.16080676890933393\n",
      "epochs =  9 loss value =  0.16079337003102676\n",
      "epochs =  10 loss value =  0.16078864547774419\n",
      "epochs =  11 loss value =  0.16078695629962284\n",
      "epochs =  12 loss value =  0.16078632944565777\n",
      "epochs =  13 loss value =  0.16078607442177023\n",
      "epochs =  14 loss value =  0.16078594955207962\n",
      "epochs =  15 loss value =  0.16078587024108276\n",
      "epochs =  16 loss value =  0.16078580687466426\n",
      "epochs =  17 loss value =  0.1607857490850828\n",
      "epochs =  18 loss value =  0.16078569324234415\n",
      "epochs =  19 loss value =  0.16078563807535878\n",
      "\n",
      "Elapsed Time =>  0:00:20.567000\n"
     ]
    }
   ],
   "source": [
    "# DataGeneration 객체 생성. normalization 없음\n",
    "seperation_rate = 0.3\n",
    "data_obj = DataGeneration('./ThoracicSurgery.csv', seperation_rate)\n",
    "(training_data, test_data) = data_obj.generate()\n",
    "\n",
    "\n",
    "#hyper-parameter\n",
    "i_nodes = training_data.shape[1] - 1    # input nodes 개수\n",
    "h1_nodes = 2  # hidden 1 nodes 개수. \n",
    "h2_nodes = 2  # hidden 2 nodes 개수\n",
    "o_nodes = 1    # output nodes 개수\n",
    "lr = 1e-2      # learning rate. hi_node = 2, 1e-1 에서 수렴\n",
    "epochs = 20   # 반복횟수. \n",
    "\n",
    "\n",
    "# ThoracicSugery 객체 생성\n",
    "ThoracicSugery_obj = ThoracicSugery(\"ThoracicSurgery\", i_nodes, h1_nodes, h2_nodes, o_nodes, lr)\n",
    "\n",
    "print(\"Neural Network Learning using Numerical Derivative...\")\n",
    "\n",
    "start_time = datetime.now()\n",
    "\n",
    "for step in range(epochs):\n",
    "    \n",
    "    for index in range(len(training_data)):\n",
    "        \n",
    "        input_data = training_data[index, 0:-1]\n",
    "        target_data = training_data[index, [-1]]\n",
    "        \n",
    "        ThoracicSugery_obj.train(input_data, target_data)\n",
    "        \n",
    "    print(\"epochs = \", step, \"loss value = \", ThoracicSugery_obj.loss_val())\n",
    "\n",
    "end_time = datetime.now()\n",
    "        \n",
    "print(\"\")\n",
    "print(\"Elapsed Time => \", end_time - start_time)"
   ]
  },
  {
   "cell_type": "markdown",
   "metadata": {},
   "source": [
    "#### test_data를 이용하여 정확도 검증"
   ]
  },
  {
   "cell_type": "code",
   "execution_count": 11,
   "metadata": {
    "collapsed": false
   },
   "outputs": [
    {
     "name": "stdout",
     "output_type": "stream",
     "text": [
      "Accuracy =>  0.851063829787234\n"
     ]
    }
   ],
   "source": [
    "test_input_data = test_data[ :, 0:-1 ]\n",
    "test_target_data = test_data[ :, -1 ]\n",
    "\n",
    "(true_list_1, false_list_1, index_label_prediction_list) = ThoracicSugery_obj.accuracy(test_input_data, test_target_data) "
   ]
  },
  {
   "cell_type": "code",
   "execution_count": 12,
   "metadata": {
    "collapsed": false
   },
   "outputs": [
    {
     "name": "stdout",
     "output_type": "stream",
     "text": [
      "[[5, 1.0, 0], [6, 1.0, 0], [7, 1.0, 0], [9, 1.0, 0], [20, 1.0, 0], [26, 1.0, 0], [37, 1.0, 0], [38, 1.0, 0], [40, 1.0, 0], [44, 1.0, 0], [61, 1.0, 0], [75, 1.0, 0], [83, 1.0, 0], [96, 1.0, 0], [102, 1.0, 0], [109, 1.0, 0], [123, 1.0, 0], [128, 1.0, 0], [130, 1.0, 0], [131, 1.0, 0], [139, 1.0, 0]]\n"
     ]
    }
   ],
   "source": [
    "print(index_label_prediction_list)"
   ]
  },
  {
   "cell_type": "markdown",
   "metadata": {},
   "source": [
    "#### 정규화된  DataGeneration 객체 / ThoracicSugery 객체 생성 및 학습"
   ]
  },
  {
   "cell_type": "code",
   "execution_count": 16,
   "metadata": {
    "collapsed": false
   },
   "outputs": [
    {
     "name": "stdout",
     "output_type": "stream",
     "text": [
      "DataGeneration object is created !!\n",
      "[debug. before data normalization] loaded_data[0] =  [293.    1.    3.8   2.8   0.    0.    0.    0.    0.    0.   12.    0.\n",
      "   0.    0.    1.    0.   62.    0. ]\n",
      "loaded_data.shape =  (470, 18)\n",
      "transpose_loaded_data.shape =  (18, 470)\n",
      "(18, 470)\n",
      "(470, 18)\n",
      "[debug. after data normalization] loaded_data[0] =  [0.62340426 0.125      0.60317457 0.03244496 0.         0.\n",
      " 0.         0.         0.         0.         0.85714287 0.\n",
      " 0.         0.         1.         0.         0.7126437  0.        ]\n",
      "total_data_num =  470 , test_data_num =  141\n",
      "length of test_data_index_list =  141\n",
      "length of training_data_index_list =  329\n",
      "training_data.shape =  (329, 18)\n",
      "test_data.shape =  (141, 18)\n",
      "ThoracicSurgery  is created !!!\n",
      "Neural Network Learning using Numerical Derivative...\n",
      "epochs =  0 loss value =  1.0059449446451982\n",
      "epochs =  1 loss value =  0.8186998204728014\n",
      "epochs =  2 loss value =  0.6813147189976214\n",
      "epochs =  3 loss value =  0.579869792522232\n",
      "epochs =  4 loss value =  0.5039366052583608\n",
      "epochs =  5 loss value =  0.44613778143880245\n",
      "epochs =  6 loss value =  0.40136969227675323\n",
      "epochs =  7 loss value =  0.3661106981116032\n",
      "epochs =  8 loss value =  0.3379109420974487\n",
      "epochs =  9 loss value =  0.315042979593124\n",
      "epochs =  10 loss value =  0.29626926190781017\n",
      "epochs =  11 loss value =  0.2806883986405782\n",
      "epochs =  12 loss value =  0.2676330314376663\n",
      "epochs =  13 loss value =  0.2566012801828398\n",
      "epochs =  14 loss value =  0.24721010957208214\n",
      "epochs =  15 loss value =  0.23916314355478077\n",
      "epochs =  16 loss value =  0.23222812031362758\n",
      "epochs =  17 loss value =  0.2262208682835908\n",
      "epochs =  18 loss value =  0.22099375558857962\n",
      "epochs =  19 loss value =  0.21642725145065655\n",
      "\n",
      "Elapsed Time =>  0:00:20.731000\n"
     ]
    }
   ],
   "source": [
    "# 정규화된 DataGeneration 객체 생성. \n",
    "seperation_rate = 0.3\n",
    "data_obj = DataGeneration('./ThoracicSurgery.csv', seperation_rate, True)\n",
    "(training_data, test_data) = data_obj.generate()\n",
    "\n",
    "\n",
    "#hyper-parameter\n",
    "i_nodes = training_data.shape[1] - 1    # input nodes 개수\n",
    "h1_nodes = 2  # hidden 1 nodes 개수. \n",
    "h2_nodes = 2  # hidden 2 nodes 개수\n",
    "o_nodes = 1    # output nodes 개수\n",
    "lr = 1e-3      # learning rate. hi_node = 2, 1e-1 에서 수렴\n",
    "epochs = 20   # 반복횟수. \n",
    "\n",
    "\n",
    "# ThoracicSugery 객체 생성\n",
    "ThoracicSugery_obj = ThoracicSugery(\"ThoracicSurgery\", i_nodes, h1_nodes, h2_nodes, o_nodes, lr)\n",
    "\n",
    "print(\"Neural Network Learning using Numerical Derivative...\")\n",
    "\n",
    "start_time = datetime.now()\n",
    "\n",
    "for step in range(epochs):\n",
    "    \n",
    "    for index in range(len(training_data)):\n",
    "        \n",
    "        input_data = training_data[index, 0:-1]\n",
    "        target_data = training_data[index, [-1]]\n",
    "        \n",
    "        ThoracicSugery_obj.train(input_data, target_data)\n",
    "        \n",
    "    print(\"epochs = \", step, \"loss value = \", ThoracicSugery_obj.loss_val())\n",
    "\n",
    "end_time = datetime.now()\n",
    "        \n",
    "print(\"\")\n",
    "print(\"Elapsed Time => \", end_time - start_time)"
   ]
  },
  {
   "cell_type": "code",
   "execution_count": 17,
   "metadata": {
    "collapsed": false
   },
   "outputs": [
    {
     "name": "stdout",
     "output_type": "stream",
     "text": [
      "Accuracy =>  0.8865248226950354\n"
     ]
    }
   ],
   "source": [
    "test_input_data = test_data[ :, 0:-1 ]\n",
    "test_target_data = test_data[ :, -1 ]\n",
    "\n",
    "(true_list_1, false_list_1, index_label_prediction_list) = ThoracicSugery_obj.accuracy(test_input_data, test_target_data) "
   ]
  },
  {
   "cell_type": "code",
   "execution_count": 18,
   "metadata": {
    "collapsed": false
   },
   "outputs": [
    {
     "name": "stdout",
     "output_type": "stream",
     "text": [
      "[[4, 1.0, 0], [6, 1.0, 0], [16, 1.0, 0], [30, 1.0, 0], [31, 1.0, 0], [34, 1.0, 0], [39, 1.0, 0], [69, 1.0, 0], [72, 1.0, 0], [79, 1.0, 0], [81, 1.0, 0], [86, 1.0, 0], [110, 1.0, 0], [114, 1.0, 0], [130, 1.0, 0], [131, 1.0, 0]]\n"
     ]
    }
   ],
   "source": [
    "print(index_label_prediction_list)"
   ]
  },
  {
   "cell_type": "code",
   "execution_count": null,
   "metadata": {
    "collapsed": true
   },
   "outputs": [],
   "source": []
  }
 ],
 "metadata": {
  "anaconda-cloud": {},
  "kernelspec": {
   "display_name": "Python [default]",
   "language": "python",
   "name": "python3"
  },
  "language_info": {
   "codemirror_mode": {
    "name": "ipython",
    "version": 3
   },
   "file_extension": ".py",
   "mimetype": "text/x-python",
   "name": "python",
   "nbconvert_exporter": "python",
   "pygments_lexer": "ipython3",
   "version": "3.5.2"
  }
 },
 "nbformat": 4,
 "nbformat_minor": 1
}
