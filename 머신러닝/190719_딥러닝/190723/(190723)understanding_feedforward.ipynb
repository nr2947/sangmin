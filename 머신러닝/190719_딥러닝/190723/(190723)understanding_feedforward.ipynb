{
 "cells": [
  {
   "cell_type": "markdown",
   "metadata": {},
   "source": [
    "## Feed Forward 이해 및 계산 연습"
   ]
  },
  {
   "cell_type": "code",
   "execution_count": 1,
   "metadata": {
    "collapsed": true
   },
   "outputs": [],
   "source": [
    "import numpy as np"
   ]
  },
  {
   "cell_type": "code",
   "execution_count": 2,
   "metadata": {
    "collapsed": true
   },
   "outputs": [],
   "source": [
    "def sigmoid(x):\n",
    "    \n",
    "    return 1 / (1 + np.exp(-x))"
   ]
  },
  {
   "cell_type": "code",
   "execution_count": 3,
   "metadata": {
    "collapsed": true
   },
   "outputs": [],
   "source": [
    "input_data = np.array([1, 2])    # 입력데이터\n",
    "target_data = np.array([1])      # 정답데이터"
   ]
  },
  {
   "cell_type": "markdown",
   "metadata": {},
   "source": [
    "#### 신경망 아키텍처 그려볼것"
   ]
  },
  {
   "cell_type": "code",
   "execution_count": 4,
   "metadata": {
    "collapsed": false
   },
   "outputs": [],
   "source": [
    "input_nodes = 2    # 입력노드\n",
    "hidden_nodes = 3   # 은닉노드\n",
    "output_nodes = 1   # 출력노드"
   ]
  },
  {
   "cell_type": "markdown",
   "metadata": {},
   "source": [
    "#### 신경망 아키텍처 그려볼것"
   ]
  },
  {
   "cell_type": "code",
   "execution_count": 5,
   "metadata": {
    "collapsed": false
   },
   "outputs": [
    {
     "name": "stdout",
     "output_type": "stream",
     "text": [
      "W2 =  [[0.31930715 0.23433407 0.8793256 ]\n",
      " [0.46187502 0.16566475 0.52465494]] , W2.shape =  (2, 3)\n",
      "b2 =  [0.02906364 0.17274915 0.4109638 ] , b2.shape =  (3,)\n",
      "W3 =  [[0.13287087]\n",
      " [0.93276813]\n",
      " [0.82911952]] , W3.shape =  (3, 1)\n",
      "b3 =  [0.70116483] , b3.shape =  (1,)\n"
     ]
    }
   ],
   "source": [
    "W2 = np.random.rand(input_nodes, hidden_nodes)\n",
    "b2 = np.random.rand(hidden_nodes)\n",
    "\n",
    "W3 = np.random.rand(hidden_nodes, output_nodes)\n",
    "b3 = np.random.rand(output_nodes)\n",
    "\n",
    "print(\"W2 = \", W2, \", W2.shape = \", W2.shape)\n",
    "print(\"b2 = \", b2, \", b2.shape = \", b2.shape)\n",
    "print(\"W3 = \", W3, \", W3.shape = \", W3.shape)\n",
    "print(\"b3 = \", b3, \", b3.shape = \", b3.shape)"
   ]
  },
  {
   "cell_type": "markdown",
   "metadata": {},
   "source": [
    "#### Z2, A2, Z3, y(=A3), loss 값을 신경망 아키텍처에서 설명해볼것"
   ]
  },
  {
   "cell_type": "code",
   "execution_count": 7,
   "metadata": {
    "collapsed": false
   },
   "outputs": [],
   "source": [
    "def feed_forward(xdata):\n",
    "    \n",
    "    delta = 1e-7\n",
    "    \n",
    "    Z2 = np.dot(xdata, W2) + b2\n",
    "    \n",
    "    print(\"Z2 = \", Z2)\n",
    "    \n",
    "    A2 = sigmoid(Z2)\n",
    "    \n",
    "    print(\"A2 = \", A2)\n",
    "    \n",
    "    Z3 = np.dot(A2, W3) + b3\n",
    "    \n",
    "    print(\"Z3 = \", Z3)\n",
    "    \n",
    "    y = A3 = sigmoid(Z3)\n",
    "    \n",
    "    print(\"y = \", y, \", A3 = \", A3)\n",
    "    \n",
    "    loss = -np.sum( target_data*np.log(y + delta) + (1-target_data)*np.log((1 - y)+delta ) )\n",
    "    \n",
    "    print(\"loss = \", loss)"
   ]
  },
  {
   "cell_type": "code",
   "execution_count": 8,
   "metadata": {
    "collapsed": false
   },
   "outputs": [
    {
     "name": "stdout",
     "output_type": "stream",
     "text": [
      "Z2 =  [1.27212083 0.7384127  2.33959929]\n",
      "A2 =  [0.78110558 0.67664866 0.91210397]\n",
      "Z3 =  [2.19235051]\n",
      "y =  [0.89956048] , A3 =  [0.89956048]\n",
      "loss =  0.10584888127086005\n"
     ]
    }
   ],
   "source": [
    "feed_forward(input_data)"
   ]
  },
  {
   "cell_type": "code",
   "execution_count": null,
   "metadata": {
    "collapsed": true
   },
   "outputs": [],
   "source": []
  }
 ],
 "metadata": {
  "anaconda-cloud": {},
  "kernelspec": {
   "display_name": "Python [default]",
   "language": "python",
   "name": "python3"
  },
  "language_info": {
   "codemirror_mode": {
    "name": "ipython",
    "version": 3
   },
   "file_extension": ".py",
   "mimetype": "text/x-python",
   "name": "python",
   "nbconvert_exporter": "python",
   "pygments_lexer": "ipython3",
   "version": "3.5.2"
  }
 },
 "nbformat": 4,
 "nbformat_minor": 1
}
