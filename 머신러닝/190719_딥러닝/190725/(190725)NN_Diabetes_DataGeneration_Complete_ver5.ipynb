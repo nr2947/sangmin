{
 "cells": [
  {
   "cell_type": "markdown",
   "metadata": {},
   "source": [
    "## 수치미분과 딥러닝을 이용한 당뇨병 예측  "
   ]
  },
  {
   "cell_type": "code",
   "execution_count": 1,
   "metadata": {
    "collapsed": false
   },
   "outputs": [],
   "source": [
    "import numpy as np\n",
    "from datetime import datetime\n",
    "\n",
    "# 수치미분 함수\n",
    "\n",
    "def numerical_derivative(f, x):\n",
    "    delta_x = 1e-4 # 0.0001\n",
    "    grad = np.zeros_like(x)\n",
    "    \n",
    "    it = np.nditer(x, flags=['multi_index'], op_flags=['readwrite'])\n",
    "    \n",
    "    while not it.finished:\n",
    "        idx = it.multi_index        \n",
    "        tmp_val = x[idx]\n",
    "        x[idx] = float(tmp_val) + delta_x\n",
    "        fx1 = f(x) # f(x+delta_x)\n",
    "        \n",
    "        x[idx] = tmp_val - delta_x \n",
    "        fx2 = f(x) # f(x-delta_x)\n",
    "        grad[idx] = (fx1 - fx2) / (2*delta_x)\n",
    "        \n",
    "        x[idx] = tmp_val \n",
    "        it.iternext()   \n",
    "        \n",
    "    return grad\n",
    "\n",
    "# sigmoid 함수\n",
    "\n",
    "def sigmoid(x):\n",
    "    return 1 / (1+np.exp(-x))"
   ]
  },
  {
   "cell_type": "markdown",
   "metadata": {},
   "source": [
    "## Diabetes 클래스 정의"
   ]
  },
  {
   "cell_type": "code",
   "execution_count": 2,
   "metadata": {
    "collapsed": true
   },
   "outputs": [],
   "source": [
    "# Diabetes Class\n",
    "\n",
    "class Diabetes:\n",
    "    \n",
    "    # 생성자\n",
    "    # xdata, tdata => numpy.array(...)\n",
    "    def __init__(self, input_nodes, hidden_nodes, output_nodes, learning_rate):\n",
    "        \n",
    "        # 2층 hidden layer unit \n",
    "        # 가중치 W, 바이어스 b 초기화\n",
    "        self.W2 = np.random.rand(input_nodes, hidden_nodes)  \n",
    "        self.b2 = np.random.rand(hidden_nodes)\n",
    "        \n",
    "        # 3층 output layer unit : 1 개 \n",
    "        self.W3 = np.random.rand(hidden_nodes,output_nodes)\n",
    "        self.b3 = np.random.rand(output_nodes)\n",
    "                        \n",
    "        # 학습률 learning rate 초기화\n",
    "        self.learning_rate = learning_rate\n",
    "        \n",
    "        print(\"Diabetes object is created !!!\")\n",
    "        \n",
    "    # 손실함수\n",
    "    def feed_forward(self):\n",
    "        \n",
    "        delta = 1e-7    # log 무한대 발산 방지\n",
    "    \n",
    "        z2 = np.dot(self.input_data, self.W2) + self.b2\n",
    "        a2 = sigmoid(z2)\n",
    "        \n",
    "        z3 = np.dot(a2, self.W3) + self.b3\n",
    "        y = a3 = sigmoid(z3)\n",
    "    \n",
    "        # cross-entropy \n",
    "        return  -np.sum( self.target_data*np.log(y + delta) + (1-self.target_data)*np.log((1 - y)+delta ) )\n",
    "    \n",
    "    # obtain W and b\n",
    "    def get_W_b(self):\n",
    "        \n",
    "        return self.W2,  self.b2, self.W3, self.b3\n",
    "    \n",
    "    # 손실 값 계산\n",
    "    def loss_val(self):\n",
    "        \n",
    "        delta = 1e-7    # log 무한대 발산 방지\n",
    "    \n",
    "        z2 = np.dot(self.input_data, self.W2) + self.b2\n",
    "        a2 = sigmoid(z2)\n",
    "        \n",
    "        z3 = np.dot(a2, self.W3) + self.b3\n",
    "        y = a3 = sigmoid(z3)\n",
    "    \n",
    "        # cross-entropy \n",
    "        return  -np.sum( self.target_data*np.log(y + delta) + (1-self.target_data)*np.log((1 - y)+delta ) )\n",
    "    \n",
    "    # query, 즉 미래 값 예측 함수\n",
    "    def predict(self, input_data):    \n",
    "        \n",
    "        z2 = np.dot(input_data, self.W2) + self.b2\n",
    "        a2 = sigmoid(z2)\n",
    "        \n",
    "        z3 = np.dot(a2, self.W3) + self.b3\n",
    "        y = a3 = sigmoid(z3)\n",
    "    \n",
    "        if y >= 0.5:\n",
    "            result = 1  # True\n",
    "        else:\n",
    "            result = 0  # False\n",
    "    \n",
    "        return y, result\n",
    "\n",
    "    \n",
    "    def accuracy(self, input_data, target_data):\n",
    "        \n",
    "        matched_list = []\n",
    "        not_matched_list = []\n",
    "        \n",
    "        # list which contains (index, label, prediction) value\n",
    "        index_label_prediction_list = []\n",
    "        \n",
    "        # temp list which contains label and prediction in sequence\n",
    "        temp_list = []\n",
    "        \n",
    "        for index in range(len(input_data)):\n",
    "            \n",
    "            (real_val, logical_val) = self.predict(input_data[index])\n",
    "            \n",
    "            if logical_val == target_data[index]:\n",
    "                matched_list.append(index)\n",
    "            else:\n",
    "                not_matched_list.append(index)\n",
    "                \n",
    "                temp_list.append(index)\n",
    "                temp_list.append(target_data[index])\n",
    "                temp_list.append(logical_val)\n",
    "                \n",
    "                index_label_prediction_list.append(temp_list)\n",
    "                \n",
    "                temp_list = []\n",
    "                \n",
    "                \n",
    "        accuracy_result = len(matched_list) / len(input_data)\n",
    "        \n",
    "        print(\"Accuracy => \", accuracy_result)\n",
    "        \n",
    "        return matched_list, not_matched_list, index_label_prediction_list\n",
    "    \n",
    "        \n",
    "    # 수치미분을 이용하여 손실함수가 최소가 될때 까지 학습하는 함수\n",
    "    def train(self, input_data, target_data):\n",
    "        \n",
    "        self.input_data = input_data\n",
    "        self.target_data = target_data\n",
    "        \n",
    "        f = lambda x : self.feed_forward()\n",
    "        \n",
    "        self.W2 -= self.learning_rate * numerical_derivative(f, self.W2)\n",
    "    \n",
    "        self.b2 -= self.learning_rate * numerical_derivative(f, self.b2)\n",
    "        \n",
    "        self.W3 -= self.learning_rate * numerical_derivative(f, self.W3)\n",
    "    \n",
    "        self.b3 -= self.learning_rate * numerical_derivative(f, self.b3)"
   ]
  },
  {
   "cell_type": "markdown",
   "metadata": {},
   "source": [
    "## csv 파일로부터 training_data,  test_data 분리"
   ]
  },
  {
   "cell_type": "code",
   "execution_count": 7,
   "metadata": {
    "collapsed": false
   },
   "outputs": [
    {
     "name": "stdout",
     "output_type": "stream",
     "text": [
      "loaded_data.shape =  (759, 9)\n",
      "training_data.shape =  (506, 9)\n",
      "test_data.shape =  (253, 9)\n"
     ]
    }
   ],
   "source": [
    "# 데이터 불러오기\n",
    "\n",
    "loaded_data = np.loadtxt('./diabetes.csv', delimiter=',', dtype=np.float32)\n",
    "\n",
    "print(\"loaded_data.shape = \", loaded_data.shape)\n",
    "\n",
    "# 임시 저장 리스트\n",
    "training_data_list = []\n",
    "test_data_list = []\n",
    "\n",
    "# 전체 30 % 라는것은 전체 길이에 대해 3 으로 나누어주면 됨\n",
    "seperation_rate = 3\n",
    "\n",
    "for index in range(len(loaded_data)):\n",
    "    \n",
    "    if (index % seperation_rate) == 0:\n",
    "        \n",
    "        test_data_list.append(loaded_data[index])\n",
    "        \n",
    "    else:\n",
    "        \n",
    "        training_data_list.append(loaded_data[index])\n",
    "        \n",
    "# generate training data from training_data_list using np.arrya(...)\n",
    "training_data = np.array(training_data_list)\n",
    "\n",
    "# generate test data from test_data_list using np.arrya(...)\n",
    "test_data = np.array(test_data_list)\n",
    "\n",
    "# verification shape\n",
    "print(\"training_data.shape = \", training_data.shape)\n",
    "print(\"test_data.shape = \", test_data.shape)\n",
    "\n",
    "# save training & test data (.csv)\n",
    "np.savetxt('./diabetes_generated_training_data.csv', training_data, delimiter=',')\n",
    "np.savetxt('./diabetes_generated_test_data.csv', test_data, delimiter=',')"
   ]
  },
  {
   "cell_type": "markdown",
   "metadata": {},
   "source": [
    "## Hyper-Parameter 설정 및 train 실행"
   ]
  },
  {
   "cell_type": "code",
   "execution_count": 8,
   "metadata": {
    "collapsed": false
   },
   "outputs": [
    {
     "name": "stdout",
     "output_type": "stream",
     "text": [
      "Diabetes object is created !!!\n",
      "Neural Network Learning using Numerical Derivative...\n",
      "epochs =  0 loss value =  0.6563382666668434\n",
      "epochs =  2 loss value =  0.48464630150573307\n",
      "epochs =  4 loss value =  0.37276311757806707\n",
      "epochs =  6 loss value =  0.3012594180691766\n",
      "epochs =  8 loss value =  0.25439157269002066\n",
      "\n",
      "Elapsed Time =>  0:01:30.040000\n"
     ]
    }
   ],
   "source": [
    "#hyper-parameter\n",
    "i_nodes = training_data.shape[1] - 1    # input nodes 개수\n",
    "h1_nodes = 30  # hidden nodes 개수\n",
    "o_nodes = 1    # output nodes 개수\n",
    "lr = 1e-2      # learning rate\n",
    "epochs = 10   # 반복횟수\n",
    "\n",
    "# Diabetes 객체 생성\n",
    "obj = Diabetes(i_nodes, h1_nodes, o_nodes, lr)\n",
    "\n",
    "print(\"Neural Network Learning using Numerical Derivative...\")\n",
    "\n",
    "start_time = datetime.now()\n",
    "\n",
    "for step in range(epochs):\n",
    "    \n",
    "    for index in range(len(training_data)):\n",
    "        \n",
    "        input_data = training_data[index, 0:-1]\n",
    "        target_data = training_data[index, [-1]]\n",
    "        \n",
    "        obj.train(input_data, target_data)\n",
    "        \n",
    "    if (step % 2 == 0):\n",
    "        print(\"epochs = \", step, \"loss value = \", obj.loss_val())\n",
    "\n",
    "end_time = datetime.now()\n",
    "        \n",
    "print(\"\")\n",
    "print(\"Elapsed Time => \", end_time - start_time)"
   ]
  },
  {
   "cell_type": "markdown",
   "metadata": {},
   "source": [
    "## Accuracy 검증"
   ]
  },
  {
   "cell_type": "code",
   "execution_count": 9,
   "metadata": {
    "collapsed": false
   },
   "outputs": [
    {
     "name": "stdout",
     "output_type": "stream",
     "text": [
      "Accuracy =>  0.7351778656126482\n"
     ]
    }
   ],
   "source": [
    "test_input_data = test_data[ :, 0:-1 ]\n",
    "test_target_data = test_data[ :, -1 ]\n",
    "\n",
    "(true_list, false_list, index_label_prediction_list) = obj.accuracy(test_input_data, test_target_data)"
   ]
  },
  {
   "cell_type": "code",
   "execution_count": 10,
   "metadata": {
    "collapsed": false
   },
   "outputs": [
    {
     "name": "stdout",
     "output_type": "stream",
     "text": [
      "[[2, 0.0, 1], [4, 1.0, 0], [6, 0.0, 1], [9, 1.0, 0], [12, 0.0, 1], [13, 1.0, 0], [14, 1.0, 0], [28, 1.0, 0], [36, 0.0, 1], [38, 0.0, 1], [41, 0.0, 1], [42, 0.0, 1], [56, 0.0, 1], [62, 0.0, 1], [65, 0.0, 1], [66, 1.0, 0], [70, 1.0, 0], [72, 0.0, 1], [75, 0.0, 1], [80, 0.0, 1], [81, 1.0, 0], [84, 0.0, 1], [88, 1.0, 0], [90, 1.0, 0], [94, 0.0, 1], [96, 0.0, 1], [97, 0.0, 1], [98, 1.0, 0], [101, 0.0, 1], [107, 0.0, 1], [110, 1.0, 0], [113, 1.0, 0], [117, 0.0, 1], [119, 1.0, 0], [122, 1.0, 0], [127, 0.0, 1], [132, 0.0, 1], [141, 0.0, 1], [146, 0.0, 1], [149, 1.0, 0], [150, 1.0, 0], [154, 1.0, 0], [156, 1.0, 0], [158, 1.0, 0], [160, 1.0, 0], [162, 0.0, 1], [164, 1.0, 0], [165, 0.0, 1], [176, 1.0, 0], [177, 0.0, 1], [183, 1.0, 0], [187, 0.0, 1], [190, 1.0, 0], [200, 1.0, 0], [201, 0.0, 1], [206, 1.0, 0], [210, 0.0, 1], [217, 1.0, 0], [220, 1.0, 0], [223, 0.0, 1], [225, 1.0, 0], [227, 1.0, 0], [229, 0.0, 1], [230, 1.0, 0], [241, 0.0, 1], [245, 1.0, 0], [249, 1.0, 0]]\n"
     ]
    }
   ],
   "source": [
    "print(index_label_prediction_list)"
   ]
  },
  {
   "cell_type": "markdown",
   "metadata": {},
   "source": [
    "## 생성해서 저장한 \n",
    "## diabetes_generated_training_data / diabetes_generated_test_data 파일로 딥러닝 수행"
   ]
  },
  {
   "cell_type": "code",
   "execution_count": 14,
   "metadata": {
    "collapsed": false
   },
   "outputs": [
    {
     "name": "stdout",
     "output_type": "stream",
     "text": [
      "generated_training_data.shape =  (506, 9)\n",
      "generated_test_data.shape =  (253, 9)\n"
     ]
    }
   ],
   "source": [
    "generated_training_data = np.loadtxt('./diabetes_generated_training_data.csv', delimiter=',',  dtype=np.float32)\n",
    "generated_test_data = np.loadtxt('./diabetes_generated_test_data.csv', delimiter=',',  dtype=np.float32)\n",
    "\n",
    "print(\"generated_training_data.shape = \", generated_training_data.shape)\n",
    "print(\"generated_test_data.shape = \", generated_test_data.shape)"
   ]
  },
  {
   "cell_type": "code",
   "execution_count": 15,
   "metadata": {
    "collapsed": false
   },
   "outputs": [
    {
     "name": "stdout",
     "output_type": "stream",
     "text": [
      "Diabetes object is created !!!\n",
      "Neural Network Learning using Numerical Derivative...\n",
      "epochs =  0 loss value =  0.7246342001262254\n",
      "epochs =  2 loss value =  0.5241855803124901\n",
      "epochs =  4 loss value =  0.39268151184965433\n",
      "epochs =  6 loss value =  0.3107816876436779\n",
      "epochs =  8 loss value =  0.2589951376978359\n",
      "\n",
      "Elapsed Time =>  0:01:37.225000\n"
     ]
    }
   ],
   "source": [
    "#hyper-parameter\n",
    "i_nodes = generated_training_data.shape[1] - 1    # input nodes 개수\n",
    "h1_nodes = 30  # hidden nodes 개수\n",
    "o_nodes = 1    # output nodes 개수\n",
    "lr = 1e-2      # learning rate\n",
    "epochs = 10   # 반복횟수\n",
    "\n",
    "# Diabetes 객체 생성\n",
    "obj = Diabetes(i_nodes, h1_nodes, o_nodes, lr)\n",
    "\n",
    "print(\"Neural Network Learning using Numerical Derivative...\")\n",
    "\n",
    "start_time = datetime.now()\n",
    "\n",
    "for step in range(epochs):\n",
    "    \n",
    "    for index in range(len(generated_training_data)):\n",
    "        \n",
    "        input_data = generated_training_data[index, 0:-1]  \n",
    "        target_data = generated_training_data[index, [-1]] \n",
    "        \n",
    "        obj.train(input_data, target_data)\n",
    "        \n",
    "    if (step % 2 == 0):\n",
    "        print(\"epochs = \", step, \"loss value = \", obj.loss_val())\n",
    "\n",
    "end_time = datetime.now()\n",
    "        \n",
    "print(\"\")\n",
    "print(\"Elapsed Time => \", end_time - start_time)"
   ]
  },
  {
   "cell_type": "code",
   "execution_count": 16,
   "metadata": {
    "collapsed": false
   },
   "outputs": [
    {
     "name": "stdout",
     "output_type": "stream",
     "text": [
      "Accuracy =>  0.7549407114624506\n"
     ]
    }
   ],
   "source": [
    "test_input_data = generated_test_data[ :, 0:-1 ]\n",
    "test_target_data = generated_test_data[ :, -1 ]\n",
    "\n",
    "(true_list, false_list, index_label_prediction_list) = obj.accuracy(test_input_data, test_target_data)"
   ]
  },
  {
   "cell_type": "code",
   "execution_count": 17,
   "metadata": {
    "collapsed": false
   },
   "outputs": [
    {
     "name": "stdout",
     "output_type": "stream",
     "text": [
      "[[2, 0.0, 1], [4, 1.0, 0], [6, 0.0, 1], [12, 0.0, 1], [13, 1.0, 0], [14, 1.0, 0], [28, 1.0, 0], [36, 0.0, 1], [38, 0.0, 1], [41, 0.0, 1], [42, 0.0, 1], [56, 0.0, 1], [62, 0.0, 1], [65, 0.0, 1], [66, 1.0, 0], [70, 1.0, 0], [72, 0.0, 1], [80, 0.0, 1], [81, 1.0, 0], [84, 0.0, 1], [88, 1.0, 0], [90, 1.0, 0], [94, 0.0, 1], [96, 0.0, 1], [97, 0.0, 1], [98, 1.0, 0], [101, 0.0, 1], [107, 0.0, 1], [110, 1.0, 0], [113, 1.0, 0], [117, 0.0, 1], [119, 1.0, 0], [122, 1.0, 0], [127, 0.0, 1], [132, 0.0, 1], [141, 0.0, 1], [146, 0.0, 1], [149, 1.0, 0], [150, 1.0, 0], [154, 1.0, 0], [156, 1.0, 0], [160, 1.0, 0], [162, 0.0, 1], [164, 1.0, 0], [177, 0.0, 1], [183, 1.0, 0], [187, 0.0, 1], [190, 1.0, 0], [200, 1.0, 0], [201, 0.0, 1], [206, 1.0, 0], [210, 0.0, 1], [217, 1.0, 0], [223, 0.0, 1], [225, 1.0, 0], [227, 1.0, 0], [228, 0.0, 1], [229, 0.0, 1], [230, 1.0, 0], [241, 0.0, 1], [245, 1.0, 0], [249, 1.0, 0]]\n"
     ]
    }
   ],
   "source": [
    "print(index_label_prediction_list)"
   ]
  },
  {
   "cell_type": "code",
   "execution_count": null,
   "metadata": {
    "collapsed": true
   },
   "outputs": [],
   "source": []
  }
 ],
 "metadata": {
  "anaconda-cloud": {},
  "kernelspec": {
   "display_name": "Python [default]",
   "language": "python",
   "name": "python3"
  },
  "language_info": {
   "codemirror_mode": {
    "name": "ipython",
    "version": 3
   },
   "file_extension": ".py",
   "mimetype": "text/x-python",
   "name": "python",
   "nbconvert_exporter": "python",
   "pygments_lexer": "ipython3",
   "version": "3.5.2"
  }
 },
 "nbformat": 4,
 "nbformat_minor": 1
}
