{
 "cells": [
  {
   "cell_type": "code",
   "execution_count": 1,
   "metadata": {
    "collapsed": false
   },
   "outputs": [],
   "source": [
    "import numpy as np\n",
    "import pandas as pd\n",
    "import tensorflow as tf"
   ]
  },
  {
   "cell_type": "code",
   "execution_count": 2,
   "metadata": {
    "collapsed": false
   },
   "outputs": [
    {
     "name": "stdout",
     "output_type": "stream",
     "text": [
      "train_csv_data.shape =  (891, 12)\n",
      "test_csv_data.shape =  (418, 11)\n",
      "test_csv_sub.shape =  (418, 2)\n"
     ]
    }
   ],
   "source": [
    "# Load Kaggle Data as matrix\n",
    "train_csv_data = pd.read_csv('./titanic_train.csv').values\n",
    "test_csv_data = pd.read_csv('./titanic_test.csv').values\n",
    "test_csv_sub = pd.read_csv('./titanic_gender_submission.csv').values\n",
    "\n",
    "# Check loaded data\n",
    "print(\"train_csv_data.shape = \", train_csv_data.shape)\n",
    "print(\"test_csv_data.shape = \", test_csv_data.shape)\n",
    "print(\"test_csv_sub.shape = \", test_csv_sub.shape)"
   ]
  },
  {
   "cell_type": "code",
   "execution_count": 3,
   "metadata": {
    "collapsed": false
   },
   "outputs": [],
   "source": [
    "# train data 에서 male -> 1, female -> 0\n",
    "for i in range(len(train_csv_data)):\n",
    "    \n",
    "    if train_csv_data[i, 4] == 'male':\n",
    "        \n",
    "        train_csv_data[i, 4] = 1\n",
    "    \n",
    "    else:\n",
    "        \n",
    "        train_csv_data[i, 4] = 0\n",
    "        \n",
    "# test data 에서 male -> 1, female -> 0\n",
    "for i in range(len(test_csv_data)):\n",
    "    \n",
    "    if test_csv_data[i, 3] == 'male':\n",
    "        \n",
    "        test_csv_data[i, 3] = 1\n",
    "    \n",
    "    else:\n",
    "        \n",
    "        test_csv_data[i, 3] = 0"
   ]
  },
  {
   "cell_type": "code",
   "execution_count": 4,
   "metadata": {
    "collapsed": true
   },
   "outputs": [],
   "source": [
    "# train data 에서 Embarked, Empty -> 0, S -> 1, C -> 2, Q -> 3\n",
    "for i in range(len(train_csv_data)):\n",
    "    \n",
    "    if train_csv_data[i, 11] == 'S':\n",
    "        \n",
    "        train_csv_data[i, 11] = 1\n",
    "        \n",
    "    elif train_csv_data[i, 11] == 'C':\n",
    "        \n",
    "        train_csv_data[i, 11] = 2\n",
    "        \n",
    "    elif train_csv_data[i, 11] == 'Q':\n",
    "        \n",
    "        train_csv_data[i, 11] = 3\n",
    "        \n",
    "        \n",
    "    if np.isnan(train_csv_data[i, 11]):\n",
    "        \n",
    "        train_csv_data[i, 11] = 0\n",
    "        \n",
    "\n",
    "# test data 에서 Embarked, Empty -> 0, S -> 1, C -> 2, Q -> 3\n",
    "for i in range(len(test_csv_data)):\n",
    "    \n",
    "    if test_csv_data[i, 10] == 'S':\n",
    "        \n",
    "        test_csv_data[i, 10] = 1\n",
    "        \n",
    "    elif test_csv_data[i, 10] == 'C':\n",
    "        \n",
    "        test_csv_data[i, 10] = 2\n",
    "        \n",
    "    elif test_csv_data[i, 10] == 'Q':\n",
    "        \n",
    "        test_csv_data[i, 10] = 3\n",
    "        \n",
    "    if np.isnan(test_csv_data[i, 10]):\n",
    "        \n",
    "        test_csv_data[i, 10] = 0"
   ]
  },
  {
   "cell_type": "code",
   "execution_count": 5,
   "metadata": {
    "collapsed": true
   },
   "outputs": [],
   "source": [
    "training_x_data = train_csv_data[ : , [ 2, 4, 6, 7, 11 ] ]  # Pclass, Sex, SibSp, Parch, Embarked\n",
    "\n",
    "training_t_data = train_csv_data[ :, 1:2]\n",
    "\n",
    "test_x_data = test_csv_data[ : , [ 1, 3, 5, 6, 10 ] ]  # Pclass, Sex, SibSp, Parch, Embarked\n",
    "\n",
    "test_t_data = test_csv_sub[ :, 1:2]  # test_csv_sub 에서 데이터 가져옴. 주의 요함"
   ]
  },
  {
   "cell_type": "code",
   "execution_count": 6,
   "metadata": {
    "collapsed": false
   },
   "outputs": [
    {
     "name": "stdout",
     "output_type": "stream",
     "text": [
      "training_x_data.shape =  (891, 5) , test_x_data.shape =  (418, 5)\n",
      "training_t_data.shape =  (891, 1) , test_t_data.shape =  (418, 1)\n"
     ]
    }
   ],
   "source": [
    "print(\"training_x_data.shape = \", training_x_data.shape, \", test_x_data.shape = \", test_x_data.shape)\n",
    "print(\"training_t_data.shape = \", training_t_data.shape, \", test_t_data.shape = \", test_t_data.shape)"
   ]
  },
  {
   "cell_type": "code",
   "execution_count": 7,
   "metadata": {
    "collapsed": false
   },
   "outputs": [],
   "source": [
    "# Placeholder\n",
    "X = tf.placeholder(tf.float32, shape=[None, 5])\n",
    "T = tf.placeholder(tf.float32, shape=[None, 1])\n",
    "\n",
    "W = tf.Variable(tf.random_normal([5,1]), name='weight')\n",
    "b = tf.Variable(tf.random_normal([1]), name='bias')"
   ]
  },
  {
   "cell_type": "code",
   "execution_count": 8,
   "metadata": {
    "collapsed": false
   },
   "outputs": [],
   "source": [
    "z = tf.matmul(X,W) + b\n",
    "\n",
    "y = tf.sigmoid(z)\n",
    "\n",
    "# loss\n",
    "loss = -tf.reduce_mean(T * tf.log(y) + (1-T) * tf.log(1-y))"
   ]
  },
  {
   "cell_type": "code",
   "execution_count": 9,
   "metadata": {
    "collapsed": true
   },
   "outputs": [],
   "source": [
    "learning_rate = 0.01\n",
    "\n",
    "#Optimizer\n",
    "optimizer = tf.train.GradientDescentOptimizer(learning_rate)\n",
    "\n",
    "train = optimizer.minimize(loss)\n",
    "\n",
    "# Accuracy computation\n",
    "# True if y > 0.5 else False\n",
    "predicted = tf.cast(y > 0.5, dtype=tf.float32)\n",
    "\n",
    "accuracy = tf.reduce_mean(tf.cast(tf.equal(predicted, T), dtype=tf.float32))"
   ]
  },
  {
   "cell_type": "code",
   "execution_count": 10,
   "metadata": {
    "collapsed": false
   },
   "outputs": [
    {
     "name": "stdout",
     "output_type": "stream",
     "text": [
      "Step = 0 , loss:  0.88840836\n",
      "Step = 500 , loss:  0.5446618\n",
      "Step = 1000 , loss:  0.50430286\n",
      "Step = 1500 , loss:  0.48645929\n",
      "Step = 2000 , loss:  0.47803855\n",
      "Step = 2500 , loss:  0.47365135\n",
      "Step = 3000 , loss:  0.47106978\n",
      "Step = 3500 , loss:  0.46934843\n",
      "Step = 4000 , loss:  0.4680697\n",
      "Step = 4500 , loss:  0.4670431\n",
      "Step = 5000 , loss:  0.4661764\n",
      "Step = 5500 , loss:  0.4654219\n",
      "\n",
      "Accuracy:  0.9904306\n"
     ]
    }
   ],
   "source": [
    "with tf.Session() as sess:\n",
    "    \n",
    "    sess.run(tf.global_variables_initializer())\n",
    "    \n",
    "    for step in range(6000):\n",
    "        \n",
    "        loss_val, y_val, _ = sess.run([loss, y, train], feed_dict = {X:training_x_data, T:training_t_data})\n",
    "    \n",
    "        if step % 500 == 0:\n",
    "            print(\"Step =\", step, \", loss: \", loss_val)\n",
    "           \n",
    "    y_val, predicted_val, accuracy_val = sess.run([y, predicted, accuracy], feed_dict = {X:test_x_data, T:test_t_data})\n",
    "    \n",
    "    print(\"\")\n",
    "    print(\"Accuracy: \" , accuracy_val)"
   ]
  },
  {
   "cell_type": "code",
   "execution_count": null,
   "metadata": {
    "collapsed": true
   },
   "outputs": [],
   "source": []
  },
  {
   "cell_type": "code",
   "execution_count": 6,
   "metadata": {
    "collapsed": false
   },
   "outputs": [
    {
     "name": "stdout",
     "output_type": "stream",
     "text": [
      "[1 0 3 'Braund, Mr. Owen Harris' 'male' 22.0 1 0 'A/5 21171' 7.25 nan 'S']\n"
     ]
    }
   ],
   "source": [
    "print(train_csv_data[0])"
   ]
  },
  {
   "cell_type": "code",
   "execution_count": 7,
   "metadata": {
    "collapsed": false
   },
   "outputs": [
    {
     "name": "stdout",
     "output_type": "stream",
     "text": [
      "Braund, Mr. Owen Harris\n"
     ]
    }
   ],
   "source": [
    "print(train_csv_data[0, 3])"
   ]
  },
  {
   "cell_type": "code",
   "execution_count": 8,
   "metadata": {
    "collapsed": true
   },
   "outputs": [],
   "source": [
    "train_pd_csv = pd.read_csv('./titanic_train.csv')"
   ]
  },
  {
   "cell_type": "code",
   "execution_count": 9,
   "metadata": {
    "collapsed": false
   },
   "outputs": [
    {
     "data": {
      "text/html": [
       "<div>\n",
       "<style scoped>\n",
       "    .dataframe tbody tr th:only-of-type {\n",
       "        vertical-align: middle;\n",
       "    }\n",
       "\n",
       "    .dataframe tbody tr th {\n",
       "        vertical-align: top;\n",
       "    }\n",
       "\n",
       "    .dataframe thead th {\n",
       "        text-align: right;\n",
       "    }\n",
       "</style>\n",
       "<table border=\"1\" class=\"dataframe\">\n",
       "  <thead>\n",
       "    <tr style=\"text-align: right;\">\n",
       "      <th></th>\n",
       "      <th>PassengerId</th>\n",
       "      <th>Survived</th>\n",
       "      <th>Pclass</th>\n",
       "      <th>Name</th>\n",
       "      <th>Sex</th>\n",
       "      <th>Age</th>\n",
       "      <th>SibSp</th>\n",
       "      <th>Parch</th>\n",
       "      <th>Ticket</th>\n",
       "      <th>Fare</th>\n",
       "      <th>Cabin</th>\n",
       "      <th>Embarked</th>\n",
       "    </tr>\n",
       "  </thead>\n",
       "  <tbody>\n",
       "    <tr>\n",
       "      <th>0</th>\n",
       "      <td>1</td>\n",
       "      <td>0</td>\n",
       "      <td>3</td>\n",
       "      <td>Braund, Mr. Owen Harris</td>\n",
       "      <td>male</td>\n",
       "      <td>22.0</td>\n",
       "      <td>1</td>\n",
       "      <td>0</td>\n",
       "      <td>A/5 21171</td>\n",
       "      <td>7.2500</td>\n",
       "      <td>NaN</td>\n",
       "      <td>S</td>\n",
       "    </tr>\n",
       "    <tr>\n",
       "      <th>1</th>\n",
       "      <td>2</td>\n",
       "      <td>1</td>\n",
       "      <td>1</td>\n",
       "      <td>Cumings, Mrs. John Bradley (Florence Briggs Th...</td>\n",
       "      <td>female</td>\n",
       "      <td>38.0</td>\n",
       "      <td>1</td>\n",
       "      <td>0</td>\n",
       "      <td>PC 17599</td>\n",
       "      <td>71.2833</td>\n",
       "      <td>C85</td>\n",
       "      <td>C</td>\n",
       "    </tr>\n",
       "  </tbody>\n",
       "</table>\n",
       "</div>"
      ],
      "text/plain": [
       "   PassengerId  Survived  Pclass  \\\n",
       "0            1         0       3   \n",
       "1            2         1       1   \n",
       "\n",
       "                                                Name     Sex   Age  SibSp  \\\n",
       "0                            Braund, Mr. Owen Harris    male  22.0      1   \n",
       "1  Cumings, Mrs. John Bradley (Florence Briggs Th...  female  38.0      1   \n",
       "\n",
       "   Parch     Ticket     Fare Cabin Embarked  \n",
       "0      0  A/5 21171   7.2500   NaN        S  \n",
       "1      0   PC 17599  71.2833   C85        C  "
      ]
     },
     "execution_count": 9,
     "metadata": {},
     "output_type": "execute_result"
    }
   ],
   "source": [
    "train_pd_csv.head(2)"
   ]
  },
  {
   "cell_type": "code",
   "execution_count": 10,
   "metadata": {
    "collapsed": false
   },
   "outputs": [
    {
     "data": {
      "text/plain": [
       "Index(['PassengerId', 'Survived', 'Pclass', 'Name', 'Sex', 'Age', 'SibSp',\n",
       "       'Parch', 'Ticket', 'Fare', 'Cabin', 'Embarked'],\n",
       "      dtype='object')"
      ]
     },
     "execution_count": 10,
     "metadata": {},
     "output_type": "execute_result"
    }
   ],
   "source": [
    "train_pd_csv.columns"
   ]
  },
  {
   "cell_type": "code",
   "execution_count": 11,
   "metadata": {
    "collapsed": false
   },
   "outputs": [
    {
     "data": {
      "text/plain": [
       "RangeIndex(start=0, stop=891, step=1)"
      ]
     },
     "execution_count": 11,
     "metadata": {},
     "output_type": "execute_result"
    }
   ],
   "source": [
    "train_pd_csv.index"
   ]
  },
  {
   "cell_type": "code",
   "execution_count": 12,
   "metadata": {
    "collapsed": false
   },
   "outputs": [
    {
     "data": {
      "text/plain": [
       "array([[1, 0, 3, ..., 7.25, nan, 'S'],\n",
       "       [2, 1, 1, ..., 71.2833, 'C85', 'C'],\n",
       "       [3, 1, 3, ..., 7.925, nan, 'S'],\n",
       "       ...,\n",
       "       [889, 0, 3, ..., 23.45, nan, 'S'],\n",
       "       [890, 1, 1, ..., 30.0, 'C148', 'C'],\n",
       "       [891, 0, 3, ..., 7.75, nan, 'Q']], dtype=object)"
      ]
     },
     "execution_count": 12,
     "metadata": {},
     "output_type": "execute_result"
    }
   ],
   "source": [
    "train_pd_csv.values"
   ]
  },
  {
   "cell_type": "code",
   "execution_count": null,
   "metadata": {
    "collapsed": true
   },
   "outputs": [],
   "source": []
  }
 ],
 "metadata": {
  "anaconda-cloud": {},
  "kernelspec": {
   "display_name": "Python [default]",
   "language": "python",
   "name": "python3"
  },
  "language_info": {
   "codemirror_mode": {
    "name": "ipython",
    "version": 3
   },
   "file_extension": ".py",
   "mimetype": "text/x-python",
   "name": "python",
   "nbconvert_exporter": "python",
   "pygments_lexer": "ipython3",
   "version": "3.5.2"
  }
 },
 "nbformat": 4,
 "nbformat_minor": 1
}
