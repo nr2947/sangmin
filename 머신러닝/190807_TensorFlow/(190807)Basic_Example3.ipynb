{
 "cells": [
  {
   "cell_type": "code",
   "execution_count": 1,
   "metadata": {
    "collapsed": false
   },
   "outputs": [
    {
     "name": "stdout",
     "output_type": "stream",
     "text": [
      "step =  0 , W1 =  [-0.6466671] , b1 =  [-0.37469545]\n",
      "step =  0 , W2 =  [[0.43142912 1.3501556 ]] , b2 =  [[-1.0384135   0.21026571]]\n",
      "step =  1 , W1 =  [-1.6466671] , b1 =  [-1.3746954]\n",
      "step =  1 , W2 =  [[-0.56857085  0.3501556 ]] , b2 =  [[-2.0384135 -0.7897343]]\n",
      "step =  2 , W1 =  [-3.646667] , b1 =  [-3.3746953]\n",
      "step =  2 , W2 =  [[-2.5685709 -1.6498444]] , b2 =  [[-4.0384135 -2.7897344]]\n"
     ]
    }
   ],
   "source": [
    "import tensorflow as tf\n",
    "\n",
    "# 값이 계속 업데이트되는 변수노드 정의\n",
    "W1 = tf.Variable(tf.random_normal([1]))  # 가우시안 분포\n",
    "b1 = tf.Variable(tf.random_normal([1]))  # 가우시안 분포\n",
    "\n",
    "W2 = tf.Variable(tf.random_normal([1,2]))  # 가우시안 분포\n",
    "b2 = tf.Variable(tf.random_normal([1,2]))  # 가우시안 분포\n",
    "\n",
    "# 세션 생성\n",
    "sess = tf.Session()  \n",
    "\n",
    "# 변수노드 값 초기화. 변수노드를 정의했다면 반드시 필요함\n",
    "sess.run(tf.global_variables_initializer())\n",
    "\n",
    "\n",
    "for step in range(3):    \n",
    "    \n",
    "    W1 = W1 - step    # W1 변수노드 업데이트\n",
    "    b1 = b1 - step    # b1 변수노드 업데이트\n",
    "    \n",
    "    W2 = W2 - step    # W2 변수노드 업데이트\n",
    "    b2 = b2 - step    # b2 변수노드 업데이트\n",
    "    \n",
    "    print(\"step = \", step, \", W1 = \", sess.run(W1), \", b1 = \", sess.run(b1))\n",
    "    print(\"step = \", step, \", W2 = \", sess.run(W2), \", b2 = \", sess.run(b2))\n",
    "\n",
    "# 세션 close\n",
    "sess.close()   "
   ]
  },
  {
   "cell_type": "code",
   "execution_count": null,
   "metadata": {
    "collapsed": true
   },
   "outputs": [],
   "source": []
  }
 ],
 "metadata": {
  "anaconda-cloud": {},
  "kernelspec": {
   "display_name": "Python [default]",
   "language": "python",
   "name": "python3"
  },
  "language_info": {
   "codemirror_mode": {
    "name": "ipython",
    "version": 3
   },
   "file_extension": ".py",
   "mimetype": "text/x-python",
   "name": "python",
   "nbconvert_exporter": "python",
   "pygments_lexer": "ipython3",
   "version": "3.5.2"
  }
 },
 "nbformat": 4,
 "nbformat_minor": 1
}
