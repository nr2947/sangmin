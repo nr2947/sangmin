{
 "cells": [
  {
   "cell_type": "markdown",
   "metadata": {},
   "source": [
    "## random.shuffle 기능을 이용하여 \n",
    "## training data 와 test data 분리 하는 DataGeneration class 이용"
   ]
  },
  {
   "cell_type": "code",
   "execution_count": 1,
   "metadata": {
    "collapsed": false
   },
   "outputs": [],
   "source": [
    "import tensorflow as tf\n",
    "import numpy as np\n",
    "import random"
   ]
  },
  {
   "cell_type": "code",
   "execution_count": 2,
   "metadata": {
    "collapsed": true
   },
   "outputs": [],
   "source": [
    "class DataGeneration:\n",
    "    \n",
    "    def __init__(self, name, file_path, seperation_rate, is_normalized=False):\n",
    "        \n",
    "        self.name = name\n",
    "        \n",
    "        self.file_path = file_path\n",
    "        \n",
    "        self.seperation_rate = seperation_rate\n",
    "        \n",
    "        self.is_normalized = is_normalized\n",
    "        \n",
    "        print(\"DataGeneration object is created !!\")\n",
    "    \n",
    "    # np.max() 를 이용한 데이터 정규화\n",
    "    def data_normalize_using_max(self, loaded_data):\n",
    "        \n",
    "        # 각 열의 최대값을 찾기 위해 행과 열을 바꾸어 줌. 즉 전치향렬을 만들어줌\n",
    "        transpose_loaded_data = loaded_data.T        \n",
    "\n",
    "        print(\"transpose_loaded_data.shape = \", transpose_loaded_data.shape)\n",
    "        \n",
    "        # 전치행렬을 위한 리스트\n",
    "        transpose_normalize_data_list = []\n",
    "\n",
    "        for index in range(len(transpose_loaded_data)):\n",
    "    \n",
    "            max_value = np.max(transpose_loaded_data[index, :])   # 각 행의 최대값을 찾음\n",
    "    \n",
    "            # 최대값이 1 이상이면 최대값으로 나누어서 \n",
    "            # 모든 데이터가 0 ~ 1 사이에 오도록 함\n",
    "            if max_value > 1.0:  \n",
    "        \n",
    "                transpose_normalize_data_list.append(transpose_loaded_data[index, :] / max_value)\n",
    "       \n",
    "            # 최대값이 1 보다 작으면 해당 값을 그대로 사용함. \n",
    "            ## 왜냐하면 1보다 작은 값이면 굳이 바꿀 필요가 없음\n",
    "            else:      \n",
    "        \n",
    "                transpose_normalize_data_list.append(transpose_loaded_data[index, :])\n",
    "        \n",
    "\n",
    "        # 리스트를 numpy type 으로 변환\n",
    "        transpose_normalize_data = np.array(transpose_normalize_data_list)\n",
    "\n",
    "        print(transpose_normalize_data.shape)\n",
    "\n",
    "        # 데이터 저장을 위해 다시 전치행렬을 통해 행과 열을 바꿈\n",
    "        normalize_data = transpose_normalize_data.T\n",
    "\n",
    "        print(normalize_data.shape)\n",
    "\n",
    "        # normalize 파일저장\n",
    "        data_save_path = './Normalize_' + self.name + '_data.csv'\n",
    "        \n",
    "        np.savetxt(data_save_path, normalize_data, delimiter=',')\n",
    "        \n",
    "        return normalize_data\n",
    "\n",
    "    # shuffle 기능을 이용하여 training_data / test_data 생성\n",
    "    def generate(self):\n",
    "    \n",
    "        # 데이터 불러오기\n",
    "\n",
    "        loaded_data = np.loadtxt(self.file_path, delimiter=',', dtype=np.float32)\n",
    "        \n",
    "        print(\"[debug. before data normalization] loaded_data[0] = \", loaded_data[0])\n",
    "\n",
    "        print(\"loaded_data.shape = \", loaded_data.shape)\n",
    "        \n",
    "        if (self.is_normalized == True):\n",
    "            \n",
    "            loaded_data = self.data_normalize_using_max(loaded_data)\n",
    "            \n",
    "            print(\"[debug. after data normalization] loaded_data[0] = \", loaded_data[0])\n",
    "\n",
    "        # 임시 저장 리스트\n",
    "        training_data_list = []\n",
    "        test_data_list = []\n",
    "\n",
    "        # 분리비율에 맞게 테스트데이터로 분리\n",
    "        total_data_num = len(loaded_data)\n",
    "        test_data_num = int(len(loaded_data) * self.seperation_rate)\n",
    "\n",
    "        print(\"total_data_num = \", total_data_num, \", test_data_num = \", test_data_num)\n",
    "\n",
    "        # 전체 데이터 인덱스를 가지고 있는 리스트 생성\n",
    "        total_data_index_list = [ index for index in range(total_data_num) ]\n",
    "\n",
    "        # random.shuffle 을 이용하여 인덱스 리스트 생성\n",
    "        random.shuffle(total_data_index_list)  # 전체 인덱스가 랜덤하게 섞여진 리스트로 변형된다\n",
    "\n",
    "        # test data 를 위한 인덱스는 total_data_index_list 로뷰터 앞에서 40 % 의 데이터 인덱스\n",
    "        test_data_index_list = total_data_index_list[ 0:test_data_num ]\n",
    "\n",
    "        print(\"length of test_data_index_list = \", len(test_data_index_list))\n",
    "\n",
    "        # training data 를 위한 인덱스는 total_data_index_list 에서 test data 인덱스를 제외한 나머지 부분\n",
    "        training_data_index_list = total_data_index_list[ test_data_num: ]\n",
    "\n",
    "        print(\"length of training_data_index_list = \", len(training_data_index_list))\n",
    "\n",
    "        # training data 구성\n",
    "        for training_data_index in training_data_index_list:\n",
    "    \n",
    "            training_data_list.append(loaded_data[training_data_index])\n",
    "\n",
    "        # test data 구성\n",
    "        for test_data_index in test_data_index_list:\n",
    "    \n",
    "            test_data_list.append(loaded_data[test_data_index])\n",
    "\n",
    "        # generate training data from training_data_list using np.arrya(...)\n",
    "        training_data = np.array(training_data_list)\n",
    "\n",
    "        # generate test data from test_data_list using np.arrya(...)\n",
    "        test_data = np.array(test_data_list)\n",
    "\n",
    "        # verification shape\n",
    "        print(\"training_data.shape = \", training_data.shape)\n",
    "        print(\"test_data.shape = \", test_data.shape)\n",
    "\n",
    "        # save training & test data (.csv)\n",
    "        training_data_save_path = './random_' + self.name + '_training_data.csv'\n",
    "        test_data_save_path = './random_' + self.name + '_test_data.csv'\n",
    "        \n",
    "        np.savetxt(training_data_save_path, training_data, delimiter=',')\n",
    "        np.savetxt(test_data_save_path, test_data, delimiter=',')\n",
    "        \n",
    "        return training_data, test_data"
   ]
  },
  {
   "cell_type": "code",
   "execution_count": 3,
   "metadata": {
    "collapsed": false
   },
   "outputs": [
    {
     "name": "stdout",
     "output_type": "stream",
     "text": [
      "DataGeneration object is created !!\n",
      "[debug. before data normalization] loaded_data[0] =  [-0.294118    0.487437    0.180328   -0.292929    0.          0.00149028\n",
      " -0.53117    -0.0333333   0.        ]\n",
      "loaded_data.shape =  (759, 9)\n",
      "total_data_num =  759 , test_data_num =  227\n",
      "length of test_data_index_list =  227\n",
      "length of training_data_index_list =  532\n",
      "training_data.shape =  (532, 9)\n",
      "test_data.shape =  (227, 9)\n",
      "training_data.shape =  (532, 9)\n",
      "test_data.shape =  (227, 9)\n"
     ]
    }
   ],
   "source": [
    "# DataGeneration 객체 생성\n",
    "seperation_rate = 0.3\n",
    "data_obj = DataGeneration('Diabetes', './Diabetes.csv', seperation_rate)  # normalize 하지 않음\n",
    "\n",
    "# training_data, test_data 생성\n",
    "(training_data, test_data) = data_obj.generate()\n",
    "\n",
    "print(\"training_data.shape = \", training_data.shape)\n",
    "print(\"test_data.shape = \", test_data.shape)"
   ]
  },
  {
   "cell_type": "code",
   "execution_count": 4,
   "metadata": {
    "collapsed": false
   },
   "outputs": [
    {
     "name": "stdout",
     "output_type": "stream",
     "text": [
      "training_x_data.shape =  (532, 8)\n",
      "training_t_data.shape =  (532, 1)\n",
      "test_x_data.shape =  (227, 8)\n",
      "test_x_data.shape =  (227, 8)\n"
     ]
    }
   ],
   "source": [
    "training_x_data = training_data[ :, 0:-1]\n",
    "training_t_data = training_data[ :, [-1]]\n",
    "\n",
    "print(\"training_x_data.shape = \", training_x_data.shape)\n",
    "print(\"training_t_data.shape = \", training_t_data.shape)\n",
    "\n",
    "test_x_data = test_data[ :, 0:-1]\n",
    "test_t_data = test_data[ :, [-1]]\n",
    "\n",
    "print(\"test_x_data.shape = \", test_x_data.shape)\n",
    "print(\"test_x_data.shape = \", test_x_data.shape)"
   ]
  },
  {
   "cell_type": "code",
   "execution_count": 5,
   "metadata": {
    "collapsed": true
   },
   "outputs": [],
   "source": [
    "X = tf.placeholder(tf.float32, [None, 8])  # 8개 입력노드\n",
    "T = tf.placeholder(tf.float32, [None, 1])  # 1개 정답노드\n",
    "\n",
    "W = tf.Variable(tf.random_normal([8, 1]))  # 8X1 가중치노드\n",
    "b = tf.Variable(tf.random_normal([1]))     # 1개 바이어스 노드"
   ]
  },
  {
   "cell_type": "code",
   "execution_count": 6,
   "metadata": {
    "collapsed": true
   },
   "outputs": [],
   "source": [
    "z = tf.matmul(X, W) + b  # 선형회귀 값 z\n",
    "\n",
    "y = tf.sigmoid(z)    # 시그모이드로 계산 값\n",
    "\n",
    "# 손실함수는 Cross-Entropy \n",
    "loss = -tf.reduce_mean( T*tf.log(y) + (1-T)*tf.log(1-y) ) "
   ]
  },
  {
   "cell_type": "code",
   "execution_count": 7,
   "metadata": {
    "collapsed": true
   },
   "outputs": [],
   "source": [
    "learning_rate = 0.01    # 학습율\n",
    "\n",
    "optimizer = tf.train.GradientDescentOptimizer(learning_rate)\n",
    "\n",
    "train = optimizer.minimize(loss)  "
   ]
  },
  {
   "cell_type": "code",
   "execution_count": 8,
   "metadata": {
    "collapsed": true
   },
   "outputs": [],
   "source": [
    "# 정확성 검사, True if y > 0.5 else False\n",
    "\n",
    "# y shape 은 (759X8) (8X1) = 759X1, 즉 759개의 모든 데이터에 대해 y > 0.5 검사함\n",
    "# 그러므로 predicted 또한 759 개의 1 또는 0 을 가짐\n",
    "predicted = tf.cast(y > 0.5, dtype=tf.float32)  \n",
    "\n",
    "\n",
    "# predicted 와 T 같으면 True 를 리턴하므로 cast 에 의해서 1로 강제 변환, 그렇지 않으면 0으로 변환해서\n",
    "# accuracy 는 총 759 개의 1 또는 0 을 가짐. 이것을 전체 갯수 759로 나눔\n",
    "accuracy = tf.reduce_mean(tf.cast(tf.equal(predicted, T), dtype=tf.float32))"
   ]
  },
  {
   "cell_type": "code",
   "execution_count": 10,
   "metadata": {
    "collapsed": false
   },
   "outputs": [
    {
     "name": "stdout",
     "output_type": "stream",
     "text": [
      "step =  0 , loss_val =  0.6965248\n",
      "step =  500 , loss_val =  0.6352679\n",
      "step =  1000 , loss_val =  0.6014237\n",
      "step =  1500 , loss_val =  0.57615703\n",
      "step =  2000 , loss_val =  0.55715686\n",
      "step =  2500 , loss_val =  0.5427557\n",
      "step =  3000 , loss_val =  0.5317255\n",
      "step =  3500 , loss_val =  0.52317756\n",
      "step =  4000 , loss_val =  0.5164724\n",
      "step =  4500 , loss_val =  0.5111499\n",
      "step =  5000 , loss_val =  0.5068766\n",
      "step =  5500 , loss_val =  0.5034091\n",
      "step =  6000 , loss_val =  0.50056773\n",
      "step =  6500 , loss_val =  0.49821812\n",
      "step =  7000 , loss_val =  0.49625918\n",
      "step =  7500 , loss_val =  0.4946134\n",
      "step =  8000 , loss_val =  0.4932212\n",
      "step =  8500 , loss_val =  0.492036\n",
      "step =  9000 , loss_val =  0.4910213\n",
      "step =  9500 , loss_val =  0.49014753\n",
      "step =  10000 , loss_val =  0.48939174\n",
      "step =  10500 , loss_val =  0.4887348\n",
      "step =  11000 , loss_val =  0.48816136\n",
      "step =  11500 , loss_val =  0.48765886\n",
      "step =  12000 , loss_val =  0.48721674\n",
      "step =  12500 , loss_val =  0.4868264\n",
      "step =  13000 , loss_val =  0.48648053\n",
      "step =  13500 , loss_val =  0.48617318\n",
      "step =  14000 , loss_val =  0.48589903\n",
      "step =  14500 , loss_val =  0.48565394\n",
      "step =  15000 , loss_val =  0.48543406\n",
      "step =  15500 , loss_val =  0.48523626\n",
      "step =  16000 , loss_val =  0.48505798\n",
      "step =  16500 , loss_val =  0.48489672\n",
      "step =  17000 , loss_val =  0.4847504\n",
      "step =  17500 , loss_val =  0.48461747\n",
      "step =  18000 , loss_val =  0.48449638\n",
      "step =  18500 , loss_val =  0.4843858\n",
      "step =  19000 , loss_val =  0.48428455\n",
      "step =  19500 , loss_val =  0.4841916\n",
      "step =  20000 , loss_val =  0.48410618\n",
      "\n",
      "y_val.shape =  (227, 1) , predicted_val =  (227, 1)\n",
      "\n",
      "Accuracy =  0.79735684\n"
     ]
    }
   ],
   "source": [
    "with  tf.Session()  as sess:\n",
    "    \n",
    "    sess.run(tf.global_variables_initializer())  # 변수 노드(tf.Variable) 초기화\n",
    "\n",
    "    for step in range(20001):\n",
    "      \n",
    "        loss_val, _ = sess.run([loss, train], feed_dict={X: training_x_data, T: training_t_data})    \n",
    "        \n",
    "        \n",
    "        if step % 500 == 0:\n",
    "            print(\"step = \", step, \", loss_val = \", loss_val)             \n",
    "    \n",
    "    # Accuracy 확인\n",
    "    y_val, predicted_val, accuracy_val = sess.run([y, predicted, accuracy], feed_dict={X: test_x_data, T: test_t_data})\n",
    "    \n",
    "    \n",
    "    print(\"\\ny_val.shape = \", y_val.shape, \", predicted_val = \", predicted_val.shape)    \n",
    "    print(\"\\nAccuracy = \", accuracy_val)"
   ]
  },
  {
   "cell_type": "code",
   "execution_count": null,
   "metadata": {
    "collapsed": true
   },
   "outputs": [],
   "source": []
  }
 ],
 "metadata": {
  "anaconda-cloud": {},
  "kernelspec": {
   "display_name": "Python [default]",
   "language": "python",
   "name": "python3"
  },
  "language_info": {
   "codemirror_mode": {
    "name": "ipython",
    "version": 3
   },
   "file_extension": ".py",
   "mimetype": "text/x-python",
   "name": "python",
   "nbconvert_exporter": "python",
   "pygments_lexer": "ipython3",
   "version": "3.5.2"
  }
 },
 "nbformat": 4,
 "nbformat_minor": 1
}
