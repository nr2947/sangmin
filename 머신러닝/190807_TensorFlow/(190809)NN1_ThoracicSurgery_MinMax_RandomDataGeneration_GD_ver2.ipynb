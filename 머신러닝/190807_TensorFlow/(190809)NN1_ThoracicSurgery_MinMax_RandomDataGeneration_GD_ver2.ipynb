{
 "cells": [
  {
   "cell_type": "markdown",
   "metadata": {},
   "source": [
    "## random.shuffle 기능을 이용하여 \n",
    "## training data 와 test data 분리 하는 DataGeneration class 이용"
   ]
  },
  {
   "cell_type": "code",
   "execution_count": 1,
   "metadata": {
    "collapsed": false
   },
   "outputs": [],
   "source": [
    "import tensorflow as tf\n",
    "import numpy as np\n",
    "import random\n",
    "from datetime import datetime"
   ]
  },
  {
   "cell_type": "code",
   "execution_count": 2,
   "metadata": {
    "collapsed": true
   },
   "outputs": [],
   "source": [
    "class DataGeneration:\n",
    "    \n",
    "    def __init__(self, name, file_path, seperation_rate, is_normalized=False):\n",
    "        \n",
    "        self.name = name\n",
    "        \n",
    "        self.file_path = file_path\n",
    "        \n",
    "        self.seperation_rate = seperation_rate\n",
    "        \n",
    "        self.is_normalized = is_normalized\n",
    "        \n",
    "        print(\"DataGeneration object is created !!\")\n",
    "    \n",
    "    # min, max 를 이용한 데이터 정규화\n",
    "    def minmax_normalize(self, loaded_data):\n",
    "        \n",
    "        # 각 열의 최대값을 찾기 위해 행과 열을 바꾸어 줌. 즉 전치향렬을 만들어줌\n",
    "        transpose_loaded_data = loaded_data.T        \n",
    "\n",
    "        print(\"transpose_loaded_data.shape = \", transpose_loaded_data.shape)\n",
    "        \n",
    "        # 전치행렬을 위한 리스트\n",
    "        transpose_normalize_data_list = []\n",
    "\n",
    "        for index in range(len(transpose_loaded_data)):\n",
    "            \n",
    "            max_value = transpose_loaded_data[index].max()   # 각 행의 최대값을 찾음\n",
    "            \n",
    "            min_value = transpose_loaded_data[index].min()   # 각 행의 최소값을 찾음\n",
    "            \n",
    "            transpose_normalize_data_list.append( (transpose_loaded_data[index]-min_value) / (max_value-min_value) )\n",
    "            \n",
    "        # 리스트를 numpy type 으로 변환\n",
    "        transpose_normalize_data = np.array(transpose_normalize_data_list)\n",
    "\n",
    "        print(transpose_normalize_data.shape)\n",
    "\n",
    "        # 데이터 저장을 위해 다시 전치행렬을 통해 행과 열을 바꿈\n",
    "        normalize_data = transpose_normalize_data.T\n",
    "\n",
    "        print(normalize_data.shape)\n",
    "\n",
    "        # normalize 파일저장\n",
    "        data_save_path = './Normalize_' + self.name + '_data.csv'\n",
    "        \n",
    "        np.savetxt(data_save_path, normalize_data, delimiter=',')\n",
    "        \n",
    "        return normalize_data\n",
    "\n",
    "    # shuffle 기능을 이용하여 training_data / test_data 생성\n",
    "    def generate(self):\n",
    "    \n",
    "        # 데이터 불러오기\n",
    "\n",
    "        loaded_data = np.loadtxt(self.file_path, delimiter=',', dtype=np.float32)\n",
    "        \n",
    "        print(\"[debug. before data normalization] loaded_data[0] = \", loaded_data[0])\n",
    "\n",
    "        print(\"loaded_data.shape = \", loaded_data.shape)\n",
    "        \n",
    "        if (self.is_normalized == True):\n",
    "            \n",
    "            loaded_data = self.minmax_normalize(loaded_data)\n",
    "            \n",
    "            print(\"[debug. after data normalization] loaded_data[0] = \", loaded_data[0])\n",
    "\n",
    "        # 임시 저장 리스트\n",
    "        training_data_list = []\n",
    "        test_data_list = []\n",
    "\n",
    "        # 분리비율에 맞게 테스트데이터로 분리\n",
    "        total_data_num = len(loaded_data)\n",
    "        test_data_num = int(len(loaded_data) * self.seperation_rate)\n",
    "\n",
    "        print(\"total_data_num = \", total_data_num, \", test_data_num = \", test_data_num)\n",
    "\n",
    "        # 전체 데이터 인덱스를 가지고 있는 리스트 생성\n",
    "        total_data_index_list = [ index for index in range(total_data_num) ]\n",
    "\n",
    "        # random.shuffle 을 이용하여 인덱스 리스트 생성\n",
    "        random.shuffle(total_data_index_list)  # 전체 인덱스가 랜덤하게 섞여진 리스트로 변형된다\n",
    "\n",
    "        # test data 를 위한 인덱스는 total_data_index_list 로뷰터 앞에서 40 % 의 데이터 인덱스\n",
    "        test_data_index_list = total_data_index_list[ 0:test_data_num ]\n",
    "\n",
    "        print(\"length of test_data_index_list = \", len(test_data_index_list))\n",
    "\n",
    "        # training data 를 위한 인덱스는 total_data_index_list 에서 test data 인덱스를 제외한 나머지 부분\n",
    "        training_data_index_list = total_data_index_list[ test_data_num: ]\n",
    "\n",
    "        print(\"length of training_data_index_list = \", len(training_data_index_list))\n",
    "\n",
    "        # training data 구성\n",
    "        for training_data_index in training_data_index_list:\n",
    "    \n",
    "            training_data_list.append(loaded_data[training_data_index])\n",
    "\n",
    "        # test data 구성\n",
    "        for test_data_index in test_data_index_list:\n",
    "    \n",
    "            test_data_list.append(loaded_data[test_data_index])\n",
    "\n",
    "        # generate training data from training_data_list using np.arrya(...)\n",
    "        training_data = np.array(training_data_list)\n",
    "\n",
    "        # generate test data from test_data_list using np.arrya(...)\n",
    "        test_data = np.array(test_data_list)\n",
    "\n",
    "        # verification shape\n",
    "        print(\"training_data.shape = \", training_data.shape)\n",
    "        print(\"test_data.shape = \", test_data.shape)\n",
    "\n",
    "        # save training & test data (.csv)\n",
    "        training_data_save_path = './random_' + self.name + '_training_data.csv'\n",
    "        test_data_save_path = './random_' + self.name + '_test_data.csv'\n",
    "        \n",
    "        np.savetxt(training_data_save_path, training_data, delimiter=',')\n",
    "        np.savetxt(test_data_save_path, test_data, delimiter=',')\n",
    "        \n",
    "        return training_data, test_data"
   ]
  },
  {
   "cell_type": "code",
   "execution_count": 3,
   "metadata": {
    "collapsed": false
   },
   "outputs": [
    {
     "name": "stdout",
     "output_type": "stream",
     "text": [
      "DataGeneration object is created !!\n",
      "[debug. before data normalization] loaded_data[0] =  [293.    1.    3.8   2.8   0.    0.    0.    0.    0.    0.   12.    0.\n",
      "   0.    0.    1.    0.   62.    0. ]\n",
      "loaded_data.shape =  (470, 18)\n",
      "transpose_loaded_data.shape =  (18, 470)\n",
      "(18, 470)\n",
      "(470, 18)\n",
      "[debug. after data normalization] loaded_data[0] =  [0.6226013  0.         0.4855967  0.02156081 0.         0.\n",
      " 0.         0.         0.         0.         0.33333334 0.\n",
      " 0.         0.         1.         0.         0.6212121  0.        ]\n",
      "total_data_num =  470 , test_data_num =  141\n",
      "length of test_data_index_list =  141\n",
      "length of training_data_index_list =  329\n",
      "training_data.shape =  (329, 18)\n",
      "test_data.shape =  (141, 18)\n",
      "training_data.shape =  (329, 18)\n",
      "test_data.shape =  (141, 18)\n"
     ]
    }
   ],
   "source": [
    "# DataGeneration 객체 생성\n",
    "seperation_rate = 0.3\n",
    "data_obj = DataGeneration('ThoracicSurgery', './ThoracicSurgery.csv', seperation_rate, True)  # normalize \n",
    "\n",
    "# training_data, test_data 생성\n",
    "(training_data, test_data) = data_obj.generate()\n",
    "\n",
    "print(\"training_data.shape = \", training_data.shape)\n",
    "print(\"test_data.shape = \", test_data.shape)"
   ]
  },
  {
   "cell_type": "code",
   "execution_count": 4,
   "metadata": {
    "collapsed": false
   },
   "outputs": [
    {
     "name": "stdout",
     "output_type": "stream",
     "text": [
      "training_x_data.shape =  (329, 17)\n",
      "training_t_data.shape =  (329, 1)\n",
      "test_x_data.shape =  (141, 17)\n",
      "test_x_data.shape =  (141, 17)\n"
     ]
    }
   ],
   "source": [
    "training_x_data = training_data[ :, 0:-1]\n",
    "training_t_data = training_data[ :, [-1]]\n",
    "\n",
    "print(\"training_x_data.shape = \", training_x_data.shape)\n",
    "print(\"training_t_data.shape = \", training_t_data.shape)\n",
    "\n",
    "test_x_data = test_data[ :, 0:-1]\n",
    "test_t_data = test_data[ :, [-1]]\n",
    "\n",
    "print(\"test_x_data.shape = \", test_x_data.shape)\n",
    "print(\"test_x_data.shape = \", test_x_data.shape)"
   ]
  },
  {
   "cell_type": "code",
   "execution_count": 5,
   "metadata": {
    "collapsed": true
   },
   "outputs": [],
   "source": [
    "# Hyper-Parameter Definition\n",
    "learning_rate = 1e-3\n",
    "input_nodes = training_x_data.shape[1]  # 17\n",
    "hidden_nodes = 10\n",
    "output_nodes = 1\n",
    "epochs = 1"
   ]
  },
  {
   "cell_type": "code",
   "execution_count": 6,
   "metadata": {
    "collapsed": false
   },
   "outputs": [],
   "source": [
    "# 입력과 출력을 위한 플레이스홀더 정의\n",
    "X_DATA = tf.placeholder(tf.float32, [None, input_nodes])  \n",
    "T_DATA = tf.placeholder(tf.float32, [None, output_nodes])  \n",
    "\n",
    "W2 = tf.Variable(tf.random_normal([input_nodes, hidden_nodes]))  # 은닉층 가중치 노드\n",
    "b2 = tf.Variable(tf.random_normal([hidden_nodes]))               # 은닉층 바이어스 노드\n",
    "\n",
    "W3 = tf.Variable(tf.random_normal([hidden_nodes, output_nodes])) # 출력층 가중치 노드\n",
    "b3 = tf.Variable(tf.random_normal([output_nodes]))               # 출력층 바이어스 노드"
   ]
  },
  {
   "cell_type": "code",
   "execution_count": 7,
   "metadata": {
    "collapsed": true
   },
   "outputs": [],
   "source": [
    "# feed forward\n",
    "Z2 = tf.matmul(X_DATA, W2) + b2\n",
    "A2 = tf.sigmoid(Z2)\n",
    "\n",
    "Z3 = tf.matmul(A2, W3) + b3  \n",
    "y = A3 = tf.sigmoid(Z3)    # 최종 계산값\n",
    "\n",
    "# 손실함수는 Cross-Entropy \n",
    "loss = -tf.reduce_mean( T_DATA*tf.log(y) + (1-T_DATA)*tf.log(1-y) ) "
   ]
  },
  {
   "cell_type": "code",
   "execution_count": 8,
   "metadata": {
    "collapsed": true
   },
   "outputs": [],
   "source": [
    "# GradientDescent \n",
    "optimizer = tf.train.GradientDescentOptimizer(learning_rate)\n",
    "\n",
    "train = optimizer.minimize(loss)  "
   ]
  },
  {
   "cell_type": "code",
   "execution_count": 9,
   "metadata": {
    "collapsed": true
   },
   "outputs": [],
   "source": [
    "# 정확성 검사, True if y > 0.5 else False\n",
    "\n",
    "# y shape 은 (759X8) (8X1) = 759X1, 즉 759개의 모든 데이터에 대해 y > 0.5 검사함\n",
    "# 그러므로 predicted 또한 759 개의 1 또는 0 을 가짐\n",
    "predicted = tf.cast(y > 0.5, dtype=tf.float32)  \n",
    "\n",
    "\n",
    "# predicted 와 T 같으면 True 를 리턴하므로 cast 에 의해서 1로 강제 변환, 그렇지 않으면 0으로 변환해서\n",
    "# accuracy 는 총 759 개의 1 또는 0 을 가짐. 이것을 전체 갯수 759로 나눔\n",
    "accuracy = tf.reduce_mean(tf.cast(tf.equal(predicted, T_DATA), dtype=tf.float32))"
   ]
  },
  {
   "cell_type": "code",
   "execution_count": 10,
   "metadata": {
    "collapsed": false
   },
   "outputs": [
    {
     "name": "stdout",
     "output_type": "stream",
     "text": [
      "epochs =  0 , step =  0 , loss_val =  0.4381559\n",
      "epochs =  0 , step =  500 , loss_val =  0.4349447\n",
      "epochs =  0 , step =  1000 , loss_val =  0.43318954\n",
      "epochs =  0 , step =  1500 , loss_val =  0.43212998\n",
      "epochs =  0 , step =  2000 , loss_val =  0.43141523\n",
      "epochs =  0 , step =  2500 , loss_val =  0.4308767\n",
      "epochs =  0 , step =  3000 , loss_val =  0.43043053\n",
      "epochs =  0 , step =  3500 , loss_val =  0.43003452\n",
      "epochs =  0 , step =  4000 , loss_val =  0.42966664\n",
      "epochs =  0 , step =  4500 , loss_val =  0.42931545\n",
      "epochs =  0 , step =  5000 , loss_val =  0.42897478\n",
      "epochs =  0 , step =  5500 , loss_val =  0.42864156\n",
      "epochs =  0 , step =  6000 , loss_val =  0.42831415\n",
      "epochs =  0 , step =  6500 , loss_val =  0.42799136\n",
      "epochs =  0 , step =  7000 , loss_val =  0.42767283\n",
      "epochs =  0 , step =  7500 , loss_val =  0.42735776\n",
      "epochs =  0 , step =  8000 , loss_val =  0.42704606\n",
      "epochs =  0 , step =  8500 , loss_val =  0.4267379\n",
      "epochs =  0 , step =  9000 , loss_val =  0.42643353\n",
      "epochs =  0 , step =  9500 , loss_val =  0.42613247\n",
      "epochs =  0 , step =  10000 , loss_val =  0.4258345\n",
      "\n",
      "Elapsed Time =>  0:00:05.875000\n",
      "\n",
      "y_val.shape =  (141, 1) , predicted_val =  (141, 1)\n",
      "\n",
      "Accuracy =  0.8439716\n"
     ]
    }
   ],
   "source": [
    "with  tf.Session()  as sess:\n",
    "    \n",
    "    sess.run(tf.global_variables_initializer())  # 변수 노드(tf.Variable) 초기화\n",
    "\n",
    "    start_time = datetime.now()\n",
    "    \n",
    "    for i in range(epochs):\n",
    "    \n",
    "        for step in range(10001):\n",
    "      \n",
    "            loss_val, _ = sess.run([loss, train], feed_dict={X_DATA: training_x_data, T_DATA: training_t_data})    \n",
    "        \n",
    "            if step % 500 == 0:\n",
    "                print(\"epochs = \", i, \", step = \", step, \", loss_val = \", loss_val)             \n",
    "    \n",
    "    end_time = datetime.now()\n",
    "    \n",
    "    print(\"\")\n",
    "    print(\"Elapsed Time => \", end_time-start_time)\n",
    "    \n",
    "    # Accuracy 확인\n",
    "    y_val, predicted_val, accuracy_val = sess.run([y, predicted, accuracy], feed_dict={X_DATA: test_x_data, T_DATA: test_t_data})\n",
    "    \n",
    "    print(\"\\ny_val.shape = \", y_val.shape, \", predicted_val = \", predicted_val.shape)    \n",
    "    print(\"\\nAccuracy = \", accuracy_val)"
   ]
  },
  {
   "cell_type": "code",
   "execution_count": null,
   "metadata": {
    "collapsed": true
   },
   "outputs": [],
   "source": []
  }
 ],
 "metadata": {
  "anaconda-cloud": {},
  "kernelspec": {
   "display_name": "Python [default]",
   "language": "python",
   "name": "python3"
  },
  "language_info": {
   "codemirror_mode": {
    "name": "ipython",
    "version": 3
   },
   "file_extension": ".py",
   "mimetype": "text/x-python",
   "name": "python",
   "nbconvert_exporter": "python",
   "pygments_lexer": "ipython3",
   "version": "3.5.2"
  }
 },
 "nbformat": 4,
 "nbformat_minor": 1
}
