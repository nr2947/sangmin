{
 "cells": [
  {
   "cell_type": "code",
   "execution_count": 1,
   "metadata": {
    "collapsed": false
   },
   "outputs": [
    {
     "name": "stdout",
     "output_type": "stream",
     "text": [
      "x_data.shape =  (25, 3)\n",
      "t_data.shape =  (25, 1)\n"
     ]
    }
   ],
   "source": [
    "import tensorflow as tf\n",
    "import numpy as np\n",
    "\n",
    "loaded_data = np.loadtxt('./data-01.csv', delimiter=',')\n",
    "\n",
    "x_data = loaded_data[ :, 0:-1]\n",
    "t_data = loaded_data[ :, [-1]]\n",
    "\n",
    "print(\"x_data.shape = \", x_data.shape)\n",
    "print(\"t_data.shape = \", t_data.shape)"
   ]
  },
  {
   "cell_type": "code",
   "execution_count": 2,
   "metadata": {
    "collapsed": true
   },
   "outputs": [],
   "source": [
    "W = tf.Variable(tf.random_normal([3, 1]))  # 가중치 노드\n",
    "b = tf.Variable(tf.random_normal([1]))     # 바이어스 노드\n",
    "\n",
    "X = tf.placeholder(tf.float32, [None, 3])  # None 은 총 데이터 갯수\n",
    "T = tf.placeholder(tf.float32, [None, 1])  # 정답데이터 노드"
   ]
  },
  {
   "cell_type": "code",
   "execution_count": 3,
   "metadata": {
    "collapsed": true
   },
   "outputs": [],
   "source": [
    "y = tf.matmul(X, W) + b  # 현재 X, W, b, 를 바탕으로 계산된 값\n",
    "\n",
    "loss = tf.reduce_mean(tf.square(y - T))  # MSE 손실함수 정의"
   ]
  },
  {
   "cell_type": "code",
   "execution_count": 6,
   "metadata": {
    "collapsed": true
   },
   "outputs": [],
   "source": [
    "learning_rate = 1e-5    # 학습율\n",
    "\n",
    "optimizer = tf.train.GradientDescentOptimizer(learning_rate)\n",
    "\n",
    "train = optimizer.minimize(loss)  "
   ]
  },
  {
   "cell_type": "code",
   "execution_count": 8,
   "metadata": {
    "collapsed": false
   },
   "outputs": [
    {
     "name": "stdout",
     "output_type": "stream",
     "text": [
      "step =  0 , loss_val =  5143.4277\n",
      "step =  2000 , loss_val =  9.583538\n",
      "step =  4000 , loss_val =  7.495896\n",
      "step =  6000 , loss_val =  6.8612037\n",
      "step =  8000 , loss_val =  6.6495185\n",
      "step =  10000 , loss_val =  6.574644\n",
      "step =  12000 , loss_val =  6.546908\n",
      "step =  14000 , loss_val =  6.5360723\n",
      "step =  16000 , loss_val =  6.5313897\n",
      "step =  18000 , loss_val =  6.5289135\n",
      "step =  20000 , loss_val =  6.527267\n",
      "step =  22000 , loss_val =  6.525922\n",
      "step =  24000 , loss_val =  6.524697\n",
      "step =  26000 , loss_val =  6.5234833\n",
      "step =  28000 , loss_val =  6.5223036\n",
      "step =  30000 , loss_val =  6.5211353\n",
      "step =  32000 , loss_val =  6.5199547\n",
      "step =  34000 , loss_val =  6.5187945\n",
      "step =  36000 , loss_val =  6.517622\n",
      "step =  38000 , loss_val =  6.5164423\n",
      "step =  40000 , loss_val =  6.515263\n",
      "\n",
      "Prediction is  [[178.81]]\n"
     ]
    }
   ],
   "source": [
    "with  tf.Session()  as sess:\n",
    "    \n",
    "    sess.run(tf.global_variables_initializer())  # 변수 노드(tf.Variable) 초기화\n",
    "\n",
    "    for step in range(40001):\n",
    "      \n",
    "        loss_val, y_val, _ = sess.run([loss, y, train], feed_dict={X: x_data, T: t_data})    \n",
    "        \n",
    "        \n",
    "        if step % 2000 == 0:\n",
    "            print(\"step = \", step, \", loss_val = \", loss_val)             \n",
    "    \n",
    "    print(\"\\nPrediction is \", sess.run(y, feed_dict={X: [ [100, 98, 81] ]}))  "
   ]
  },
  {
   "cell_type": "code",
   "execution_count": null,
   "metadata": {
    "collapsed": true
   },
   "outputs": [],
   "source": []
  }
 ],
 "metadata": {
  "anaconda-cloud": {},
  "kernelspec": {
   "display_name": "Python [default]",
   "language": "python",
   "name": "python3"
  },
  "language_info": {
   "codemirror_mode": {
    "name": "ipython",
    "version": 3
   },
   "file_extension": ".py",
   "mimetype": "text/x-python",
   "name": "python",
   "nbconvert_exporter": "python",
   "pygments_lexer": "ipython3",
   "version": "3.5.2"
  }
 },
 "nbformat": 4,
 "nbformat_minor": 1
}
