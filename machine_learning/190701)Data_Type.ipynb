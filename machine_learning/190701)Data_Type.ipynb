{
 "cells": [
  {
   "cell_type": "markdown",
   "metadata": {},
   "source": [
    "### Python Basic Data Type "
   ]
  },
  {
   "cell_type": "code",
   "execution_count": 4,
   "metadata": {},
   "outputs": [
    {
     "name": "stdout",
     "output_type": "stream",
     "text": [
      "a[0] == 10, a[2] == 30, a[4] == 50\n",
      "a[-1] == 50, a[-2] == 40, a[-5] == 10\n"
     ]
    }
   ],
   "source": [
    "# list\n",
    "\n",
    "a = [10, 20, 30, 40, 50]\n",
    "\n",
    "print(\"a[0] == %d, a[2] == %d, a[4] == %d\" % (a[0], a[2], a[4]))\n",
    "print(\"a[-1] == {}, a[-2] == {}, a[-5] == {}\".format(a[-1], a[-2], a[-5]))"
   ]
  },
  {
   "cell_type": "code",
   "execution_count": 14,
   "metadata": {},
   "outputs": [
    {
     "name": "stdout",
     "output_type": "stream",
     "text": [
      "b[0] == 10, b[2] == Hello, b[3] == [True, 3.14]\n",
      "b[3][0] == True, b[3][1] == 3.14\n",
      "b[-1][-1] == 3.14, b[-1][-2] == True\n"
     ]
    }
   ],
   "source": [
    "# variety data type\n",
    "\n",
    "b = [ 10, 20, \"Hello\", [True, 3.14] ]\n",
    "\n",
    "print(\"b[0] == {}, b[2] == {}, b[3] == {}\".format(b[0], b[2], b[3]))\n",
    "print(\"b[3][0] == {}, b[3][1] == {}\".format(b[3][0], b[3][1]))\n",
    "print(\"b[-1][-1] == {}, b[-1][-2] == {}\".format(b[-1][-1], b[-1][-2]))\n"
   ]
  },
  {
   "cell_type": "code",
   "execution_count": 32,
   "metadata": {},
   "outputs": [
    {
     "name": "stdout",
     "output_type": "stream",
     "text": [
      "a[0:2] == [10, 20], a[1:] == [20, 30, 40, 50]\n",
      "a[:3] == [10, 20, 30] , a[:-2] ==  [10, 20, 30]\n",
      "a[:] ==  [10, 20, 30, 40, 50]\n"
     ]
    }
   ],
   "source": [
    "# slicing\n",
    "\n",
    "a = [ 10 * x for x in range(1,6)]\n",
    "\n",
    "print(\"a[0:2] == %s, a[1:] == %s\"% (a[0:2], a[1:]))\n",
    "print(\"a[:3] ==\", a[:3], \", a[:-2] == \", a[:-2])\n",
    "print(\"a[:] == \", a[:])"
   ]
  },
  {
   "cell_type": "code",
   "execution_count": 34,
   "metadata": {},
   "outputs": [
    {
     "name": "stdout",
     "output_type": "stream",
     "text": [
      "(10, 20, 30, 40, 50)\n"
     ]
    }
   ],
   "source": [
    "# tuple\n",
    "\n",
    "a = ( 10, 20, 30, 40, 50 )\n",
    "\n",
    "# a[0] = 100     값 변경 불가 => 오류발생\n",
    "\n",
    "print(a[:])"
   ]
  },
  {
   "cell_type": "code",
   "execution_count": 41,
   "metadata": {},
   "outputs": [
    {
     "name": "stdout",
     "output_type": "stream",
     "text": [
      "score[KIM] ==  90\n",
      "{'KIM': 90, 'LEE': 85, 'JUN': 95, 'HAN': 100}\n",
      "dict_keys(['KIM', 'LEE', 'JUN', 'HAN'])\n",
      "dict_values([90, 85, 95, 100])\n",
      "dict_items([('KIM', 90), ('LEE', 85), ('JUN', 95), ('HAN', 100)])\n"
     ]
    }
   ],
   "source": [
    "# dictionary\n",
    "\n",
    "score = {\n",
    "    \"KIM\" : 90,\n",
    "    \"LEE\" : 85,\n",
    "    \"JUN\" : 95\n",
    "}\n",
    "\n",
    "print(\"score[KIM] == \", score['KIM'])\n",
    "\n",
    "score['HAN'] = 100   # 새 원소 추가\n",
    "print(score)\n",
    "\n",
    "# key , value\n",
    "\n",
    "print(score.keys())\n",
    "print(score.values())\n",
    "print(score.items())"
   ]
  },
  {
   "cell_type": "code",
   "execution_count": 43,
   "metadata": {},
   "outputs": [
    {
     "name": "stdout",
     "output_type": "stream",
     "text": [
      "7\n",
      "A73,CD, EFG\n",
      "['A73', 'CD', ' EFG']\n"
     ]
    }
   ],
   "source": [
    "# string\n",
    "\n",
    "a = \"A73,CD\"\n",
    "print(a[1])\n",
    "a = a + ', EFG'\n",
    "print(a)\n",
    "\n",
    "b = a.split(',')\n",
    "print(b)"
   ]
  },
  {
   "cell_type": "code",
   "execution_count": 44,
   "metadata": {},
   "outputs": [
    {
     "name": "stdout",
     "output_type": "stream",
     "text": [
      "<class 'list'> <class 'tuple'> <class 'dict'> <class 'str'> <class 'list'>\n",
      "5 5 2 12 3\n"
     ]
    }
   ],
   "source": [
    "# type(), len()\n",
    "\n",
    "a = [ 10, 20, 30, 40, 50 ]\n",
    "b = ( 10, 20, 30, 40, 50 )\n",
    "c = { \"KIM\":90, \"LEE\":80 }\n",
    "d = 'Seoul, Korea'\n",
    "e = [ [100, 200], [300, 400], [500, 600]]\n",
    "\n",
    "print(type(a), type(b), type(c), type(d), type(e))\n",
    "print(len(a), len(b), len(c), len(d), len(e))"
   ]
  }
 ],
 "metadata": {
  "kernelspec": {
   "display_name": "Python 3",
   "language": "python",
   "name": "python3"
  },
  "language_info": {
   "codemirror_mode": {
    "name": "ipython",
    "version": 3
   },
   "file_extension": ".py",
   "mimetype": "text/x-python",
   "name": "python",
   "nbconvert_exporter": "python",
   "pygments_lexer": "ipython3",
   "version": "3.6.5"
  }
 },
 "nbformat": 4,
 "nbformat_minor": 2
}
